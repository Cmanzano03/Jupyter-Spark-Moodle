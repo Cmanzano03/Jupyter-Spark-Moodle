{
 "cells": [
  {
   "cell_type": "markdown",
   "metadata": {},
   "source": [
    "# Filtrado de tablas para obtener información de actividades solo de la asignatura IP\n"
   ]
  },
  {
   "cell_type": "markdown",
   "metadata": {},
   "source": [
    "El objetivo de este script es el de filtrar las tablas que recogen información de las tareas entregadas para obtener solo aquellas relativas  al curso de ip, y así evitar tener que hacer un join para concatenar usuario con la tarea y otro para unir estas tuplas con solo las tareas pertenecientes a un curso. \n",
    "\n",
    "A la hora de concatenar, solo nos quedaremos con los atributos de utilidad de cada tabla."
   ]
  },
  {
   "cell_type": "markdown",
   "metadata": {},
   "source": [
    "## Configuración "
   ]
  },
  {
   "cell_type": "code",
   "execution_count": 7,
   "metadata": {},
   "outputs": [],
   "source": [
    "from pyspark.sql import SparkSession\n",
    "from pyspark.sql.functions import col\n",
    "import os\n",
    "\n",
    "# Configuración\n",
    "curso_ip = 8683\n",
    "ruta_origen = \"/home/carlos/Documentos/TFG/spark-workspace/data/raw\"\n",
    "ruta_destino = \"/home/carlos/Documentos/TFG/spark-workspace/data/intermediate\"\n",
    "os.makedirs(ruta_destino, exist_ok=True)\n",
    "\n",
    "# Crear sesión Spark\n",
    "spark = SparkSession.builder \\\n",
    "    .appName(\"Filtrado datos curso IP\") \\\n",
    "    .master(\"local[*]\") \\\n",
    "    .config(\"spark.sql.shuffle.partitions\", \"8\") \\\n",
    "    .getOrCreate()\n"
   ]
  },
  {
   "cell_type": "markdown",
   "metadata": {},
   "source": [
    "## Filtrado de assignments y concatenación de entregas y notas"
   ]
  },
  {
   "cell_type": "markdown",
   "metadata": {},
   "source": [
    "Tras realizar esta operación, nos quedaremos con una única tabla  `assign_submission_grade_cmi` que va a tener información de  todas las tareas entregadas por los estudiantes de ip, junto con la calificación que obtuvieron en ellas.\n",
    "\n",
    " Es clave comprender que, dado que haremos un `inner join` entre las tareas de la asignatura, con las entregas asociadas a ellas, solo se guardarán como resultado de la unión aquellas tareas que tienen asociadas al menos una entrega, que son las que tienen validez para las métricas que se pretenden calcular. "
   ]
  },
  {
   "cell_type": "code",
   "execution_count": 8,
   "metadata": {},
   "outputs": [
    {
     "name": "stdout",
     "output_type": "stream",
     "text": [
      "Número de envíos de tareas del curso 8683: 1309\n",
      "Número de envíos de tareas con notas del curso 8683: 1309\n",
      "\n",
      "Comprobamos que no exista más de una entrega por usuario para una misma tarea.\n",
      "Número de usuarios con más de una entrega por tarea: 4 \n",
      "\n",
      "Nombre de los usuarios con más de una entrega por tarea, junto a la tarea en la que tienen más de una entrega y el número de entregas\n",
      "+----------------------------------------------------------------+----------+-----+\n",
      "|userid                                                          |assignment|count|\n",
      "+----------------------------------------------------------------+----------+-----+\n",
      "|5feceb66ffc86f38d952786c6d696c79c2dbc239dd4e91b46729d73a27fb57e9|108682    |29   |\n",
      "|5feceb66ffc86f38d952786c6d696c79c2dbc239dd4e91b46729d73a27fb57e9|108640    |62   |\n",
      "|5feceb66ffc86f38d952786c6d696c79c2dbc239dd4e91b46729d73a27fb57e9|109226    |61   |\n",
      "|5feceb66ffc86f38d952786c6d696c79c2dbc239dd4e91b46729d73a27fb57e9|113721    |58   |\n",
      "+----------------------------------------------------------------+----------+-----+\n",
      "\n",
      "Primera cinco filas del dataframe generado:\n",
      "+----------------------------------------------------------------+----------+-------------+----------+------------------------+-----------------------------------------------------------+-------+\n",
      "|userid                                                          |assignment|timesubmitted|duedate   |allowsubmissionsfromdate|name                                                       |grade  |\n",
      "+----------------------------------------------------------------+----------+-------------+----------+------------------------+-----------------------------------------------------------+-------+\n",
      "|21ca70cb3dc6e0a866f2084c0c3aafa3801f9f231aa5fcd20fc355bf100dc529|7592      |1694522237   |1695678900|0                       |Actividad 00. Actualización del perfil en el campus virtual|2.00000|\n",
      "|5d0ebbbf8e15cc84019788e6d98a7c04ea5f12323b3acdf51a76a4819e1fdac7|7592      |1694517609   |1695678900|0                       |Actividad 00. Actualización del perfil en el campus virtual|2.00000|\n",
      "|df7ce50a753bbb53b8e1d9eaf6a3432fa82b4e47e002142d2cf924451f3b39b1|7592      |1694515840   |1695678900|0                       |Actividad 00. Actualización del perfil en el campus virtual|2.00000|\n",
      "|f27dcf10007aa8bde2a1ba7ed7e68f94a1f87524cc5ac88a36f2e2f51adb5355|7592      |1694489667   |1695678900|0                       |Actividad 00. Actualización del perfil en el campus virtual|2.00000|\n",
      "|331604ad8e671e98e4187d20b8e26c96c33853b1d64702279a5b046a61756589|7592      |1694525399   |1695678900|0                       |Actividad 00. Actualización del perfil en el campus virtual|2.00000|\n",
      "+----------------------------------------------------------------+----------+-------------+----------+------------------------+-----------------------------------------------------------+-------+\n",
      "only showing top 5 rows\n",
      "root\n",
      " |-- userid: string (nullable = true)\n",
      " |-- assignment: long (nullable = true)\n",
      " |-- timesubmitted: long (nullable = true)\n",
      " |-- duedate: long (nullable = true)\n",
      " |-- allowsubmissionsfromdate: long (nullable = true)\n",
      " |-- name: string (nullable = true)\n",
      " |-- grade: string (nullable = true)\n",
      "\n",
      "assign_submission_grade_cmi.parquet creado :)\n"
     ]
    }
   ],
   "source": [
    "# Leer datos de asignaciones y envíos\n",
    "from math import trunc\n",
    "\n",
    "\n",
    "assign = spark.read.parquet(f\"{ruta_origen}/assign_cmi.parquet\")\n",
    "submissions = spark.read.parquet(f\"{ruta_origen}/assign_submission_cmi.parquet\")\n",
    "\n",
    "\n",
    "# Filtrar tabla para quedarnos solo con las tareas de ip , y quedarnos solo con los campos necesarios\n",
    "assign_ip = assign.filter(col(\"course\") == curso_ip).select(\n",
    "    \"id\", \"duedate\", \"allowsubmissionsfromdate\", \"name\"\n",
    ")\n",
    "# Concatenamos tareas con sus entregas de tal modo que no se obtendrán las tareas que no tienen asociada ninguna entrega.\n",
    "submissions_ip = (\n",
    "    submissions.join(assign_ip, submissions.assignment == assign_ip.id, \"inner\")\n",
    "    .withColumnRenamed(\"timemodified\", \"timesubmitted\")\n",
    "    .drop(\"id\")\n",
    ")\n",
    "\n",
    "\n",
    "\n",
    "number_of_submissions = submissions_ip.count()\n",
    "\n",
    "print(f\"Número de envíos de tareas del curso {curso_ip}: {number_of_submissions}\")\n",
    "\n",
    "\n",
    "# Concatenar submissions con grades, para tener información junta de entregas y notas.\n",
    "grades = spark.read.parquet(f\"{ruta_origen}/assign_grades_cmi.parquet\")\n",
    "grades_filtered = grades.select(\"userid\", \"assignment\", \"grade\")\n",
    "\n",
    "assign_submission_grade_cmi = submissions_ip.join(\n",
    "    grades_filtered, on=[\"userid\", \"assignment\"], how=\"left\"\n",
    ").drop(\"status\")\n",
    "\n",
    "#Comprobamos el número de tuplas tras la unión, para verificar si aumenta el número de tuplas,\n",
    "#lo cual podría significar que puede haber asociadas varias notas para una misma entrega.\n",
    "number_of_assign_submission_grade = assign_submission_grade_cmi.count()\n",
    "print(f\"Número de envíos de tareas con notas del curso {curso_ip}: {number_of_assign_submission_grade}\\n\")\n",
    "\n",
    "print(\"Comprobamos que no exista más de una entrega por usuario para una misma tarea.\")\n",
    "\n",
    "num_subByUser = (\n",
    "    assign_submission_grade_cmi\n",
    "    .groupBy(\"userid\", \"assignment\")\n",
    "    .count()\n",
    "    .filter(col(\"count\") > 1)\n",
    ")\n",
    "\n",
    "num_subByUser_count = num_subByUser.count()\n",
    "print(f\"Número de usuarios con más de una entrega por tarea: {num_subByUser_count} \\n\")\n",
    "print(\"Nombre de los usuarios con más de una entrega por tarea, junto a la tarea en la que tienen más de una entrega y el número de entregas\")\n",
    "num_subByUser.show(num_subByUser_count, truncate=False)\n",
    "\n",
    "print(\"Primera cinco filas del dataframe generado:\")\n",
    "assign_submission_grade_cmi.show(5, truncate=False)\n",
    "\n",
    "assign_submission_grade_cmi.printSchema()\n",
    "\n",
    "# Escribir el dataframe a parquet \n",
    "assign_submission_grade_cmi.write.mode(\"overwrite\").parquet(f\"{ruta_destino}/assign_submission_grade_cmi.parquet\")\n",
    "print(\"assign_submission_grade_cmi.parquet creado :)\")\n",
    "\n"
   ]
  },
  {
   "cell_type": "markdown",
   "metadata": {},
   "source": [
    "Como podemos apreciar, el número de tuplas que tiene el dataframe producto de la unión de tareas con entregas es igual al valor devuelto al calcularlo para el dataframe resultante de la unión del anterior con las notas por cada usuario y tarea. Por lo tanto, se ha verificado con éxito que no existe más de una nota publicada para cada entrega de una tarea.\n",
    "\n",
    "Por otra parte, se ha podido apreciar que, mientras que en la mayroría de casos solo hay una sola entrega asociada a un usuario, hay cuatro usuarios que presentan muchísimas más entregas, algo que resulta muy extraño."
   ]
  },
  {
   "cell_type": "markdown",
   "metadata": {},
   "source": [
    "## Exploración de los datos \n"
   ]
  },
  {
   "cell_type": "markdown",
   "metadata": {},
   "source": [
    "A continuación, se van a explorar  los datos obtenidos en la anterior celda. En primer lugar, las aulas pueden tener muchas actividades publicadas, pero que permanecen durante el curso ocultas para los alumnos dado que son de utilidad al profesorado pero no se pretende que las realicen los alumnos. Por lo tanto, para nuestras métricas solo se deberán considerar aquellas que hayan sido realmente publicadas durante el curso.\n",
    "\n",
    "Para ello, analizaremos , del total de tareas que están publicadas en el aula, cuales de ellas tienen registrada al menos una entrega, dado que esto significará que estuvo visible.\n",
    "\n",
    "Al  calcularse la unión de las entregas con las actividades  para dar lugar al dataframe `submissions_ip` se hizo un `inner join`, aquellas tareas que no tuvieran asociadas ninguna entrega no cumplieron la condición de join y por lo tanto no fueron devueltas en la operación. \n",
    "\n",
    "Por este motivo, para comprobar qué tareas realmente tuvieron alguna entrega nos bastará con contar el número de tuplas de ese dataframe, quedandonos solo con los valores distintos del identificador de tarea, para evitar contar el número de entregas de cada tarea."
   ]
  },
  {
   "cell_type": "code",
   "execution_count": 3,
   "metadata": {},
   "outputs": [
    {
     "name": "stdout",
     "output_type": "stream",
     "text": [
      "Número total de tareas: 34\n",
      "Número de tareas con al menos una entrega: 14 \n",
      "\n",
      "===========================================\n",
      "\n",
      "Identificador, nombre y fecha de entrega de todas las tareas\n",
      "+------+--------------------------------------------------------------------------------------------------------------------------+-----------------+\n",
      "|id    |name                                                                                                                      |duedate_formatted|\n",
      "+------+--------------------------------------------------------------------------------------------------------------------------+-----------------+\n",
      "|7592  |Actividad 00. Actualización del perfil en el campus virtual                                                               |23/09/25         |\n",
      "|96123 |Calificación y comentarios de la actividad 02                                                                             |70/01/01         |\n",
      "|107688|Entrega actividad 07                                                                                                      |23/11/20         |\n",
      "|89174 |Entrega actividad 10                                                                                                      |21/12/16         |\n",
      "|87956 |Entrega actividad 8                                                                                                       |21/11/22         |\n",
      "|57941 |Entrega de la actividad 06: Números triangulares                                                                          |20/11/09         |\n",
      "|108682|Entrega de la actividad 08 - Proyecto - Parejas - NO VALE                                                                 |23/12/11         |\n",
      "|108640|Entrega de la actividad 08 - Realizada en pareja                                                                          |23/12/11         |\n",
      "|108641|Entrega de la actividad 08 - Realizada individualmente                                                                    |23/12/11         |\n",
      "|98388 |Entrega de la actividad 08.                                                                                               |22/11/21         |\n",
      "|72910 |Entrega de la actividad 2                                                                                                 |20/10/05         |\n",
      "|87501 |Entrega de la actividad 2 - Manifestación                                                                                 |21/11/14         |\n",
      "|73578 |Entrega de la actividad 2 extra                                                                                           |20/10/19         |\n",
      "|73384 |Entrega de la actividad 3                                                                                                 |20/10/19         |\n",
      "|87502 |Entrega de la actividad 3 - Primorial                                                                                     |21/11/14         |\n",
      "|74061 |Entrega de la actividad 4                                                                                                 |20/10/26         |\n",
      "|87503 |Entrega de la actividad 4 - Subfactorial                                                                                  |21/11/14         |\n",
      "|75353 |Entrega de la actividad 7                                                                                                 |22/11/14         |\n",
      "|76316 |Entrega de la actividad 8                                                                                                 |20/12/03         |\n",
      "|88771 |Entrega de la actividad 9                                                                                                 |22/12/12         |\n",
      "|83808 |Entrega del proyecto Juego \"Set\"                                                                                          |22/01/13         |\n",
      "|94372 |Entrega del proyecto Juego \"Set\" (adelanto de convocatoria)                                                               |22/05/30         |\n",
      "|94839 |Entrega del proyecto Juego \"Set\" (junio)                                                                                  |22/06/29         |\n",
      "|99927 |Entrega del proyecto de programación \"Number Match\"                                                                       |23/01/19         |\n",
      "|104574|Entrega del proyecto de programación \"Number Match\"                                                                       |23/06/19         |\n",
      "|104301|Entrega del proyecto de programación \"Number Match\" - Solo para las personas que han adelantado convocatoria en secretaría|23/05/23         |\n",
      "|113317|Entrega del proyecto de programación Gomoku                                                                               |24/05/27         |\n",
      "|109226|Entrega del proyecto de programación Gomoku - Realizado en pareja                                                         |24/01/24         |\n",
      "|113721|Entrega del proyecto de programación Gomoku - Realizado en pareja                                                         |24/07/01         |\n",
      "|108047|Entrega del proyecto de programación Gomoku - Realizado individualmente                                                   |24/01/24         |\n",
      "|113720|Entrega del proyecto de programación Gomoku - Realizado individualmente                                                   |24/07/01         |\n",
      "|76006 |Enunciado y entrega del examen                                                                                            |70/01/01         |\n",
      "|74627 |Reflexión sobre la Actividad 4                                                                                            |20/11/03         |\n",
      "|58781 |Tarea para la entrega de la Actividad 09                                                                                  |20/12/16         |\n",
      "+------+--------------------------------------------------------------------------------------------------------------------------+-----------------+\n",
      "\n",
      "\n",
      "\n",
      "Identificador, nombre y fecha de entrega de las tareas con al menos una entrega\n",
      "+----------+-----------------------------------------------------------------------+-----------------+\n",
      "|assignment|name                                                                   |duedate_formatted|\n",
      "+----------+-----------------------------------------------------------------------+-----------------+\n",
      "|7592      |Actividad 00. Actualización del perfil en el campus virtual            |23/09/25         |\n",
      "|96123     |Calificación y comentarios de la actividad 02                          |70/01/01         |\n",
      "|107688    |Entrega actividad 07                                                   |23/11/20         |\n",
      "|108682    |Entrega de la actividad 08 - Proyecto - Parejas - NO VALE              |23/12/11         |\n",
      "|108640    |Entrega de la actividad 08 - Realizada en pareja                       |23/12/11         |\n",
      "|108641    |Entrega de la actividad 08 - Realizada individualmente                 |23/12/11         |\n",
      "|98388     |Entrega de la actividad 08.                                            |22/11/21         |\n",
      "|88771     |Entrega de la actividad 9                                              |22/12/12         |\n",
      "|99927     |Entrega del proyecto de programación \"Number Match\"                    |23/01/19         |\n",
      "|113317    |Entrega del proyecto de programación Gomoku                            |24/05/27         |\n",
      "|109226    |Entrega del proyecto de programación Gomoku - Realizado en pareja      |24/01/24         |\n",
      "|113721    |Entrega del proyecto de programación Gomoku - Realizado en pareja      |24/07/01         |\n",
      "|108047    |Entrega del proyecto de programación Gomoku - Realizado individualmente|24/01/24         |\n",
      "|113720    |Entrega del proyecto de programación Gomoku - Realizado individualmente|24/07/01         |\n",
      "+----------+-----------------------------------------------------------------------+-----------------+\n",
      "\n"
     ]
    }
   ],
   "source": [
    "\n",
    "from pyspark.sql.functions import from_unixtime, date_format\n",
    "\n",
    "# Número total de tareas del curso\n",
    "num_total_tareas_ip = assign_ip.select(\"id\").distinct().count()\n",
    "\n",
    "# Número de tareas con al menos una entrega asociada\n",
    "num_tareas_con_entregas_ip = assign_submission_grade_cmi.select(\"assignment\").distinct().count() \n",
    "\n",
    "print(f\"Número total de tareas: {num_total_tareas_ip}\")\n",
    "print(f\"Número de tareas con al menos una entrega: {num_tareas_con_entregas_ip} \\n\")\n",
    "\n",
    "print(\"===========================================\\n\")\n",
    "\n",
    "print(\"Identificador, nombre y fecha de entrega de todas las tareas\")\n",
    "\n",
    "assign_ip_f = assign_ip.withColumn(\n",
    "      \"duedate_formatted\", date_format(from_unixtime(col(\"duedate\")), \"yy/MM/dd\")\n",
    ")\n",
    "assign_ip_f.select(\"id\", \"name\", \"duedate_formatted\").orderBy(\"name\").show(100, truncate=False)\n",
    "\n",
    "print(\"\\n\")\n",
    "print(\"Identificador, nombre y fecha de entrega de las tareas con al menos una entrega\")\n",
    "\n",
    "assign_submission_grade_cmi_F = assign_submission_grade_cmi.withColumn(\n",
    "      \"duedate_formatted\", date_format(from_unixtime(col(\"duedate\")), \"yy/MM/dd\")\n",
    ")\n",
    "assign_submission_grade_cmi_F.select(\n",
    "      \"assignment\", \"name\", \"duedate_formatted\"\n",
    ").dropDuplicates([\"assignment\"]).orderBy(\"name\").show(100, truncate=False)\n",
    "    "
   ]
  },
  {
   "cell_type": "markdown",
   "metadata": {},
   "source": [
    "Tras ver detenidamente la salida, podemos apreciar algo muy extraño.\n",
    "\n",
    "La gran mayoría de las tareas del aula, no tienen asociada ninguna entrega en el curso que se está considerando. Se tiene que estudiar a qué se puede debrer esto, dado que resulta muy extraño que solo se tenga información de entregas en la primera tarea del curso, y de las entregas del proyecto de la asignatura, pero no de ninguna de las que se producen en los meses de octubre y noviembre. Además, se puede observar que hay registradas entregas en tareas que en principio, finalizaban en años anteriores.\n",
    "\n",
    "Por ejemplo, fijemonos en todas las entregas que hizo un estudiante  aleatorio a lo largo de un curso.\n"
   ]
  },
  {
   "cell_type": "code",
   "execution_count": 4,
   "metadata": {},
   "outputs": [
    {
     "name": "stdout",
     "output_type": "stream",
     "text": [
      "+----------------------------------------------------------------+----------+-----------------------------------------------------------------------+--------+-----------------------+-----------------+\n",
      "|userid                                                          |assignment|name                                                                   |grade   |timesubmitted_formatted|duedate_formatted|\n",
      "+----------------------------------------------------------------+----------+-----------------------------------------------------------------------+--------+-----------------------+-----------------+\n",
      "|df7ce50a753bbb53b8e1d9eaf6a3432fa82b4e47e002142d2cf924451f3b39b1|7592      |Actividad 00. Actualización del perfil en el campus virtual            |2.00000 |12/09/23               |23/09/25         |\n",
      "|df7ce50a753bbb53b8e1d9eaf6a3432fa82b4e47e002142d2cf924451f3b39b1|107688    |Entrega actividad 07                                                   |-1.00000|19/11/23               |23/11/20         |\n",
      "|df7ce50a753bbb53b8e1d9eaf6a3432fa82b4e47e002142d2cf924451f3b39b1|108047    |Entrega del proyecto de programación Gomoku - Realizado individualmente|NULL    |02/01/24               |24/01/24         |\n",
      "|df7ce50a753bbb53b8e1d9eaf6a3432fa82b4e47e002142d2cf924451f3b39b1|108641    |Entrega de la actividad 08 - Realizada individualmente                 |-1.00000|12/12/23               |23/12/11         |\n",
      "|df7ce50a753bbb53b8e1d9eaf6a3432fa82b4e47e002142d2cf924451f3b39b1|108682    |Entrega de la actividad 08 - Proyecto - Parejas - NO VALE              |-1.00000|03/12/23               |23/12/11         |\n",
      "|df7ce50a753bbb53b8e1d9eaf6a3432fa82b4e47e002142d2cf924451f3b39b1|113720    |Entrega del proyecto de programación Gomoku - Realizado individualmente|0.00000 |30/06/24               |24/07/01         |\n",
      "+----------------------------------------------------------------+----------+-----------------------------------------------------------------------+--------+-----------------------+-----------------+\n",
      "\n"
     ]
    }
   ],
   "source": [
    "as_sub_grad_submitFormatted = assign_submission_grade_cmi_F.withColumn(\n",
    "    \"timesubmitted_formatted\", date_format(from_unixtime(col(\"timesubmitted\")), \"dd/MM/yy\")\n",
    ")\n",
    "(as_sub_grad_submitFormatted.filter(col(\"userid\") == \"df7ce50a753bbb53b8e1d9eaf6a3432fa82b4e47e002142d2cf924451f3b39b1\" )\n",
    "      .select(\"userid\", \"assignment\",\"name\", \"grade\", \"timesubmitted_formatted\", \"duedate_formatted\")\n",
    "      .orderBy(\"assignment\", \"timesubmitted_formatted\")\n",
    "      .show(100, truncate=False)\n",
    " )"
   ]
  },
  {
   "cell_type": "markdown",
   "metadata": {},
   "source": [
    " ## Unión con los usuarios con permiso de alumno y matriculados en la asignatura"
   ]
  },
  {
   "cell_type": "markdown",
   "metadata": {},
   "source": [
    "A coninuación, vamos a verificar si hay cambios en los datos cuando hacemos un join con la tabla en la que se guarda el id de los alumnos que estaban inscritos al curso el año pasado. Quizás, de este modo se eliminan los usuarios que tenian múltiples entregas para una sola tarea. Si bien la lógica nos dice, que al haber filtrado los datos de las tareas para quedarnos solo con los de la asignatura ip, y que por lo tanto los datos recogidos de las entregas deberían coincidir con los alumnos de la asignatura, así nos aseguramos que no se cualen datos sucios."
   ]
  },
  {
   "cell_type": "code",
   "execution_count": null,
   "metadata": {},
   "outputs": [
    {
     "name": "stdout",
     "output_type": "stream",
     "text": [
      "+----------------------------------------------------------------+\n",
      "|userid                                                          |\n",
      "+----------------------------------------------------------------+\n",
      "|3b8d431cbee3182d06225f9d5ab51f5806e8042f145e0ad0e37d98f56ae78f3d|\n",
      "|433f2e41671277b91cbda1dda12bc3477b7878d5be5eb9afa3d63b71ec78d056|\n",
      "|368093a57fe640879a9fc57ecb7e2c846b7dadf19620bfc9c4c001daeaf9af0f|\n",
      "|b9e0860774ffb5d35b7f2ad407b538facb010076d5107cdce63f299dbc5415da|\n",
      "|1416df0e4f8e87e449252eb090626d70cd44503423c5e0372668c647c840daca|\n",
      "+----------------------------------------------------------------+\n",
      "only showing top 5 rows\n",
      "\n",
      "\n",
      "Número de tuplas de la tabla tras unir con los alumnos matriculados: 1071\n",
      "\n",
      "Comprobamos si existe ahora el usuario que tenía multiples entregas sobre varias tareas\n",
      "+------+\n",
      "|userid|\n",
      "+------+\n",
      "+------+\n",
      "\n",
      "Ahora, podemos comprobar cuantos usuarios han dejado de ser considerados tras unir con los alumnos matriculados, es decir, cuantos usuarios de los que había presente en la primera tabla realmente \n",
      " eran alumnos de la asignatura ese curso\n",
      "\n",
      "Número de usuarios presentes en la primera tabla sin filtrar por alumnos matriculados : 209\n",
      "\n",
      "Número de usuarios presentes en la segunda tabla filtrada por alumnos matriculados : 201\n",
      "\n"
     ]
    }
   ],
   "source": [
    "alumnos_ip = spark.read.parquet(f\"{ruta_origen}/alumnos_ip_cmi.parquet\")\n",
    "\n",
    "print(\"\\n\")\n",
    "\n",
    "# Unir los datos de alumnos con las entregas y notas\n",
    "as_sub_grad_alumnnos = assign_submission_grade_cmi.join(alumnos_ip, on=\"userid\", how=\"inner\")\n",
    "print (f\"Número de tuplas de la tabla tras unir con los alumnos matriculados: {as_sub_grad_alumnnos.count()}\\n\")\n",
    "\n",
    "print(\"Comprobamos si existe ahora el usuario que tenía multiples entregas sobre varias tareas\")\n",
    "\n",
    "as_sub_grad_alumnnos.filter(col(\"userid\") == \"5feceb66ffc86f38d952786c6d696c79c2dbc239dd4e91b46729d73a27fb57e9\").select(\"userid\").distinct().show() \n",
    "\n",
    "print(\"Ahora, podemos comprobar cuantos usuarios han dejado de ser considerados tras unir con los alumnos matriculados, es decir, cuantos usuarios de los que había presente en la primera tabla realmente \\n eran alumnos de la asignatura ese curso\\n\")\n",
    "num_users_1 = assign_submission_grade_cmi.select(\"userid\").distinct().count()\n",
    "num_users_2 = as_sub_grad_alumnnos.select(\"userid\").distinct().count()\n",
    "print(f\"Número de usuarios presentes en la primera tabla sin filtrar por alumnos matriculados : {num_users_1}\\n\")\n",
    "print(f\"Número de usuarios presentes en la segunda tabla filtrada por alumnos matriculados : {num_users_2}\\n\")\n"
   ]
  },
  {
   "cell_type": "markdown",
   "metadata": {},
   "source": [
    "En primer lugar, podemos apreciar que, tras realizar el join han desaparecido varias tuplas, dado que en la tabla inicialmente había 1309 en un inicio, y ahora han desaparecido varias, dado que tras el join hay 1071. En concreto, han desaparecido 8 usuarios de la tabla, y dado que uno de ellos hemos podido comprobar que era el usuario que tenía multiples entregas sobre varias tareas, tiene sentido que haya bajado  el número de tuplas de la tabla tras desaparecer estos usuarios.\n",
    "\n",
    "Además, podemos observar que, ha desaparecido el usuario que tenía multiples entregas en varias de las tareas al unir solo con los alumnos matrículados, quizás por que haya desaparecido al filtrar por alumnos, por que se guardase también algun detalle relativo a las interacciones de los profesores con las entregas.\n",
    "\n",
    "Finalmente, podemos comprobar si el número de tareas que tienen entregas permanece constante tras esta unión, o si ha cambiado y ha desaparecido alguna. \n"
   ]
  },
  {
   "cell_type": "code",
   "execution_count": 6,
   "metadata": {},
   "outputs": [
    {
     "name": "stdout",
     "output_type": "stream",
     "text": [
      "Número de tareas con al menos una entrega previamente a la unión con los alumnos matriculados: 14\n",
      "Número de tareas con al menos una entrega tras la unión con los alumnos matriculados: 10\n",
      "\n",
      "===========================================\n",
      "\n",
      "Identificador, nombre y fecha de entrega de las tareas con al menos una entrega antes de unir con los alumnos matriculados\n",
      "+----------+-----------------------------------------------------------------------+-----------------+\n",
      "|assignment|name                                                                   |duedate_formatted|\n",
      "+----------+-----------------------------------------------------------------------+-----------------+\n",
      "|7592      |Actividad 00. Actualización del perfil en el campus virtual            |23/09/25         |\n",
      "|96123     |Calificación y comentarios de la actividad 02                          |70/01/01         |\n",
      "|107688    |Entrega actividad 07                                                   |23/11/20         |\n",
      "|108682    |Entrega de la actividad 08 - Proyecto - Parejas - NO VALE              |23/12/11         |\n",
      "|108640    |Entrega de la actividad 08 - Realizada en pareja                       |23/12/11         |\n",
      "|108641    |Entrega de la actividad 08 - Realizada individualmente                 |23/12/11         |\n",
      "|98388     |Entrega de la actividad 08.                                            |22/11/21         |\n",
      "|88771     |Entrega de la actividad 9                                              |22/12/12         |\n",
      "|99927     |Entrega del proyecto de programación \"Number Match\"                    |23/01/19         |\n",
      "|113317    |Entrega del proyecto de programación Gomoku                            |24/05/27         |\n",
      "|109226    |Entrega del proyecto de programación Gomoku - Realizado en pareja      |24/01/24         |\n",
      "|113721    |Entrega del proyecto de programación Gomoku - Realizado en pareja      |24/07/01         |\n",
      "|108047    |Entrega del proyecto de programación Gomoku - Realizado individualmente|24/01/24         |\n",
      "|113720    |Entrega del proyecto de programación Gomoku - Realizado individualmente|24/07/01         |\n",
      "+----------+-----------------------------------------------------------------------+-----------------+\n",
      "\n",
      "\n",
      "\n",
      "Identificador, nombre y fecha de entrega de las tareas con al menos una entrega tras unir con los alumnos matriculados\n",
      "+----------+-----------------------------------------------------------------------+-----------------+\n",
      "|assignment|name                                                                   |duedate_formatted|\n",
      "+----------+-----------------------------------------------------------------------+-----------------+\n",
      "|7592      |Actividad 00. Actualización del perfil en el campus virtual            |25/09/23         |\n",
      "|107688    |Entrega actividad 07                                                   |20/11/23         |\n",
      "|108682    |Entrega de la actividad 08 - Proyecto - Parejas - NO VALE              |11/12/23         |\n",
      "|108640    |Entrega de la actividad 08 - Realizada en pareja                       |11/12/23         |\n",
      "|108641    |Entrega de la actividad 08 - Realizada individualmente                 |11/12/23         |\n",
      "|113317    |Entrega del proyecto de programación Gomoku                            |27/05/24         |\n",
      "|109226    |Entrega del proyecto de programación Gomoku - Realizado en pareja      |24/01/24         |\n",
      "|113721    |Entrega del proyecto de programación Gomoku - Realizado en pareja      |01/07/24         |\n",
      "|108047    |Entrega del proyecto de programación Gomoku - Realizado individualmente|24/01/24         |\n",
      "|113720    |Entrega del proyecto de programación Gomoku - Realizado individualmente|01/07/24         |\n",
      "+----------+-----------------------------------------------------------------------+-----------------+\n",
      "\n",
      "\n",
      "\n"
     ]
    }
   ],
   "source": [
    "print(f\"Número de tareas con al menos una entrega previamente a la unión con los alumnos matriculados: {num_tareas_con_entregas_ip}\")\n",
    "print(f\"Número de tareas con al menos una entrega tras la unión con los alumnos matriculados: {as_sub_grad_alumnnos.select('assignment').distinct().count()}\\n\")\n",
    "print(\"===========================================\\n\")\n",
    "print(\"Identificador, nombre y fecha de entrega de las tareas con al menos una entrega antes de unir con los alumnos matriculados\")\n",
    "assign_submission_grade_cmi_F.select(\n",
    "      \"assignment\", \"name\", \"duedate_formatted\"\n",
    ").dropDuplicates([\"assignment\"]).orderBy(\"name\").show(100, truncate=False)\n",
    "print(\"\\n\")\n",
    "print(\"Identificador, nombre y fecha de entrega de las tareas con al menos una entrega tras unir con los alumnos matriculados\")\n",
    "as_sub_grad_alumnnos_F = as_sub_grad_alumnnos.withColumn(\n",
    "      \"duedate_formatted\", date_format(from_unixtime(col(\"duedate\")), \"dd/MM/yy\")\n",
    ")\n",
    "as_sub_grad_alumnnos_F.select(\n",
    "      \"assignment\", \"name\", \"duedate_formatted\"\n",
    ").dropDuplicates([\"assignment\"]).orderBy(\"name\").show(100, truncate=False)\n",
    "print(\"\\n\")\n",
    "\n",
    "\n"
   ]
  },
  {
   "cell_type": "markdown",
   "metadata": {},
   "source": [
    "Finalmente, se puede ver cómo, han desaparecido del dataframe tras la unión con los alumnos aquellas tareas que eran de otros años pero qeu seguramente fueran entregadas en convocatorias extraordinarias por estudiantes de años anteriores, dado que tras filtrar por solo aquellos que estaban matriculados en el aula virtual ese año, solo nos queda información de tareas cuya fecha de entrega coincide con los meses en los que se imparte el curso.\n",
    "\n",
    "Sin embargo, cabe destacar que sigue sin haber rastro de ninguna tarea realizada ni entregada en octubre, y casi tampoco en noviembre, los cuales en principio son meses muy activos de tareas en ese curso."
   ]
  },
  {
   "cell_type": "markdown",
   "metadata": {},
   "source": [
    "## Verificación de tareas en octubre\n"
   ]
  },
  {
   "cell_type": "markdown",
   "metadata": {},
   "source": [
    "En último lugar, vamos a asegurarnos de que no haya tareas realmente en el aula en el mes de octubre, ni ninguna entrega en esa fecha"
   ]
  },
  {
   "cell_type": "code",
   "execution_count": 11,
   "metadata": {},
   "outputs": [
    {
     "name": "stdout",
     "output_type": "stream",
     "text": [
      "Vamos a explorar cuantas tareas de ip tienen fijada la fecha de entrega en algún momento de octubre\n",
      "\n",
      "+---+----+------------+\n",
      "|id |name|duedate_date|\n",
      "+---+----+------------+\n",
      "+---+----+------------+\n",
      "\n",
      "Ahora vamos a comprobar si existen entregas que hayan sido entregadas durante el mes de octubre de 2023\n",
      "\n"
     ]
    },
    {
     "name": "stderr",
     "output_type": "stream",
     "text": [
      "[Stage 125:===============================================>         (5 + 1) / 6]\r"
     ]
    },
    {
     "name": "stdout",
     "output_type": "stream",
     "text": [
      "+----------------------------------------------------------------+----------+-------------------+-----------------------------------------------------------+\n",
      "|userid                                                          |assignment|timesubmitted_date |name                                                       |\n",
      "+----------------------------------------------------------------+----------+-------------------+-----------------------------------------------------------+\n",
      "|091af124e119a447c7f6594fb2f7c4fbb678f669966db01e3f62c26eedb220af|7592      |2023-10-01 19:46:08|Actividad 00. Actualización del perfil en el campus virtual|\n",
      "+----------------------------------------------------------------+----------+-------------------+-----------------------------------------------------------+\n",
      "\n"
     ]
    },
    {
     "name": "stderr",
     "output_type": "stream",
     "text": [
      "                                                                                \r"
     ]
    }
   ],
   "source": [
    "from pyspark.sql.functions import to_date\n",
    "from pyspark.sql.functions import to_timestamp\n",
    "\n",
    "\n",
    "# Convertir la columna 'duedate_formatted' a tipo fecha\n",
    "assign_ip_f = assign_ip_f.withColumn(\n",
    "    \"duedate_date\", to_date(col(\"duedate_formatted\"), \"yy/MM/dd\")\n",
    ")\n",
    "\n",
    "print(\"Vamos a explorar cuantas tareas de ip tienen fijada la fecha de entrega en algún momento de octubre\\n\")\n",
    "filtered_assignments = assign_ip_f.filter(\n",
    "    (col(\"duedate_date\") > \"2023-10-01\") & (col(\"duedate_date\") < \"2023-10-31\")\n",
    ")\n",
    "\n",
    "filtered_assignments.select(\"id\", \"name\", \"duedate_date\").show(truncate=False)\n",
    "\n",
    "print(\n",
    "    \"Ahora vamos a comprobar si existen entregas que hayan sido entregadas durante el mes de octubre de 2023\\n\"\n",
    ")\n",
    "\n",
    "\n",
    "# Convertir la columna 'timesubmitted' a tipo timestamp\n",
    "sub_ip_date = submissions_ip.withColumn(\n",
    "    \"timesubmitted_date\", to_timestamp(from_unixtime(col(\"timesubmitted\")), \"yyyy-MM-dd HH:mm:ss\")\n",
    ")\n",
    "\n",
    "# Filtrar las entregas cuya fecha sea posterior a '01/11/23' y anterior a '30/11/23'\n",
    "filtered_submissions = sub_ip_date.filter(\n",
    "    (col(\"timesubmitted_date\") > \"2023-10-01 00:00:00\") &\n",
    "    (col(\"timesubmitted_date\") < \"2023-10-31 23:59:59\")\n",
    ")\n",
    "\n",
    "filtered_submissions.select(\"userid\", \"assignment\", \"timesubmitted_date\", \"name\").drop_duplicates([\"assignment\"]).show(100, truncate=False)"
   ]
  },
  {
   "cell_type": "markdown",
   "metadata": {},
   "source": [
    "Se puede apreciar que solo hay entregas de las tareas `7592` en octubre, siendo esta la tarea solo la actividad 0."
   ]
  }
 ],
 "metadata": {
  "kernelspec": {
   "display_name": "pyspark-env",
   "language": "python",
   "name": "python3"
  },
  "language_info": {
   "codemirror_mode": {
    "name": "ipython",
    "version": 3
   },
   "file_extension": ".py",
   "mimetype": "text/x-python",
   "name": "python",
   "nbconvert_exporter": "python",
   "pygments_lexer": "ipython3",
   "version": "3.10.16"
  }
 },
 "nbformat": 4,
 "nbformat_minor": 2
}
