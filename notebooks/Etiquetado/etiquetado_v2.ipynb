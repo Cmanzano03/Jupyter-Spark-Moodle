{
 "cells": [
  {
   "cell_type": "markdown",
   "metadata": {},
   "source": [
    "# Etiquetado de los datos versión 2\n",
    "---\n",
    "\n",
    "En esta ocasión, exploraremos el índice de abandono de los alumnos considerando si entregaron el proyecto de programación de la asignatura. \n",
    "\n",
    "Para ello, seguiremos los siguientes pasos: \n",
    "\n",
    "- Obtener las tareas asociadas a la entrega del proyecto de programación, en este caso la 8 y la final del proyecto.\n",
    "- Obtener todas las entregas que se hicieron sobre estos proyectos\n",
    "- Hacer un left join desde la tabla de alumnos con estas entregas, aquellos que tengan valor null, serán aquellos que no tengan entregas asociadas\n",
    "- Etiquetar los alumnos en base a este criterio y visualizar los resultados para verificar el balanceo de las clases. "
   ]
  },
  {
   "cell_type": "markdown",
   "metadata": {},
   "source": [
    "## Configuración de la sesión"
   ]
  },
  {
   "cell_type": "code",
   "execution_count": 1,
   "metadata": {},
   "outputs": [
    {
     "name": "stderr",
     "output_type": "stream",
     "text": [
      "WARNING: Using incubator modules: jdk.incubator.vector\n",
      "Using Spark's default log4j profile: org/apache/spark/log4j2-defaults.properties\n",
      "25/06/06 17:21:53 WARN Utils: Your hostname, carlos-Modern-15-A11SB, resolves to a loopback address: 127.0.1.1; using 158.49.195.162 instead (on interface wlo1)\n",
      "25/06/06 17:21:53 WARN Utils: Set SPARK_LOCAL_IP if you need to bind to another address\n",
      "Using Spark's default log4j profile: org/apache/spark/log4j2-defaults.properties\n",
      "Setting default log level to \"WARN\".\n",
      "To adjust logging level use sc.setLogLevel(newLevel). For SparkR, use setLogLevel(newLevel).\n",
      "25/06/06 17:21:54 WARN NativeCodeLoader: Unable to load native-hadoop library for your platform... using builtin-java classes where applicable\n"
     ]
    }
   ],
   "source": [
    "from pyspark.sql import SparkSession\n",
    "from pyspark.sql.functions import col\n",
    "from pyspark.sql.functions import count\n",
    "from pyspark.sql.functions import from_unixtime, date_format\n",
    "import os\n",
    "\n",
    "ruta_origen = \"/home/carlos/Documentos/TFG/spark-workspace/data/raw/\"\n",
    "ruta_destino = \"/home/carlos/Documentos/TFG/spark-workspace/data/etiquetas\"\n",
    "courseid_ip = 8683\n",
    "os.makedirs(ruta_destino, exist_ok=True)\n",
    "\n",
    "# Crear sesión Spark\n",
    "spark = SparkSession.builder \\\n",
    "    .appName(\"Etiquetado versión 2\") \\\n",
    "    .master(\"local[*]\") \\\n",
    "    .config(\"spark.sql.shuffle.partitions\", \"8\") \\\n",
    "    .getOrCreate()"
   ]
  },
  {
   "cell_type": "markdown",
   "metadata": {},
   "source": []
  },
  {
   "cell_type": "markdown",
   "metadata": {},
   "source": [
    "## Obtención de tareas de entrega de proyecto\n",
    " \n",
    "Se parte de la siguiente información recogida sobre las tareas de la asignatura ip en el filtrado de datos de las tareas: \n",
    "\n",
    "```\n",
    "Identificador, nombre y fecha de entrega de las tareas con al menos una entrega tras unir con los alumnos matriculados\n",
    "+----------+-----------------------------------------------------------------------+-----------------+\n",
    "|assignment|name                                                                   |duedate_formatted|\n",
    "+----------+-----------------------------------------------------------------------+-----------------+\n",
    "|7592      |Actividad 00. Actualización del perfil en el campus virtual            |25/09/23         |\n",
    "|107688    |Entrega actividad 07                                                   |20/11/23         |\n",
    "|108682    |Entrega de la actividad 08 - Proyecto - Parejas - NO VALE              |11/12/23         |\n",
    "|108640    |Entrega de la actividad 08 - Realizada en pareja                       |11/12/23         |\n",
    "|108641    |Entrega de la actividad 08 - Realizada individualmente                 |11/12/23         |\n",
    "|113317    |Entrega del proyecto de programación Gomoku                            |27/05/24         |\n",
    "|109226    |Entrega del proyecto de programación Gomoku - Realizado en pareja      |24/01/24         |\n",
    "|113721    |Entrega del proyecto de programación Gomoku - Realizado en pareja      |01/07/24         |\n",
    "|108047    |Entrega del proyecto de programación Gomoku - Realizado individualmente|24/01/24         |\n",
    "|113720    |Entrega del proyecto de programación Gomoku - Realizado individualmente|01/07/24         |\n",
    "+----------+-----------------------------------------------------------------------+-----------------+\n",
    "```\n",
    "\n",
    "Por lo tanto, obtendremos solo aquellas tareas asociadas a las entregas del proyecto que tuvieron lugar durante el primer cuatrimestre, siendo estas `108640, 108641, 109226, 108047 `"
   ]
  },
  {
   "cell_type": "code",
   "execution_count": 2,
   "metadata": {},
   "outputs": [
    {
     "name": "stdout",
     "output_type": "stream",
     "text": [
      "Tareas de entrega de proyecto de enero\n",
      "+------+------+-----------------------------------------------------------------------+------------------------+----------+------------+\n",
      "|id    |course|name                                                                   |allowsubmissionsfromdate|duedate   |timemodified|\n",
      "+------+------+-----------------------------------------------------------------------+------------------------+----------+------------+\n",
      "|113720|8683  |Entrega del proyecto de programación Gomoku - Realizado individualmente|2024-06-13              |2024-07-01|2024-06-13  |\n",
      "|113721|8683  |Entrega del proyecto de programación Gomoku - Realizado en pareja      |2024-06-13              |2024-07-01|2024-07-01  |\n",
      "+------+------+-----------------------------------------------------------------------+------------------------+----------+------------+\n",
      "\n",
      "Tareas de entrega de proyecto de diciembre\n",
      "+------+------+------------------------------------------------------+------------------------+----------+------------+\n",
      "|id    |course|name                                                  |allowsubmissionsfromdate|duedate   |timemodified|\n",
      "+------+------+------------------------------------------------------+------------------------+----------+------------+\n",
      "|108640|8683  |Entrega de la actividad 08 - Realizada en pareja      |1970-01-01              |2023-12-11|2023-12-14  |\n",
      "|108641|8683  |Entrega de la actividad 08 - Realizada individualmente|1970-01-01              |2023-12-11|2024-01-02  |\n",
      "+------+------+------------------------------------------------------+------------------------+----------+------------+\n",
      "\n"
     ]
    }
   ],
   "source": [
    "from pyspark.sql.functions import to_date, from_unixtime\n",
    "\n",
    "df_tareas = spark.read.parquet(ruta_origen + \"assign_cmi.parquet\")\n",
    "\n",
    "lista_id_tareas_enero = [113721, 113720]\n",
    "lista_id_tareas_diciembre = [108640, 108641]\n",
    "\n",
    "# Tareas de enero\n",
    "\n",
    "print(\"Tareas de entrega de proyecto de enero\")\n",
    "\n",
    "df_tareas_proyecto_enero = df_tareas.filter(col(\"id\").isin(lista_id_tareas_enero)) \\\n",
    ".select(\"id\", \"course\", \"name\", \n",
    "        to_date(from_unixtime(col(\"allowsubmissionsfromdate\"))).alias(\"allowsubmissionsfromdate\"), \n",
    "        to_date(from_unixtime(col(\"duedate\"))).alias(\"duedate\"),\n",
    "        to_date(from_unixtime(col(\"timemodified\"))).alias(\"timemodified\")) \n",
    "\n",
    "df_tareas_proyecto_enero.show(truncate=False)\n",
    "\n",
    "\n",
    "\n",
    "# Tareas de diciembre\n",
    "\n",
    "print(\"Tareas de entrega de proyecto de diciembre\")\n",
    "\n",
    "df_tareas_proyecto_diciembre = df_tareas.filter(col(\"id\").isin(lista_id_tareas_diciembre)) \\\n",
    ".select(\"id\", \"course\", \"name\",\n",
    "        to_date(from_unixtime(col(\"allowsubmissionsfromdate\"))).alias(\"allowsubmissionsfromdate\"), \n",
    "        to_date(from_unixtime(col(\"duedate\"))).alias(\"duedate\"),\n",
    "        to_date(from_unixtime(col(\"timemodified\"))).alias(\"timemodified\"))\n",
    "df_tareas_proyecto_diciembre.show(truncate=False)\n",
    "\n",
    "\n",
    "\n"
   ]
  },
  {
   "cell_type": "markdown",
   "metadata": {},
   "source": [
    "## Obtener entregas hechas sobre estas tareas"
   ]
  },
  {
   "cell_type": "markdown",
   "metadata": {},
   "source": [
    "### Entregas de enero"
   ]
  },
  {
   "cell_type": "code",
   "execution_count": 3,
   "metadata": {},
   "outputs": [
    {
     "name": "stdout",
     "output_type": "stream",
     "text": [
      "+----------+-----------------------------------------------------------------------+----------+------------+\n",
      "|assignment|name                                                                   |duedate   |num_entregas|\n",
      "+----------+-----------------------------------------------------------------------+----------+------------+\n",
      "|113720    |Entrega del proyecto de programación Gomoku - Realizado individualmente|2024-07-01|91          |\n",
      "|113721    |Entrega del proyecto de programación Gomoku - Realizado en pareja      |2024-07-01|110         |\n",
      "+----------+-----------------------------------------------------------------------+----------+------------+\n",
      "\n",
      "Número de alumnos de la asignatura: 201\n",
      "\n",
      "Suma de entregas de las tareas de enero: \n",
      "+----------+----------------+\n",
      "|duedate   |suma_ind_parejas|\n",
      "+----------+----------------+\n",
      "|2024-07-01|201             |\n",
      "+----------+----------------+\n",
      "\n"
     ]
    }
   ],
   "source": [
    "from pyspark.sql.functions import sum\n",
    "\n",
    "df_entregas = spark.read.parquet(ruta_origen + \"assign_submission_cmi.parquet\")\n",
    "\n",
    "# Obtenemos las entregas de las tareas del proyecto de enero\n",
    "df_entregas_proyecto_enero = df_tareas_proyecto_enero.join(df_entregas, df_tareas_proyecto_enero.id == df_entregas.assignment, \"inner\").select(\"assignment\", \"name\" , \"userid\", \"status\",\"duedate\",  df_entregas.timemodified)\n",
    "\n",
    "\n",
    "# Ahora que ya tenemos concatenadas estas tareas con las tareas que se han hecho de ellas, podemos ver un repaso de cuantas entregas hubo para cada una \n",
    "entregas_por_tarea_enero = df_entregas_proyecto_enero.groupBy(\"assignment\", \"name\", \"duedate\" ).agg(count(\"*\").alias(\"num_entregas\")).orderBy(\"num_entregas\")\n",
    "\n",
    "entregas_por_tarea_enero.show(truncate=False)\n",
    "\n",
    "#Vamos a verificar si la cantidad de entregas de ambas tareas en enero suma el número de alumnos que hay en el curso\n",
    "df_alumnos_ip = spark.read.parquet(ruta_origen + \"alumnos_ip_cmi.parquet\") \n",
    "\n",
    "print(f\"Número de alumnos de la asignatura: {df_alumnos_ip.count()}\\n\")\n",
    "\n",
    "print(\"Suma de entregas de las tareas de enero: \")\n",
    "\n",
    "entregas_por_tarea_enero.groupBy(\"duedate\").agg(sum(col(\"num_entregas\")).alias(\"suma_ind_parejas\")).show(truncate=False)\n",
    "\n",
    "\n"
   ]
  },
  {
   "cell_type": "markdown",
   "metadata": {},
   "source": [
    "### Entregas de diciembre"
   ]
  },
  {
   "cell_type": "code",
   "execution_count": 4,
   "metadata": {},
   "outputs": [
    {
     "name": "stdout",
     "output_type": "stream",
     "text": [
      "+----------+------------------------------------------------------+----------+------------+\n",
      "|assignment|name                                                  |duedate   |num_entregas|\n",
      "+----------+------------------------------------------------------+----------+------------+\n",
      "|108641    |Entrega de la actividad 08 - Realizada individualmente|2023-12-11|91          |\n",
      "|108640    |Entrega de la actividad 08 - Realizada en pareja      |2023-12-11|166         |\n",
      "+----------+------------------------------------------------------+----------+------------+\n",
      "\n",
      "Número de alumnos de la asignatura: 201\n",
      "\n",
      "Suma de entregas de las tareas de diciembre: \n",
      "+----------+----------------+\n",
      "|duedate   |suma_ind_parejas|\n",
      "+----------+----------------+\n",
      "|2023-12-11|257             |\n",
      "+----------+----------------+\n",
      "\n"
     ]
    }
   ],
   "source": [
    "# Ahora vamos a hacer lo mismo con las tareas de diciembre  \n",
    "\n",
    "df_entregas_proyecto_diciembre = df_tareas_proyecto_diciembre.join(df_entregas, df_tareas_proyecto_diciembre.id == df_entregas.assignment, \"inner\").select(\"assignment\", \"name\" , \"userid\", \"status\",\"duedate\",  df_entregas.timemodified)\n",
    "\n",
    "\n",
    "# Ahora que ya tenemos concatenadas estas tareas con las tareas que se han hecho de ellas, podemos ver un repaso de cuantas entregas hubo para cada una \n",
    "entregas_por_tarea_diciembre = df_entregas_proyecto_diciembre.groupBy(\"assignment\", \"name\", \"duedate\" ).agg(count(\"*\").alias(\"num_entregas\")).orderBy(\"num_entregas\")\n",
    "\n",
    "entregas_por_tarea_diciembre.show(truncate=False)\n",
    "\n",
    "#Vamos a verificar si la cantidad de entregas de ambas tareas en diciembre suma el número de alumnos que hay en el curso\n",
    "\n",
    "print(f\"Número de alumnos de la asignatura: {df_alumnos_ip.count()}\\n\")\n",
    "\n",
    "print(\"Suma de entregas de las tareas de diciembre: \")\n",
    "\n",
    "entregas_por_tarea_diciembre.groupBy(\"duedate\").agg(sum(col(\"num_entregas\")).alias(\"suma_ind_parejas\")).show(truncate=False)"
   ]
  },
  {
   "cell_type": "markdown",
   "metadata": {},
   "source": [
    "Llama la atención que mientras que la suma si cuadra para la fecha de enero, no lo hace para la fecha de diciembre, habiendo una suma de las entregas superior a la cantidad de alumnos del curso. "
   ]
  },
  {
   "cell_type": "markdown",
   "metadata": {},
   "source": [
    "## Obtener qué alumnos  hicieron estas entregas y cuáles no ."
   ]
  },
  {
   "cell_type": "markdown",
   "metadata": {},
   "source": [
    "### Enero"
   ]
  },
  {
   "cell_type": "code",
   "execution_count": 5,
   "metadata": {},
   "outputs": [
    {
     "name": "stdout",
     "output_type": "stream",
     "text": [
      "Número de alumnos: 201\n",
      "Número de alumnos que no entregaron el proyecto en enero: 61\n",
      "+----------------------------------------------------------------+----------------+\n",
      "|userid                                                          |entrego_proyecto|\n",
      "+----------------------------------------------------------------+----------------+\n",
      "|3b8d431cbee3182d06225f9d5ab51f5806e8042f145e0ad0e37d98f56ae78f3d|false           |\n",
      "|368093a57fe640879a9fc57ecb7e2c846b7dadf19620bfc9c4c001daeaf9af0f|true            |\n",
      "|b10bfb431460e96f99322635d8c44d0fb4f74302c61334119ab1c842e049fac1|true            |\n",
      "|e86f7c2d50f4fa9ee5b3f8bf9a25af4c9ef573fa28a0c8c50df815971efa0529|true            |\n",
      "|bc941ebd72011adc6a5fbaa15a85c36e9dd20fd0af0156317b764f98a7a099ee|true            |\n",
      "|d46525fcffba400caa4fc21005b92fa32ed6922cf520d4879aa155394ee81d54|true            |\n",
      "|f6be71259bf65d67b39b33c9d0cc4859a713d8ab8a3941b1ea0fbb7bc2f1acaa|true            |\n",
      "|8cd597a8e1181f4db4ce03e1d02e59e4b5798921adeaee796526d96cc1975417|false           |\n",
      "|1f7c4f3696e53b122378adaa2c4d7d4069b53c30fa8171bfbff624810448bf9f|false           |\n",
      "|e66c913f7a9813b572ef09e80d0952a46995077e7e295e320cfc3da76d73f60f|true            |\n",
      "|091af124e119a447c7f6594fb2f7c4fbb678f669966db01e3f62c26eedb220af|true            |\n",
      "|7414360295620f649469c04f6fcd7907305ad35e11f928e63edc6c805d0ffabe|true            |\n",
      "|1416df0e4f8e87e449252eb090626d70cd44503423c5e0372668c647c840daca|false           |\n",
      "|a855cde9093572a1fc4ab1e33fb3a32537909585d552cfb43a43f286d3eabc4d|true            |\n",
      "|d0dd734f8e5a1b536beab80a8ee187734b9fbb7c00f0f0cd9847cf60910297f5|true            |\n",
      "|ef4bbb74d085499f21d5fc387fd346e55e9522b1f8c3eb352f5bdf55b16dc271|true            |\n",
      "|433f2e41671277b91cbda1dda12bc3477b7878d5be5eb9afa3d63b71ec78d056|true            |\n",
      "|5d0ebbbf8e15cc84019788e6d98a7c04ea5f12323b3acdf51a76a4819e1fdac7|true            |\n",
      "|3b1e887f4746d9a2d13a7bfc24a623d9ee5884a93b01c56a0e8c7d69dd6745aa|true            |\n",
      "|b9e0860774ffb5d35b7f2ad407b538facb010076d5107cdce63f299dbc5415da|false           |\n",
      "+----------------------------------------------------------------+----------------+\n",
      "only showing top 20 rows\n"
     ]
    }
   ],
   "source": [
    "from pyspark.sql.functions import when, col, lit\n",
    "\n",
    "df_usuarios_con_entrega_enero = df_entregas_proyecto_enero.select(\"userid\").distinct()\n",
    "\n",
    "df_alumnos_con_entrega_enero = df_alumnos_ip.join(\n",
    "    df_usuarios_con_entrega_enero.withColumn(\"entrego_proyecto\", lit(True)),\n",
    "    on=\"userid\",\n",
    "    how=\"left\"\n",
    ")\n",
    "df_alumnos_con_entrega_enero = df_alumnos_con_entrega_enero.withColumn(\n",
    "    \"entrego_proyecto\",\n",
    "    when(col(\"entrego_proyecto\").isNull(), False).otherwise(True)\n",
    ")\n",
    "\n",
    "num_no_entregaron_enero = df_alumnos_con_entrega_enero.filter(col(\"entrego_proyecto\") == False).count()\n",
    "print(f\"Número de alumnos: {df_alumnos_ip.count()}\")\n",
    "print(f\"Número de alumnos que no entregaron el proyecto en enero: {num_no_entregaron_enero}\")\n",
    "\n",
    "\n",
    "df_alumnos_con_entrega_enero.show(truncate=False)\n"
   ]
  },
  {
   "cell_type": "markdown",
   "metadata": {},
   "source": [
    "### Diciembre"
   ]
  },
  {
   "cell_type": "code",
   "execution_count": 6,
   "metadata": {},
   "outputs": [
    {
     "name": "stdout",
     "output_type": "stream",
     "text": [
      "Número de alumnos: 201\n",
      "Número de alumnos que no entregaron el proyecto en diciembre: 14\n",
      "+----------------------------------------------------------------+----------------+\n",
      "|userid                                                          |entrego_proyecto|\n",
      "+----------------------------------------------------------------+----------------+\n",
      "|3b8d431cbee3182d06225f9d5ab51f5806e8042f145e0ad0e37d98f56ae78f3d|true            |\n",
      "|368093a57fe640879a9fc57ecb7e2c846b7dadf19620bfc9c4c001daeaf9af0f|true            |\n",
      "|b10bfb431460e96f99322635d8c44d0fb4f74302c61334119ab1c842e049fac1|true            |\n",
      "|e86f7c2d50f4fa9ee5b3f8bf9a25af4c9ef573fa28a0c8c50df815971efa0529|true            |\n",
      "|bc941ebd72011adc6a5fbaa15a85c36e9dd20fd0af0156317b764f98a7a099ee|true            |\n",
      "|d46525fcffba400caa4fc21005b92fa32ed6922cf520d4879aa155394ee81d54|true            |\n",
      "|f6be71259bf65d67b39b33c9d0cc4859a713d8ab8a3941b1ea0fbb7bc2f1acaa|true            |\n",
      "|8cd597a8e1181f4db4ce03e1d02e59e4b5798921adeaee796526d96cc1975417|true            |\n",
      "|1f7c4f3696e53b122378adaa2c4d7d4069b53c30fa8171bfbff624810448bf9f|true            |\n",
      "|e66c913f7a9813b572ef09e80d0952a46995077e7e295e320cfc3da76d73f60f|true            |\n",
      "|091af124e119a447c7f6594fb2f7c4fbb678f669966db01e3f62c26eedb220af|true            |\n",
      "|7414360295620f649469c04f6fcd7907305ad35e11f928e63edc6c805d0ffabe|true            |\n",
      "|1416df0e4f8e87e449252eb090626d70cd44503423c5e0372668c647c840daca|true            |\n",
      "|a855cde9093572a1fc4ab1e33fb3a32537909585d552cfb43a43f286d3eabc4d|true            |\n",
      "|d0dd734f8e5a1b536beab80a8ee187734b9fbb7c00f0f0cd9847cf60910297f5|true            |\n",
      "|ef4bbb74d085499f21d5fc387fd346e55e9522b1f8c3eb352f5bdf55b16dc271|true            |\n",
      "|433f2e41671277b91cbda1dda12bc3477b7878d5be5eb9afa3d63b71ec78d056|true            |\n",
      "|5d0ebbbf8e15cc84019788e6d98a7c04ea5f12323b3acdf51a76a4819e1fdac7|true            |\n",
      "|3b1e887f4746d9a2d13a7bfc24a623d9ee5884a93b01c56a0e8c7d69dd6745aa|true            |\n",
      "|b9e0860774ffb5d35b7f2ad407b538facb010076d5107cdce63f299dbc5415da|false           |\n",
      "+----------------------------------------------------------------+----------------+\n",
      "only showing top 20 rows\n"
     ]
    }
   ],
   "source": [
    "# Ahora vamos a hacer lo mismo con las tareas de diciembre  \n",
    "df_usuarios_con_entrega_diciembre = df_entregas_proyecto_diciembre.select(\"userid\").distinct()\n",
    "df_alumnos_con_entrega_diciembre = df_alumnos_ip.join(\n",
    "    df_usuarios_con_entrega_diciembre.withColumn(\"entrego_proyecto\", lit(True)),\n",
    "    on=\"userid\",\n",
    "    how=\"left\"\n",
    ")\n",
    "df_alumnos_con_entrega_diciembre = df_alumnos_con_entrega_diciembre.withColumn(\n",
    "    \"entrego_proyecto\",\n",
    "    when(col(\"entrego_proyecto\").isNull(), False).otherwise(True)\n",
    ")\n",
    "num_no_entregaron_diciembre = df_alumnos_con_entrega_diciembre.filter(col(\"entrego_proyecto\") == False).count()\n",
    "print(f\"Número de alumnos: {df_alumnos_ip.count()}\")\n",
    "print(f\"Número de alumnos que no entregaron el proyecto en diciembre: {num_no_entregaron_diciembre}\")\n",
    "df_alumnos_con_entrega_diciembre.show(truncate=False)\n"
   ]
  },
  {
   "cell_type": "markdown",
   "metadata": {},
   "source": [
    "## Combinar ambas etiquetas\n",
    "Si queremos combinar ambas etiquetas, podemos considerar dos opciones:\n",
    "- Un alumno ha abandonado si no entrego **o** en diciembre **o** en enero, alternativa mas estricta con el abandono\n",
    "- Un alumno ha abandonado si no entrego en diciembre **y** en enero, alternativa mas permisiva\n",
    "\n",
    "Vamos a evaluar ambas opciones"
   ]
  },
  {
   "cell_type": "code",
   "execution_count": 11,
   "metadata": {},
   "outputs": [
    {
     "name": "stdout",
     "output_type": "stream",
     "text": [
      "+----------------------------------------------------------------+-----------+-----------+\n",
      "|userid                                                          |entrego_dic|entrego_ene|\n",
      "+----------------------------------------------------------------+-----------+-----------+\n",
      "|006b0e7bd07cec05e0952cb61c30893f6d30d7962f9efc99d0f041f6fadcc320|true       |true       |\n",
      "|00ded60939d4949cc46e46e865b25d3f11756733cf946087710c61eda02729e1|true       |true       |\n",
      "|05912200993a87a89df1a6ca9ac3d6493e2c4cc178760d8ee1da41033ac01b3e|true       |true       |\n",
      "|073b1d0ee1d3857d50ea87087b25bbc6f5dbdbd2e94bcf52b89c48afa37e8c16|true       |true       |\n",
      "|080b2c8b65e9d941f12e62b7d2b9fa22b669f06aeed07df5683fdf93a799204d|false      |false      |\n",
      "|091af124e119a447c7f6594fb2f7c4fbb678f669966db01e3f62c26eedb220af|true       |true       |\n",
      "|0a2e27fd5eb3547b064f5bcd8a26472c8802e19a5c158b380539e85b42d194d9|true       |false      |\n",
      "|11c0d56ee71665bfe766f1a57c333061cb34d747204264191ee23b775e6edab4|true       |true       |\n",
      "|13a777f8c88ba748246449dfb45dcb8f76056a22f0b11edbbe00059cff72d227|true       |false      |\n",
      "|1416df0e4f8e87e449252eb090626d70cd44503423c5e0372668c647c840daca|true       |false      |\n",
      "|155bac00763fa5e9f2bacce2ccbbd4e2c75478b806949521185f44683a01a707|true       |true       |\n",
      "|178ba123e4d3f50b809aed0daae1eb6fd2fc5f20d7a0f45d888157d84284f9ac|true       |false      |\n",
      "|17ab20c1e9ffc41ce9dd9fa7dfdd13d54f3e6b179d7ee5b09ce8685dc2db6de9|false      |false      |\n",
      "|17c5ff7d8da3431c13b40939bd319dc59e2d96faf33d080343928588648f9a2a|true       |true       |\n",
      "|1c4901d900185d7d858b332a35b59a1097a13c841e96f59abb2af4c12e758f8a|true       |true       |\n",
      "|1d1856f6484743138f3f5af94f53e7f07ebcddbb758aa3283aee331208986673|true       |true       |\n",
      "|1eb71b909eafe58bed1e609b8b892aac7a3164d7266cc1ca2d8c26b7a3151b75|true       |true       |\n",
      "|1efeed54fbf60a557308e2c340a56ac0ac8906df1eb77e6214e5642be60c4126|true       |true       |\n",
      "|1f7c4f3696e53b122378adaa2c4d7d4069b53c30fa8171bfbff624810448bf9f|true       |false      |\n",
      "|21ca70cb3dc6e0a866f2084c0c3aafa3801f9f231aa5fcd20fc355bf100dc529|true       |false      |\n",
      "+----------------------------------------------------------------+-----------+-----------+\n",
      "only showing top 20 rows\n"
     ]
    }
   ],
   "source": [
    "df_entregas_dic = df_alumnos_con_entrega_diciembre.withColumnRenamed(\"entrego_proyecto\", \"entrego_dic\")\n",
    "df_entregas_ene = df_alumnos_con_entrega_enero.withColumnRenamed(\"entrego_proyecto\", \"entrego_ene\")\n",
    "\n",
    "# Unimos los DataFrames de entregas de diciembre y enero para tener un DataFrame combinado\n",
    "df_entregas_combinado = df_entregas_dic.join(\n",
    "    df_entregas_ene,\n",
    "    on=\"userid\",\n",
    "    how=\"inner\"  # o \"outer\" si sospechas que hay alumnos que faltan en alguno\n",
    ")\n",
    "\n",
    "df_entregas_combinado.show(truncate=False)\n"
   ]
  },
  {
   "cell_type": "markdown",
   "metadata": {},
   "source": [
    "## Visualizamos las diferentes reglas de abandono "
   ]
  },
  {
   "cell_type": "code",
   "execution_count": 14,
   "metadata": {},
   "outputs": [
    {
     "name": "stderr",
     "output_type": "stream",
     "text": [
      "/tmp/ipykernel_105963/228458778.py:34: FutureWarning: \n",
      "\n",
      "Passing `palette` without assigning `hue` is deprecated and will be removed in v0.14.0. Assign the `y` variable to `hue` and set `legend=False` for the same effect.\n",
      "\n",
      "  sns.barplot(data=df_resumen, y=\"Condición\", x=\"Número de alumnos\", palette=\"coolwarm\")\n"
     ]
    },
    {
     "data": {
      "image/png": "[encoded data removed]",
      "text/plain": [
       "<Figure size 1000x500 with 1 Axes>"
      ]
     },
     "metadata": {},
     "output_type": "display_data"
    },
    {
     "data": {
      "text/html": [
       "<div>\n",
       "<style scoped>\n",
       "    .dataframe tbody tr th:only-of-type {\n",
       "        vertical-align: middle;\n",
       "    }\n",
       "\n",
       "    .dataframe tbody tr th {\n",
       "        vertical-align: top;\n",
       "    }\n",
       "\n",
       "    .dataframe thead th {\n",
       "        text-align: right;\n",
       "    }\n",
       "</style>\n",
       "<table border=\"1\" class=\"dataframe\">\n",
       "  <thead>\n",
       "    <tr style=\"text-align: right;\">\n",
       "      <th></th>\n",
       "      <th>Condición</th>\n",
       "      <th>Número de alumnos</th>\n",
       "    </tr>\n",
       "  </thead>\n",
       "  <tbody>\n",
       "    <tr>\n",
       "      <th>0</th>\n",
       "      <td>No entregó diciembre pero sí enero</td>\n",
       "      <td>4</td>\n",
       "    </tr>\n",
       "    <tr>\n",
       "      <th>1</th>\n",
       "      <td>Entregó en diciembre pero no en enero</td>\n",
       "      <td>51</td>\n",
       "    </tr>\n",
       "    <tr>\n",
       "      <th>2</th>\n",
       "      <td>No entregó ninguna entrega</td>\n",
       "      <td>10</td>\n",
       "    </tr>\n",
       "    <tr>\n",
       "      <th>3</th>\n",
       "      <td>Entregó ambas entregas</td>\n",
       "      <td>136</td>\n",
       "    </tr>\n",
       "    <tr>\n",
       "      <th>4</th>\n",
       "      <td>Abandono diciembre</td>\n",
       "      <td>14</td>\n",
       "    </tr>\n",
       "    <tr>\n",
       "      <th>5</th>\n",
       "      <td>Abandono enero</td>\n",
       "      <td>61</td>\n",
       "    </tr>\n",
       "    <tr>\n",
       "      <th>6</th>\n",
       "      <td>Abandono (estricto)</td>\n",
       "      <td>65</td>\n",
       "    </tr>\n",
       "    <tr>\n",
       "      <th>7</th>\n",
       "      <td>Abandono (permisivo)</td>\n",
       "      <td>10</td>\n",
       "    </tr>\n",
       "  </tbody>\n",
       "</table>\n",
       "</div>"
      ],
      "text/plain": [
       "                               Condición  Número de alumnos\n",
       "0     No entregó diciembre pero sí enero                  4\n",
       "1  Entregó en diciembre pero no en enero                 51\n",
       "2             No entregó ninguna entrega                 10\n",
       "3                 Entregó ambas entregas                136\n",
       "4                     Abandono diciembre                 14\n",
       "5                         Abandono enero                 61\n",
       "6                    Abandono (estricto)                 65\n",
       "7                   Abandono (permisivo)                 10"
      ]
     },
     "execution_count": 14,
     "metadata": {},
     "output_type": "execute_result"
    }
   ],
   "source": [
    "from pyspark.sql.functions import col\n",
    "import pandas as pd\n",
    "import matplotlib.pyplot as plt\n",
    "import seaborn as sns\n",
    "\n",
    "# Contar los casos\n",
    "no_dic_si_ene = df_entregas_combinado.filter((~col(\"entrego_dic\")) & (col(\"entrego_ene\"))).count()\n",
    "si_dic_no_ene = df_entregas_combinado.filter((col(\"entrego_dic\")) & (~col(\"entrego_ene\"))).count()\n",
    "ninguna = df_entregas_combinado.filter((~col(\"entrego_dic\")) & (~col(\"entrego_ene\"))).count()\n",
    "ambas = df_entregas_combinado.filter((col(\"entrego_dic\")) & (col(\"entrego_ene\"))).count()\n",
    "\n",
    "# Abandono por reglas\n",
    "abandono_estricto = df_entregas_combinado.filter((~col(\"entrego_dic\")) | (~col(\"entrego_ene\"))).count()\n",
    "abandono_permisivo = df_entregas_combinado.filter((~col(\"entrego_dic\")) & (~col(\"entrego_ene\"))).count()\n",
    "abandono_dic = df_entregas_combinado.filter(~col(\"entrego_dic\")).count()\n",
    "abandono_ene = df_entregas_combinado.filter(~col(\"entrego_ene\")).count()\n",
    "\n",
    "# Crear resumen como DataFrame de Pandas\n",
    "resumen = {\n",
    "    \"No entregó diciembre pero sí enero\": no_dic_si_ene,\n",
    "    \"Entregó en diciembre pero no en enero\": si_dic_no_ene,\n",
    "    \"No entregó ninguna entrega\": ninguna,\n",
    "    \"Entregó ambas entregas\": ambas,\n",
    "    \"Abandono diciembre\": abandono_dic,\n",
    "    \"Abandono enero\": abandono_ene,\n",
    "    \"Abandono (estricto)\": abandono_estricto,\n",
    "    \"Abandono (permisivo)\": abandono_permisivo\n",
    "}\n",
    "\n",
    "df_resumen = pd.DataFrame(list(resumen.items()), columns=[\"Condición\", \"Número de alumnos\"])\n",
    "\n",
    "# Mostrar gráfico\n",
    "plt.figure(figsize=(10, 5))\n",
    "sns.barplot(data=df_resumen, y=\"Condición\", x=\"Número de alumnos\", palette=\"coolwarm\")\n",
    "plt.title(\"Resumen de entregas del proyecto y abandono detectado\")\n",
    "plt.xlabel(\"Nº de alumnos\")\n",
    "plt.ylabel(\"\")\n",
    "plt.tight_layout()\n",
    "plt.show()\n",
    "\n",
    "# Mostrar tabla\n",
    "df_resumen\n"
   ]
  },
  {
   "cell_type": "markdown",
   "metadata": {},
   "source": [
    "## Análisis de los resultados"
   ]
  },
  {
   "cell_type": "markdown",
   "metadata": {},
   "source": [
    "Analizando la tabla y la gráfica, podemos extraer información muy útil para decidir qué regla de abandono podemos elegir en base a las entregas del proyecto: \n",
    "\n",
    "- Es poco frecuente que un alumno no entregara en diciembre pero sí lo hiciera en enero. \n",
    "- Sin embargo, muchos alumnos entregaron en diciembre, pero luego no lo hicieron en enero, quizás por que en esta segunda entrega es cuando se realiza el grueso del proyecto, y además se junta con el periodo de exámenes de la facultad, por lo que quizá abandonan la entrega como consecuencia de verse faltos de tiempo y dedicárselo a otras asignaturas.\n",
    "- **Un abandono total**, no entregar en ninguna de las dos entregas, nos dejaría solo con 10 casos positivos, lo cual conformaría un **5% de la clase**  mientras que un **abandono parcial**, considerándo un abandono no entregar en alguna de las dos o en ambas nos deja 65 casos positivos, lo cual **correspondería a un 32,3%**\n",
    "\n",
    "Por lo tanto, hay un número mucho mayor de abandonos al considerar la entrega de enero, que no la de diciembre. \n",
    "\n",
    "Mientras que quizás considerar el abandono en base a la entrega de diciembre es mas significativo del abandono durante el periodo lectivo de clases, y por tanto, de la evaluación continua, el abandono **en enero puede informar más sobre el rendimiento académico del estudiante** en general, dado que no llegó a poder entregar el proyecto principal de la asignatura al completo. \n",
    "\n",
    "Dado que no entregar en cualquiera de las dos tareas, supone un rendimiento académico inferior al de aquellos estudiantes que sí que lo hicieron, quizás sea una buena idea considerar la etiqueta final el abandono estricto, para permitir al modelo detectar patrones en un mayor número de estudiantes con signos de carencias en el rendimiento, y exprimir más los datos con los que contamos, que , al ser una sola asignatura, son limitados. \n",
    "\n",
    "Además, de esta forma conseguimos un mejor balance de clases."
   ]
  },
  {
   "cell_type": "markdown",
   "metadata": {},
   "source": [
    "## Exportar fichero de etiquetas final"
   ]
  },
  {
   "cell_type": "code",
   "execution_count": 20,
   "metadata": {},
   "outputs": [
    {
     "name": "stdout",
     "output_type": "stream",
     "text": [
      "+----------------------------------------------------------------+---------------------------------+\n",
      "|userid                                                          |abandona_por_no_entregar_proyecto|\n",
      "+----------------------------------------------------------------+---------------------------------+\n",
      "|006b0e7bd07cec05e0952cb61c30893f6d30d7962f9efc99d0f041f6fadcc320|false                            |\n",
      "|00ded60939d4949cc46e46e865b25d3f11756733cf946087710c61eda02729e1|false                            |\n",
      "|05912200993a87a89df1a6ca9ac3d6493e2c4cc178760d8ee1da41033ac01b3e|false                            |\n",
      "|073b1d0ee1d3857d50ea87087b25bbc6f5dbdbd2e94bcf52b89c48afa37e8c16|false                            |\n",
      "|080b2c8b65e9d941f12e62b7d2b9fa22b669f06aeed07df5683fdf93a799204d|true                             |\n",
      "|091af124e119a447c7f6594fb2f7c4fbb678f669966db01e3f62c26eedb220af|false                            |\n",
      "|0a2e27fd5eb3547b064f5bcd8a26472c8802e19a5c158b380539e85b42d194d9|true                             |\n",
      "|11c0d56ee71665bfe766f1a57c333061cb34d747204264191ee23b775e6edab4|false                            |\n",
      "|13a777f8c88ba748246449dfb45dcb8f76056a22f0b11edbbe00059cff72d227|true                             |\n",
      "|1416df0e4f8e87e449252eb090626d70cd44503423c5e0372668c647c840daca|true                             |\n",
      "|155bac00763fa5e9f2bacce2ccbbd4e2c75478b806949521185f44683a01a707|false                            |\n",
      "|178ba123e4d3f50b809aed0daae1eb6fd2fc5f20d7a0f45d888157d84284f9ac|true                             |\n",
      "|17ab20c1e9ffc41ce9dd9fa7dfdd13d54f3e6b179d7ee5b09ce8685dc2db6de9|true                             |\n",
      "|17c5ff7d8da3431c13b40939bd319dc59e2d96faf33d080343928588648f9a2a|false                            |\n",
      "|1c4901d900185d7d858b332a35b59a1097a13c841e96f59abb2af4c12e758f8a|false                            |\n",
      "|1d1856f6484743138f3f5af94f53e7f07ebcddbb758aa3283aee331208986673|false                            |\n",
      "|1eb71b909eafe58bed1e609b8b892aac7a3164d7266cc1ca2d8c26b7a3151b75|false                            |\n",
      "|1efeed54fbf60a557308e2c340a56ac0ac8906df1eb77e6214e5642be60c4126|false                            |\n",
      "|1f7c4f3696e53b122378adaa2c4d7d4069b53c30fa8171bfbff624810448bf9f|true                             |\n",
      "|21ca70cb3dc6e0a866f2084c0c3aafa3801f9f231aa5fcd20fc355bf100dc529|true                             |\n",
      "+----------------------------------------------------------------+---------------------------------+\n",
      "only showing top 20 rows\n"
     ]
    }
   ],
   "source": [
    "# Exportamos etiquetas de la regla de abandono estricta\n",
    "df_etiquetas = df_entregas_combinado.withColumn(\n",
    "    \"abandona_por_no_entregar_proyecto\",\n",
    "    (~col(\"entrego_dic\")) | (~col(\"entrego_ene\"))\n",
    ").drop(\"entrego_dic\", \"entrego_ene\")\n",
    "\n",
    "df_etiquetas.show(truncate=False)\n",
    "\n",
    "df_etiquetas.toPandas().to_csv(os.path.join(ruta_destino, f\"etiquetas_abandono_v2.csv\"), index=False)\n"
   ]
  }
 ],
 "metadata": {
  "kernelspec": {
   "display_name": "pyspark-env",
   "language": "python",
   "name": "python3"
  },
  "language_info": {
   "codemirror_mode": {
    "name": "ipython",
    "version": 3
   },
   "file_extension": ".py",
   "mimetype": "text/x-python",
   "name": "python",
   "nbconvert_exporter": "python",
   "pygments_lexer": "ipython3",
   "version": "3.10.16"
  }
 },
 "nbformat": 4,
 "nbformat_minor": 2
}
