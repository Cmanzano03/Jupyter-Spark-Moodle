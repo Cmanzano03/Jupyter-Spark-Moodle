{
 "cells": [
  {
   "cell_type": "markdown",
   "metadata": {},
   "source": [
    "# Etiquetado versión 2\n",
    "\n",
    "En esta ocasión, exploraremos el índice de abandono de los alumnos considerando si entregaron el proyecto de programación de la asignatura. \n",
    "\n",
    "Para ello, seguiremos los siguientes pasos: \n",
    "\n",
    "- Obtener las tareas asociadas a la entrega del proyecto de programación, en este caso la 8 y la final del proyecto.\n",
    "- Obtener todas las entregas que se hicieron sobre estos proyectos\n",
    "- Hacer un left join desde la tabla de alumnos con estas entregas, aquellos que tengan valor null, serán aquellos que no tengan entregas asociadas\n",
    "- Etiquetar los alumnos en base a este criterio y visualizar los resultados para verificar el balanceo de las clases. "
   ]
  },
  {
   "cell_type": "markdown",
   "metadata": {},
   "source": [
    "## Configuración de la sesión"
   ]
  },
  {
   "cell_type": "code",
   "execution_count": 34,
   "metadata": {},
   "outputs": [],
   "source": [
    "from pyspark.sql import SparkSession\n",
    "from pyspark.sql.functions import col\n",
    "from pyspark.sql.functions import count\n",
    "from pyspark.sql.functions import from_unixtime, date_format\n",
    "import os\n",
    "\n",
    "ruta_origen = \"/home/carlos/Documentos/TFG/spark-workspace/data/raw/\"\n",
    "ruta_destino = \"/home/carlos/Documentos/TFG/spark-workspace/data/etiquetas\"\n",
    "courseid_ip = 8683\n",
    "os.makedirs(ruta_destino, exist_ok=True)\n",
    "\n",
    "# Crear sesión Spark\n",
    "spark = SparkSession.builder \\\n",
    "    .appName(\"Etiquetado versión 2\") \\\n",
    "    .master(\"local[*]\") \\\n",
    "    .config(\"spark.sql.shuffle.partitions\", \"8\") \\\n",
    "    .getOrCreate()"
   ]
  },
  {
   "cell_type": "markdown",
   "metadata": {},
   "source": [
    "## Obtención de tareas de entrega de proyecto\n",
    " \n",
    "Se parte de la siguiente información recogida sobre las tareas de la asignatura ip en el filtrado de datos de las tareas: \n",
    "\n",
    "```\n",
    "Identificador, nombre y fecha de entrega de las tareas con al menos una entrega tras unir con los alumnos matriculados\n",
    "+----------+-----------------------------------------------------------------------+-----------------+\n",
    "|assignment|name                                                                   |duedate_formatted|\n",
    "+----------+-----------------------------------------------------------------------+-----------------+\n",
    "|7592      |Actividad 00. Actualización del perfil en el campus virtual            |25/09/23         |\n",
    "|107688    |Entrega actividad 07                                                   |20/11/23         |\n",
    "|108682    |Entrega de la actividad 08 - Proyecto - Parejas - NO VALE              |11/12/23         |\n",
    "|108640    |Entrega de la actividad 08 - Realizada en pareja                       |11/12/23         |\n",
    "|108641    |Entrega de la actividad 08 - Realizada individualmente                 |11/12/23         |\n",
    "|113317    |Entrega del proyecto de programación Gomoku                            |27/05/24         |\n",
    "|109226    |Entrega del proyecto de programación Gomoku - Realizado en pareja      |24/01/24         |\n",
    "|113721    |Entrega del proyecto de programación Gomoku - Realizado en pareja      |01/07/24         |\n",
    "|108047    |Entrega del proyecto de programación Gomoku - Realizado individualmente|24/01/24         |\n",
    "|113720    |Entrega del proyecto de programación Gomoku - Realizado individualmente|01/07/24         |\n",
    "+----------+-----------------------------------------------------------------------+-----------------+\n",
    "```\n",
    "\n",
    "Por lo tanto, obtendremos solo aquellas tareas asociadas a las entregas del proyecto que tuvieron lugar durante el primer cuatrimestre, siendo estas `108640, 108641, 109226, 108047 `"
   ]
  },
  {
   "cell_type": "code",
   "execution_count": 35,
   "metadata": {},
   "outputs": [
    {
     "name": "stdout",
     "output_type": "stream",
     "text": [
      "+------+------+-----------------------------------------------------------------------+------------------------+----------+------------+\n",
      "|id    |course|name                                                                   |allowsubmissionsfromdate|duedate   |timemodified|\n",
      "+------+------+-----------------------------------------------------------------------+------------------------+----------+------------+\n",
      "|113720|8683  |Entrega del proyecto de programación Gomoku - Realizado individualmente|2024-06-13              |2024-07-01|2024-06-13  |\n",
      "|113721|8683  |Entrega del proyecto de programación Gomoku - Realizado en pareja      |2024-06-13              |2024-07-01|2024-07-01  |\n",
      "+------+------+-----------------------------------------------------------------------+------------------------+----------+------------+\n",
      "\n"
     ]
    }
   ],
   "source": [
    "from pyspark.sql.functions import to_date, from_unixtime\n",
    "\n",
    "df_tareas = spark.read.parquet(ruta_origen + \"assign_cmi.parquet\")\n",
    "\n",
    "lista_id_tareas = [113721, 113720]\n",
    "# lista_id_tareas = [108640, 108641]\n",
    "df_tareas_proyecto = df_tareas.filter(col(\"id\").isin(lista_id_tareas)) \\\n",
    ".select(\"id\", \"course\", \"name\", \n",
    "        to_date(from_unixtime(col(\"allowsubmissionsfromdate\"))).alias(\"allowsubmissionsfromdate\"), \n",
    "        to_date(from_unixtime(col(\"duedate\"))).alias(\"duedate\"),\n",
    "        to_date(from_unixtime(col(\"timemodified\"))).alias(\"timemodified\")) \n",
    "\n",
    "df_tareas_proyecto.show(truncate=False)\n",
    "\n"
   ]
  },
  {
   "cell_type": "markdown",
   "metadata": {},
   "source": [
    "## Obtener entregas hechas sobre estas tareas"
   ]
  },
  {
   "cell_type": "code",
   "execution_count": 36,
   "metadata": {},
   "outputs": [
    {
     "name": "stdout",
     "output_type": "stream",
     "text": [
      "+----------+-----------------------------------------------------------------------+----------+------------+\n",
      "|assignment|name                                                                   |duedate   |num_entregas|\n",
      "+----------+-----------------------------------------------------------------------+----------+------------+\n",
      "|113720    |Entrega del proyecto de programación Gomoku - Realizado individualmente|2024-07-01|91          |\n",
      "|113721    |Entrega del proyecto de programación Gomoku - Realizado en pareja      |2024-07-01|110         |\n",
      "+----------+-----------------------------------------------------------------------+----------+------------+\n",
      "\n"
     ]
    }
   ],
   "source": [
    "df_entregas = spark.read.parquet(ruta_origen + \"assign_submission_cmi.parquet\")\n",
    "\n",
    "# Obtenemos las entregas de las tareas del proyecto\n",
    "df_entregas_proyecto = df_tareas_proyecto.join(df_entregas, df_tareas_proyecto.id == df_entregas.assignment, \"inner\").select(\"assignment\", \"name\" , \"userid\", \"status\",\"duedate\",  df_entregas.timemodified)\n",
    "\n",
    "\n",
    "\n",
    "# Ahora que ya tenemos concatenadas estas tareas con las tareas que se han hecho de ellas, podemos ver un repaso de cuantas entregas hubo para cada una \n",
    "entregas_por_tarea = df_entregas_proyecto.groupBy(\"assignment\", \"name\", \"duedate\" ).agg(count(\"*\").alias(\"num_entregas\")).orderBy(\"duedate\")\n",
    "\n",
    "entregas_por_tarea.show(truncate=False)\n"
   ]
  },
  {
   "cell_type": "markdown",
   "metadata": {},
   "source": [
    "Parece un poco extraño que la suma de las entregas individuales y por parejas sume un número mayor que el número de alumnos matriculados en el curso\n"
   ]
  },
  {
   "cell_type": "code",
   "execution_count": 37,
   "metadata": {},
   "outputs": [
    {
     "name": "stdout",
     "output_type": "stream",
     "text": [
      "Número de alumnos: 201\n",
      "+----------+----------------+\n",
      "|duedate   |suma_ind_parejas|\n",
      "+----------+----------------+\n",
      "|2024-07-01|201             |\n",
      "+----------+----------------+\n",
      "\n"
     ]
    }
   ],
   "source": [
    "from pyspark.sql.functions import sum\n",
    "\n",
    "df_alumnos_ip = spark.read.parquet(ruta_origen + \"alumnos_ip_cmi.parquet\") \n",
    "\n",
    "print(f\"Número de alumnos: {df_alumnos_ip.count()}\")\n",
    "\n",
    "entregas_por_tarea.groupBy(\"duedate\").agg(sum(col(\"num_entregas\")).alias(\"suma_ind_parejas\")).show(truncate=False)"
   ]
  },
  {
   "cell_type": "markdown",
   "metadata": {},
   "source": [
    "## Obtener qué alumnos  hicieron estas entregas y cuáles no "
   ]
  },
  {
   "cell_type": "code",
   "execution_count": 38,
   "metadata": {},
   "outputs": [
    {
     "name": "stdout",
     "output_type": "stream",
     "text": [
      "Número de alumnos: 201\n",
      "Número de alumnos que no entregaron el proyecto: 61\n",
      "+----------------------------------------------------------------+----------------+\n",
      "|userid                                                          |entrego_proyecto|\n",
      "+----------------------------------------------------------------+----------------+\n",
      "|3b8d431cbee3182d06225f9d5ab51f5806e8042f145e0ad0e37d98f56ae78f3d|false           |\n",
      "|368093a57fe640879a9fc57ecb7e2c846b7dadf19620bfc9c4c001daeaf9af0f|true            |\n",
      "|b10bfb431460e96f99322635d8c44d0fb4f74302c61334119ab1c842e049fac1|true            |\n",
      "|e86f7c2d50f4fa9ee5b3f8bf9a25af4c9ef573fa28a0c8c50df815971efa0529|true            |\n",
      "|bc941ebd72011adc6a5fbaa15a85c36e9dd20fd0af0156317b764f98a7a099ee|true            |\n",
      "|d46525fcffba400caa4fc21005b92fa32ed6922cf520d4879aa155394ee81d54|true            |\n",
      "|f6be71259bf65d67b39b33c9d0cc4859a713d8ab8a3941b1ea0fbb7bc2f1acaa|true            |\n",
      "|8cd597a8e1181f4db4ce03e1d02e59e4b5798921adeaee796526d96cc1975417|false           |\n",
      "|1f7c4f3696e53b122378adaa2c4d7d4069b53c30fa8171bfbff624810448bf9f|false           |\n",
      "|e66c913f7a9813b572ef09e80d0952a46995077e7e295e320cfc3da76d73f60f|true            |\n",
      "|091af124e119a447c7f6594fb2f7c4fbb678f669966db01e3f62c26eedb220af|true            |\n",
      "|7414360295620f649469c04f6fcd7907305ad35e11f928e63edc6c805d0ffabe|true            |\n",
      "|1416df0e4f8e87e449252eb090626d70cd44503423c5e0372668c647c840daca|false           |\n",
      "|a855cde9093572a1fc4ab1e33fb3a32537909585d552cfb43a43f286d3eabc4d|true            |\n",
      "|d0dd734f8e5a1b536beab80a8ee187734b9fbb7c00f0f0cd9847cf60910297f5|true            |\n",
      "|ef4bbb74d085499f21d5fc387fd346e55e9522b1f8c3eb352f5bdf55b16dc271|true            |\n",
      "|433f2e41671277b91cbda1dda12bc3477b7878d5be5eb9afa3d63b71ec78d056|true            |\n",
      "|5d0ebbbf8e15cc84019788e6d98a7c04ea5f12323b3acdf51a76a4819e1fdac7|true            |\n",
      "|3b1e887f4746d9a2d13a7bfc24a623d9ee5884a93b01c56a0e8c7d69dd6745aa|true            |\n",
      "|b9e0860774ffb5d35b7f2ad407b538facb010076d5107cdce63f299dbc5415da|false           |\n",
      "+----------------------------------------------------------------+----------------+\n",
      "only showing top 20 rows\n"
     ]
    }
   ],
   "source": [
    "from pyspark.sql.functions import when, col, lit\n",
    "\n",
    "df_usuarios_con_entrega = df_entregas_proyecto.select(\"userid\").distinct()\n",
    "\n",
    "df_alumnos_con_entrega = df_alumnos_ip.join(\n",
    "    df_usuarios_con_entrega.withColumn(\"entrego_proyecto\", lit(True)),\n",
    "    on=\"userid\",\n",
    "    how=\"left\"\n",
    ")\n",
    "df_alumnos_con_entrega = df_alumnos_con_entrega.withColumn(\n",
    "    \"entrego_proyecto\",\n",
    "    when(col(\"entrego_proyecto\").isNull(), False).otherwise(True)\n",
    ")\n",
    "\n",
    "num_no_entregaron = df_alumnos_con_entrega.filter(col(\"entrego_proyecto\") == False).count()\n",
    "print(f\"Número de alumnos: {df_alumnos_ip.count()}\")\n",
    "print(f\"Número de alumnos que no entregaron el proyecto: {num_no_entregaron}\")\n",
    "\n",
    "\n",
    "df_alumnos_con_entrega.show(truncate=False)\n"
   ]
  }
 ],
 "metadata": {
  "kernelspec": {
   "display_name": "pyspark-env",
   "language": "python",
   "name": "python3"
  },
  "language_info": {
   "codemirror_mode": {
    "name": "ipython",
    "version": 3
   },
   "file_extension": ".py",
   "mimetype": "text/x-python",
   "name": "python",
   "nbconvert_exporter": "python",
   "pygments_lexer": "ipython3",
   "version": "3.10.16"
  }
 },
 "nbformat": 4,
 "nbformat_minor": 2
}
