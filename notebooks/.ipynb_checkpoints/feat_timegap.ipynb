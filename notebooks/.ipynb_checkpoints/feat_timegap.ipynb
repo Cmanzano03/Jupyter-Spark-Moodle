{
 "cells": [],
 "metadata": {
  "kernelspec": {
   "display_name": "Spark (pyspark-env)",
   "language": "python",
   "name": "pyspark-env"
  },
  "language_info": {
   "name": "python",
   "version": "3.10.16"
  }
 },
 "nbformat": 4,
 "nbformat_minor": 2
}
