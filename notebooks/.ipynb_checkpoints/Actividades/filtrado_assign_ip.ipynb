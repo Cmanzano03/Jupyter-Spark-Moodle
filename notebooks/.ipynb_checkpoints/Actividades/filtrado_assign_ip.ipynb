{
 "cells": [
  {
   "cell_type": "markdown",
   "metadata": {},
   "source": [
    "# Filtrado de tablas para obtener información de actividades solo de la asignatura IP\n"
   ]
  },
  {
   "cell_type": "markdown",
   "metadata": {},
   "source": [
    "El objetivo de este script es el de filtrar las tablas que recogen información de las tareas entregadas para obtener solo aquellas relativas  al curso de ip, y así evitar tener que hacer un join para concatenar usuario con la tarea y otro para unir estas tuplas con solo las tareas pertenecientes a un curso. \n",
    "\n",
    "A la hora de concatenar, solo nos quedaremos con los atributos de utilidad de cada tabla."
   ]
  },
  {
   "cell_type": "markdown",
   "metadata": {},
   "source": [
    "## Configuración "
   ]
  },
  {
   "cell_type": "code",
   "execution_count": 2,
   "metadata": {},
   "outputs": [
    {
     "name": "stderr",
     "output_type": "stream",
     "text": [
      "WARNING: Using incubator modules: jdk.incubator.vector\n",
      "Using Spark's default log4j profile: org/apache/spark/log4j2-defaults.properties\n",
      "25/05/29 21:33:16 WARN Utils: Your hostname, carlos-Modern-15-A11SB, resolves to a loopback address: 127.0.1.1; using 158.49.195.162 instead (on interface wlo1)\n",
      "25/05/29 21:33:16 WARN Utils: Set SPARK_LOCAL_IP if you need to bind to another address\n",
      "Using Spark's default log4j profile: org/apache/spark/log4j2-defaults.properties\n",
      "Setting default log level to \"WARN\".\n",
      "To adjust logging level use sc.setLogLevel(newLevel). For SparkR, use setLogLevel(newLevel).\n",
      "25/05/29 21:33:17 WARN NativeCodeLoader: Unable to load native-hadoop library for your platform... using builtin-java classes where applicable\n",
      "25/05/29 21:33:18 WARN Utils: Service 'SparkUI' could not bind on port 4040. Attempting port 4041.\n",
      "25/05/29 21:33:18 WARN Utils: Service 'SparkUI' could not bind on port 4041. Attempting port 4042.\n"
     ]
    }
   ],
   "source": [
    "from pyspark.sql import SparkSession\n",
    "from pyspark.sql.functions import col\n",
    "import os\n",
    "\n",
    "# Configuración\n",
    "curso_ip = 8683\n",
    "ruta_origen = \"/home/carlos/Documentos/TFG/spark-workspace/data/raw\"\n",
    "ruta_destino = \"/home/carlos/Documentos/TFG/spark-workspace/data/raw/ip\"\n",
    "os.makedirs(ruta_destino, exist_ok=True)\n",
    "\n",
    "# Crear sesión Spark\n",
    "spark = SparkSession.builder \\\n",
    "    .appName(\"Filtrado datos curso IP\") \\\n",
    "    .master(\"local[*]\") \\\n",
    "    .config(\"spark.sql.shuffle.partitions\", \"8\") \\\n",
    "    .getOrCreate()\n"
   ]
  },
  {
   "cell_type": "markdown",
   "metadata": {},
   "source": [
    "## Filtrado de assignments y concatenación de entregas y notas"
   ]
  },
  {
   "cell_type": "markdown",
   "metadata": {},
   "source": [
    "Tras realizar esta operación, nos quedaremos con una única tabla  `assign_submission_grade_cmi` que va a tener información de  todas las tareas entregadas por los estudiantes de ip, junto con la calificación que obtuvieron en ellas. Es clave comprender que, dado que haremos un `inner join` entre las tareas de la asignatura, con las entregas asociadas a ellas, solo se guardarán como resultado de la unión aquellas tareas que tienen asociadas al menos una entrega, que son las que tienen validez para las métricas que se pretenden calcular. "
   ]
  },
  {
   "cell_type": "code",
   "execution_count": 4,
   "metadata": {},
   "outputs": [
    {
     "name": "stdout",
     "output_type": "stream",
     "text": [
      "Número de envíos de tareas del curso 8683: 1309\n",
      "Número de envíos de tareas con notas del curso 8683: 1309\n",
      "+--------------------+----------+-------------+----------+------------------------+--------------------+-------+\n",
      "|              userid|assignment|timesubmitted|   duedate|allowsubmissionsfromdate|                name|  grade|\n",
      "+--------------------+----------+-------------+----------+------------------------+--------------------+-------+\n",
      "|21ca70cb3dc6e0a86...|      7592|   1694522237|1695678900|                       0|Actividad 00. Act...|2.00000|\n",
      "|5d0ebbbf8e15cc840...|      7592|   1694517609|1695678900|                       0|Actividad 00. Act...|2.00000|\n",
      "|df7ce50a753bbb53b...|      7592|   1694515840|1695678900|                       0|Actividad 00. Act...|2.00000|\n",
      "|f27dcf10007aa8bde...|      7592|   1694489667|1695678900|                       0|Actividad 00. Act...|2.00000|\n",
      "|331604ad8e671e98e...|      7592|   1694525399|1695678900|                       0|Actividad 00. Act...|2.00000|\n",
      "+--------------------+----------+-------------+----------+------------------------+--------------------+-------+\n",
      "only showing top 5 rows\n"
     ]
    }
   ],
   "source": [
    "# Leer datos de asignaciones y envíos\n",
    "from math import trunc\n",
    "\n",
    "\n",
    "assign = spark.read.parquet(f\"{ruta_origen}/assign_cmi.parquet\")\n",
    "submissions = spark.read.parquet(f\"{ruta_origen}/assign_submission_cmi.parquet\")\n",
    "\n",
    "\n",
    "# Filtrar tabla para quedarnos solo con las tareas de ip , y quedarnos solo con los campos necesarios\n",
    "assign_ip = assign.filter(col(\"course\") == curso_ip).select(\n",
    "    \"id\", \"duedate\", \"allowsubmissionsfromdate\", \"name\"\n",
    ")\n",
    "# Concatenamos tareas con sus entregas de tal modo que no se obtendrán las tareas que no tienen asociada ninguna entrega.\n",
    "submissions_ip = (\n",
    "    submissions.join(assign_ip, submissions.assignment == assign_ip.id, \"inner\")\n",
    "    .withColumnRenamed(\"timemodified\", \"timesubmitted\")\n",
    "    .drop(\"id\")\n",
    ")\n",
    "\n",
    "number_of_submissions = submissions_ip.count()\n",
    "\n",
    "print(f\"Número de envíos de tareas del curso {curso_ip}: {number_of_submissions}\")\n",
    "\n",
    "\n",
    "# Concatenar submissions con grades, para tener información junta de entregas y notas.\n",
    "grades = spark.read.parquet(f\"{ruta_origen}/assign_grades_cmi.parquet\")\n",
    "grades_filtered = grades.select(\"userid\", \"assignment\", \"grade\")\n",
    "\n",
    "assign_submission_grade_cmi = submissions_ip.join(\n",
    "    grades_filtered, on=[\"userid\", \"assignment\"], how=\"left\"\n",
    ").drop(\"status\")\n",
    "\n",
    "#Comprobamos el número de tuplas tras la unión, para verificar si aumenta el número de tuplas,\n",
    "#lo cual podría significar que puede haber asociadas varias notas para una misma entrega.\n",
    "number_of_assign_submission_grade = assign_submission_grade_cmi.count()\n",
    "print(f\"Número de envíos de tareas con notas del curso {curso_ip}: {number_of_assign_submission_grade}\")\n",
    "\n",
    "assign_submission_grade_cmi.show(5)\n",
    "\n",
    "# Escribir el dataframe a parquet para dejarlo listo para métricas\n",
    "# # if not os.path.exists(f\"{ruta_destino}/assign_submission_cmi.parquet\"):\n",
    "# #     assign_submission_grade_cmi.write.mode(\"overwrite\").parquet(f\"{ruta_destino}/assign_submission_grade_cmi.parquet\")\n",
    "# #     print(\"assign_submission_grade_cmi.parquet creado :)\")\n",
    "\n"
   ]
  },
  {
   "cell_type": "markdown",
   "metadata": {},
   "source": [
    "Como podemos apreciar, el número de tuplas que tiene el dataframe producto de la unión de tareas con entregas es igual al valor devuelto al calcularlo para el dataframe resultante de la unión del anterior con las notas por cada usuario y tarea. Por lo tanto, se ha verificado con éxito que no existe más de una nota publicada para cada entrega de una tarea."
   ]
  },
  {
   "cell_type": "markdown",
   "metadata": {},
   "source": [
    "## Exploración de los datos \n"
   ]
  },
  {
   "cell_type": "markdown",
   "metadata": {},
   "source": [
    "A continuación, se van a explorar  los datos obtenidos en la anterior celda. En primer lugar, las aulas pueden tener muchas actividades publicadas, pero que permanecen durante el curso ocultas para los alumnos dado que son de utilidad al profesorado pero no se pretende que las realicen los alumnos. Por lo tanto, para nuestras métricas solo se deberán considerar aquellas que hayan sido realmente publicadas durante el curso.\n",
    "\n",
    "Para ello, analizaremos , del total de tareas que están publicadas en el aula, cuales de ellas tienen registrada al menos una entrega, dado que esto significará que estuvo visible.\n",
    "\n",
    "Al  calcularse la unión de las entregas con las actividades  para dar lugar al dataframe `submissions_ip` se hizo un `inner join`, aquellas tareas que no tuvieran asociadas ninguna entrega no cumplieron la condición de join y por lo tanto no fueron devueltas en la operación. \n",
    "\n",
    "Por este motivo, para comprobar qué tareas realmente tuvieron alguna entrega nos bastará con contar el número de tuplas de ese dataframe, quedandonos solo con los valores distintos del identificador de tarea, para evitar contar el número de entregas de cada tarea."
   ]
  },
  {
   "cell_type": "code",
   "execution_count": 8,
   "metadata": {},
   "outputs": [
    {
     "name": "stdout",
     "output_type": "stream",
     "text": [
      "Número total de tareas: 34\n",
      "Número de tareas con al menos una entrega: 14 \n",
      "\n",
      "===========================================\n",
      "\n",
      "Identificador, nombre y fecha de entrega de todas las tareas\n",
      "+------+--------------------------------------------------------------------------------------------------------------------------+-----------------+\n",
      "|id    |name                                                                                                                      |duedate_formatted|\n",
      "+------+--------------------------------------------------------------------------------------------------------------------------+-----------------+\n",
      "|7592  |Actividad 00. Actualización del perfil en el campus virtual                                                               |25/09/23         |\n",
      "|96123 |Calificación y comentarios de la actividad 02                                                                             |01/01/70         |\n",
      "|107688|Entrega actividad 07                                                                                                      |20/11/23         |\n",
      "|89174 |Entrega actividad 10                                                                                                      |16/12/21         |\n",
      "|87956 |Entrega actividad 8                                                                                                       |22/11/21         |\n",
      "|57941 |Entrega de la actividad 06: Números triangulares                                                                          |09/11/20         |\n",
      "|108682|Entrega de la actividad 08 - Proyecto - Parejas - NO VALE                                                                 |11/12/23         |\n",
      "|108640|Entrega de la actividad 08 - Realizada en pareja                                                                          |11/12/23         |\n",
      "|108641|Entrega de la actividad 08 - Realizada individualmente                                                                    |11/12/23         |\n",
      "|98388 |Entrega de la actividad 08.                                                                                               |21/11/22         |\n",
      "|72910 |Entrega de la actividad 2                                                                                                 |05/10/20         |\n",
      "|87501 |Entrega de la actividad 2 - Manifestación                                                                                 |14/11/21         |\n",
      "|73578 |Entrega de la actividad 2 extra                                                                                           |19/10/20         |\n",
      "|73384 |Entrega de la actividad 3                                                                                                 |19/10/20         |\n",
      "|87502 |Entrega de la actividad 3 - Primorial                                                                                     |14/11/21         |\n",
      "|74061 |Entrega de la actividad 4                                                                                                 |26/10/20         |\n",
      "|87503 |Entrega de la actividad 4 - Subfactorial                                                                                  |14/11/21         |\n",
      "|75353 |Entrega de la actividad 7                                                                                                 |14/11/22         |\n",
      "|76316 |Entrega de la actividad 8                                                                                                 |03/12/20         |\n",
      "|88771 |Entrega de la actividad 9                                                                                                 |12/12/22         |\n",
      "|83808 |Entrega del proyecto Juego \"Set\"                                                                                          |13/01/22         |\n",
      "|94372 |Entrega del proyecto Juego \"Set\" (adelanto de convocatoria)                                                               |30/05/22         |\n",
      "|94839 |Entrega del proyecto Juego \"Set\" (junio)                                                                                  |29/06/22         |\n",
      "|99927 |Entrega del proyecto de programación \"Number Match\"                                                                       |19/01/23         |\n",
      "|104574|Entrega del proyecto de programación \"Number Match\"                                                                       |19/06/23         |\n",
      "|104301|Entrega del proyecto de programación \"Number Match\" - Solo para las personas que han adelantado convocatoria en secretaría|23/05/23         |\n",
      "|113317|Entrega del proyecto de programación Gomoku                                                                               |27/05/24         |\n",
      "|109226|Entrega del proyecto de programación Gomoku - Realizado en pareja                                                         |24/01/24         |\n",
      "|113721|Entrega del proyecto de programación Gomoku - Realizado en pareja                                                         |01/07/24         |\n",
      "|108047|Entrega del proyecto de programación Gomoku - Realizado individualmente                                                   |24/01/24         |\n",
      "|113720|Entrega del proyecto de programación Gomoku - Realizado individualmente                                                   |01/07/24         |\n",
      "|76006 |Enunciado y entrega del examen                                                                                            |01/01/70         |\n",
      "|74627 |Reflexión sobre la Actividad 4                                                                                            |03/11/20         |\n",
      "|58781 |Tarea para la entrega de la Actividad 09                                                                                  |16/12/20         |\n",
      "+------+--------------------------------------------------------------------------------------------------------------------------+-----------------+\n",
      "\n",
      "\n",
      "\n",
      "Identificador, nombre y fecha de entrega de las tareas con al menos una entrega\n",
      "+----------+-----------------------------------------------------------------------+-----------------+\n",
      "|assignment|name                                                                   |duedate_formatted|\n",
      "+----------+-----------------------------------------------------------------------+-----------------+\n",
      "|7592      |Actividad 00. Actualización del perfil en el campus virtual            |25/09/23         |\n",
      "|96123     |Calificación y comentarios de la actividad 02                          |01/01/70         |\n",
      "|107688    |Entrega actividad 07                                                   |20/11/23         |\n",
      "|108682    |Entrega de la actividad 08 - Proyecto - Parejas - NO VALE              |11/12/23         |\n",
      "|108640    |Entrega de la actividad 08 - Realizada en pareja                       |11/12/23         |\n",
      "|108641    |Entrega de la actividad 08 - Realizada individualmente                 |11/12/23         |\n",
      "|98388     |Entrega de la actividad 08.                                            |21/11/22         |\n",
      "|88771     |Entrega de la actividad 9                                              |12/12/22         |\n",
      "|99927     |Entrega del proyecto de programación \"Number Match\"                    |19/01/23         |\n",
      "|113317    |Entrega del proyecto de programación Gomoku                            |27/05/24         |\n",
      "|109226    |Entrega del proyecto de programación Gomoku - Realizado en pareja      |24/01/24         |\n",
      "|113721    |Entrega del proyecto de programación Gomoku - Realizado en pareja      |01/07/24         |\n",
      "|108047    |Entrega del proyecto de programación Gomoku - Realizado individualmente|24/01/24         |\n",
      "|113720    |Entrega del proyecto de programación Gomoku - Realizado individualmente|01/07/24         |\n",
      "+----------+-----------------------------------------------------------------------+-----------------+\n",
      "\n"
     ]
    }
   ],
   "source": [
    "\n",
    "from pyspark.sql.functions import from_unixtime, date_format\n",
    "\n",
    "# Número total de tareas del curso\n",
    "num_total_tareas_ip = assign_ip.select(\"id\").distinct().count()\n",
    "\n",
    "# Número de tareas con al menos una entrega asociada\n",
    "num_tareas_con_entregas_ip = assign_submission_grade_cmi.select(\"assignment\").distinct().count() \n",
    "\n",
    "print(f\"Número total de tareas: {num_total_tareas_ip}\")\n",
    "print(f\"Número de tareas con al menos una entrega: {num_tareas_con_entregas_ip} \\n\")\n",
    "\n",
    "print(\"===========================================\\n\")\n",
    "\n",
    "print(\"Identificador, nombre y fecha de entrega de todas las tareas\")\n",
    "\n",
    "assign_ip_f = assign_ip.withColumn(\n",
    "      \"duedate_formatted\", date_format(from_unixtime(col(\"duedate\")), \"dd/MM/yy\")\n",
    ")\n",
    "assign_ip_f.select(\"id\", \"name\", \"duedate_formatted\").orderBy(\"name\").show(100, truncate=False)\n",
    "\n",
    "print(\"\\n\")\n",
    "print(\"Identificador, nombre y fecha de entrega de las tareas con al menos una entrega\")\n",
    "\n",
    "assign_submission_grade_cmi_F = assign_submission_grade_cmi.withColumn(\n",
    "      \"duedate_formatted\", date_format(from_unixtime(col(\"duedate\")), \"dd/MM/yy\")\n",
    ")\n",
    "assign_submission_grade_cmi_F.select(\n",
    "      \"assignment\", \"name\", \"duedate_formatted\"\n",
    ").dropDuplicates([\"assignment\"]).orderBy(\"name\").show(100, truncate=False)\n",
    "    "
   ]
  },
  {
   "cell_type": "markdown",
   "metadata": {},
   "source": [
    "Tras ver detenidamente la salida, podemos apreciar algo muy extraño.\n",
    "\n",
    "La gran mayoría de las tareas del aula, no tienen asociada ninguna entrega en el curso que se está considerando. Se tiene que estudiar a qué se puede debrer esto, dado que resulta muy extraño que solo se tenga información de entregas en la primera tarea del curso, y de las entregas del proyecto de la asignatura, pero no de ninguna de las que se producen en los meses de octubre y noviembre. Además, se puede observar que hay registradas entregas en tareas que en principio, finalizaban en años anteriores.\n",
    "\n",
    "Por ejemplo, fijemonos en todas las entregas que hizo un estudiante  aleatorio a lo largo de un curso.\n"
   ]
  },
  {
   "cell_type": "markdown",
   "metadata": {},
   "source": []
  },
  {
   "cell_type": "markdown",
   "metadata": {},
   "source": []
  }
 ],
 "metadata": {
  "kernelspec": {
   "display_name": "pyspark-env",
   "language": "python",
   "name": "python3"
  },
  "language_info": {
   "codemirror_mode": {
    "name": "ipython",
    "version": 3
   },
   "file_extension": ".py",
   "mimetype": "text/x-python",
   "name": "python",
   "nbconvert_exporter": "python",
   "pygments_lexer": "ipython3",
   "version": "3.10.16"
  }
 },
 "nbformat": 4,
 "nbformat_minor": 2
}
