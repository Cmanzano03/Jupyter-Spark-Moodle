{
 "cells": [
  {
   "cell_type": "markdown",
   "metadata": {},
   "source": [
    "# Filtrado de cuestionarios\n"
   ]
  },
  {
   "cell_type": "markdown",
   "metadata": {},
   "source": [
    "En este script, vamos a filtrar los cuestionarios de la base de datos de moodle para quedarnos solo con aquellos pertenecientes a la asginatura IP, y obtener solo la información que nos sea util de estas tablas.\n",
    "\n"
   ]
  },
  {
   "cell_type": "markdown",
   "metadata": {},
   "source": [
    "## Configuración \n"
   ]
  },
  {
   "cell_type": "code",
   "execution_count": null,
   "metadata": {},
   "outputs": [],
   "source": [
    "from pyspark.sql import SparkSession\n",
    "from pyspark.sql.functions import col\n",
    "import os\n",
    "\n",
    "# Configuración\n",
    "curso_ip = 8683\n",
    "ruta_origen = \"/home/carlos/Documentos/TFG/spark-workspace/data/raw\"\n",
    "ruta_destino = \"/home/carlos/Documentos/TFG/spark-workspace/data/raw/ip\"\n",
    "os.makedirs(ruta_destino, exist_ok=True)\n",
    "\n",
    "# Crear sesión Spark\n",
    "spark = SparkSession.builder \\\n",
    "    .appName(\"Filtrado datos curso IP\") \\\n",
    "    .master(\"local[*]\") \\\n",
    "    .config(\"spark.sql.shuffle.partitions\", \"8\") \\\n",
    "    .getOrCreate()\n"
   ]
  },
  {
   "cell_type": "markdown",
   "metadata": {},
   "source": [
    "## Carga y filtrado de datos"
   ]
  },
  {
   "cell_type": "code",
   "execution_count": null,
   "metadata": {},
   "outputs": [],
   "source": [
    "\n",
    "# Cargar datos\n",
    "quizes = spark.read.parquet(f\"{ruta_origen}/quiz_cmi.parquet\")\n",
    "attempts = spark.read.parquet(f\"{ruta_origen}/quiz_attempts_cmi.parquet\")\n",
    "\n",
    "print(\"=========quiz===============================\")\n",
    "\n",
    "quizes.printSchema()\n",
    "print(\"=========quiz_attempts===============================\")\n",
    "attempts.printSchema()\n",
    "attempts.show(5, truncate=False)\n"
   ]
  }
 ],
 "metadata": {
  "kernelspec": {
   "display_name": "pyspark-env",
   "language": "python",
   "name": "python3"
  },
  "language_info": {
   "name": "python",
   "version": "3.10.16"
  }
 },
 "nbformat": 4,
 "nbformat_minor": 2
}
