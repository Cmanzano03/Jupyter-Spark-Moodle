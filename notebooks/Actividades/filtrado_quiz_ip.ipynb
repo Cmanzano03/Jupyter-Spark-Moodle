{
 "cells": [
  {
   "cell_type": "markdown",
   "metadata": {},
   "source": [
    "# Ingesta de cuestionarios\n"
   ]
  },
  {
   "cell_type": "markdown",
   "metadata": {},
   "source": [
    "En este script, vamos a filtrar los cuestionarios de la base de datos de moodle para quedarnos solo con aquellos pertenecientes a la asginatura IP, y obtener solo la información que nos sea util de estas tablas.\n",
    "\n"
   ]
  },
  {
   "cell_type": "markdown",
   "metadata": {},
   "source": [
    "## Configuración \n"
   ]
  },
  {
   "cell_type": "code",
   "execution_count": null,
   "metadata": {},
   "outputs": [
    {
     "name": "stderr",
     "output_type": "stream",
     "text": [
      "WARNING: Using incubator modules: jdk.incubator.vector\n",
      "Using Spark's default log4j profile: org/apache/spark/log4j2-defaults.properties\n",
      "25/05/31 17:56:42 WARN Utils: Your hostname, carlos-Modern-15-A11SB, resolves to a loopback address: 127.0.1.1; using 192.168.1.182 instead (on interface wlo1)\n",
      "25/05/31 17:56:42 WARN Utils: Set SPARK_LOCAL_IP if you need to bind to another address\n",
      "Using Spark's default log4j profile: org/apache/spark/log4j2-defaults.properties\n",
      "Setting default log level to \"WARN\".\n",
      "To adjust logging level use sc.setLogLevel(newLevel). For SparkR, use setLogLevel(newLevel).\n",
      "25/05/31 17:56:44 WARN NativeCodeLoader: Unable to load native-hadoop library for your platform... using builtin-java classes where applicable\n"
     ]
    }
   ],
   "source": [
    "from pyspark.sql import SparkSession\n",
    "from pyspark.sql.functions import col\n",
    "from pyspark.sql.functions import count\n",
    "from itertools import count\n",
    "\n",
    "\n",
    "import os\n",
    "\n",
    "# Configuración\n",
    "curso_ip = 8683\n",
    "ruta_origen = \"/home/carlos/Documentos/TFG/spark-workspace/data/raw\"\n",
    "ruta_destino = \"/home/carlos/Documentos/TFG/spark-workspace/data/raw/ip\"\n",
    "os.makedirs(ruta_destino, exist_ok=True)\n",
    "\n",
    "# Crear sesión Spark\n",
    "spark = SparkSession.builder \\\n",
    "    .appName(\"Filtrado datos curso IP\") \\\n",
    "    .master(\"local[*]\") \\\n",
    "    .config(\"spark.sql.shuffle.partitions\", \"8\") \\\n",
    "    .getOrCreate()\n"
   ]
  },
  {
   "cell_type": "markdown",
   "metadata": {},
   "source": [
    "## Carga y visualización de datos de partida"
   ]
  },
  {
   "cell_type": "code",
   "execution_count": null,
   "metadata": {},
   "outputs": [
    {
     "name": "stdout",
     "output_type": "stream",
     "text": [
      "=========quiz===============================\n",
      "root\n",
      " |-- id: long (nullable = true)\n",
      " |-- course: long (nullable = true)\n",
      " |-- timeopen: long (nullable = true)\n",
      " |-- timeclose: long (nullable = true)\n",
      " |-- name: string (nullable = true)\n",
      " |-- timemodified: long (nullable = true)\n",
      "\n",
      "+----+------+--------+----------+--------------------------+------------+\n",
      "|id  |course|timeopen|timeclose |name                      |timemodified|\n",
      "+----+------+--------+----------+--------------------------+------------+\n",
      "|2601|2677  |0       |0         |CUESTIONARIO              |1286204734  |\n",
      "|2603|2677  |0       |2147483647|mi cuestionario del tema 1|1170958009  |\n",
      "|2605|2677  |0       |0         |Cuestionario              |1171213742  |\n",
      "|2607|2677  |0       |0         |CUESTIONARIO              |1224176555  |\n",
      "|2609|2677  |0       |0         |CUESTIONARIO              |1191603192  |\n",
      "+----+------+--------+----------+--------------------------+------------+\n",
      "only showing top 5 rows\n",
      "=========quiz_attempts===============================\n",
      "root\n",
      " |-- quiz: long (nullable = true)\n",
      " |-- userid: string (nullable = true)\n",
      " |-- state: string (nullable = true)\n",
      " |-- attempt: long (nullable = true)\n",
      " |-- sumgrades: string (nullable = true)\n",
      " |-- timestart: long (nullable = true)\n",
      " |-- timefinish: long (nullable = true)\n",
      "\n",
      "+-----+----------------------------------------------------------------+----------+-------+---------+----------+----------+\n",
      "|quiz |userid                                                          |state     |attempt|sumgrades|timestart |timefinish|\n",
      "+-----+----------------------------------------------------------------+----------+-------+---------+----------+----------+\n",
      "|34119|c867d94edbcd44031fd6ef0caea840f437a7623ce14b6b239ece24918c777299|inprogress|1      |\\N       |1691324676|0         |\n",
      "|36880|de83c8c1ab866148371b00e8e562bfb7b6de32104a2979788eba4982b9fe340e|finished  |1      |10.00000 |1692286401|1692287080|\n",
      "|37855|8683c9bb9d30718a70f3f8a107214910bccaab7e1caf51698570102c61fa1e2f|inprogress|1      |\\N       |1692752734|0         |\n",
      "|39598|2fcc9aa228e23c04993c6bfb96925210aa2cb7103df147898e3d94a2e9a64734|inprogress|1      |\\N       |1693211669|0         |\n",
      "|34094|f9ab59f28a921e917615f0292e7717629a50b0734c32bd581bfd395fce8863c8|inprogress|1      |\\N       |1693815614|0         |\n",
      "+-----+----------------------------------------------------------------+----------+-------+---------+----------+----------+\n",
      "only showing top 5 rows\n"
     ]
    }
   ],
   "source": [
    "\n",
    "# Cargar datos\n",
    "quizes = spark.read.parquet(f\"{ruta_origen}/quiz_cmi.parquet\")\n",
    "attempts = spark.read.parquet(f\"{ruta_origen}/quiz_attempts_cmi.parquet\")\n",
    "\n",
    "print(\"=========quiz===============================\")\n",
    "\n",
    "quizes.printSchema()\n",
    "quizes.show(5, truncate=False)\n",
    "print(\"=========quiz_attempts===============================\")\n",
    "attempts.printSchema()\n",
    "attempts.show(5, truncate=False)\n"
   ]
  },
  {
   "cell_type": "markdown",
   "metadata": {},
   "source": [
    "## Filtrado de datos \n"
   ]
  },
  {
   "cell_type": "markdown",
   "metadata": {},
   "source": [
    "En primer lugar, vamos a quedarnos solo con aquellos cuestionarios de la asignatura IP"
   ]
  },
  {
   "cell_type": "code",
   "execution_count": 4,
   "metadata": {},
   "outputs": [
    {
     "name": "stdout",
     "output_type": "stream",
     "text": [
      "+-----+------+----------+----------+-------------------------------------------------------------------+------------+\n",
      "|id   |course|timeopen  |timeclose |name                                                               |timemodified|\n",
      "+-----+------+----------+----------+-------------------------------------------------------------------+------------+\n",
      "|14457|8683  |1695123000|0         |Actividad 01: Test sobre expresiones y programas simples           |1697623785  |\n",
      "|16011|8683  |1699360200|1700261700|Actividad 06. Test sobre complejidad                               |1699985605  |\n",
      "|16681|8683  |1694507400|0         |Cuestionario previo a la clase 1                                   |1697623785  |\n",
      "|16685|8683  |1694593800|0         |Cuestionario previo a la clase 2                                   |1697623785  |\n",
      "|16709|8683  |0         |0         |Cuestionario previo a la clase 05                                  |1697623785  |\n",
      "|16720|8683  |0         |0         |Cuestionario previo a la clase 6                                   |1697623785  |\n",
      "|16750|8683  |0         |0         |Cuestionario previo a la clase 10                                  |1697623785  |\n",
      "|16804|8683  |0         |0         |Cuestionario previo a la clase 13                                  |1697623785  |\n",
      "|16862|8683  |0         |0         |Cuestionario previo a la clase 18 - Vectores                       |1697801156  |\n",
      "|16889|8683  |0         |0         |Cuestionario previo a la clase 22 - Registros y TAD                |1699118109  |\n",
      "|16900|8683  |0         |0         |Cuestionario previo a la clase 23 - Vectores con ocupación variable|1699118233  |\n",
      "|19424|8683  |0         |1605567300|Autoevaluación de la actividad 06: Números triangulares            |1697623785  |\n",
      "|29266|8683  |0         |0         |Cuestionario previo a la clase 3                                   |1697623785  |\n",
      "|29428|8683  |0         |1604444100|Cuestionario de autoevaluación de la actividad 2                   |1697623786  |\n",
      "|29564|8683  |0         |1604444100|Cuestionario de autoevaluación de la actividad 3                   |1697623786  |\n",
      "|29618|8683  |0         |1603144500|Cuestionario de autoevaluación de la actividad 2 extra             |1697623786  |\n",
      "|29752|8683  |0         |1604444100|Cuestionario de autoevaluación de la actividad 4                   |1697623785  |\n",
      "|30080|8683  |1605011400|1606172100|Cuestionario de autoevaluación de la actividad 7                   |1697623786  |\n",
      "|30422|8683  |1606379280|1607036340|Cuestionario de autoevaluación de la actividad 8                   |1697623785  |\n",
      "|30535|8683  |1606998600|1608159540|Cuestionario de autoevaluación de la actividad 9                   |1697623786  |\n",
      "+-----+------+----------+----------+-------------------------------------------------------------------+------------+\n",
      "\n"
     ]
    }
   ],
   "source": [
    "quizes_ip = quizes.filter(col(\"course\") == curso_ip)\n",
    "\n",
    "quizes_ip.show(1000, truncate=False)"
   ]
  },
  {
   "cell_type": "markdown",
   "metadata": {},
   "source": [
    "Ahora, vamos a concatenar esta tabla con los intentos mediante un `INNER JOIN`, de tal modo que nos quedaremos solo con aquellos cuestionarios que tengan al menos una entrega asociada, y también solo con los intentos de cuestionarios que estén asociados a un quiz válido. \n",
    "\n",
    "De este modo, el resultado será un dataframe que tendrá información de todas las entregas hechas en el curso, en el que cada entrega tendrá concatenada información del cuestionario al que estaba asociado."
   ]
  },
  {
   "cell_type": "code",
   "execution_count": null,
   "metadata": {},
   "outputs": [
    {
     "name": "stdout",
     "output_type": "stream",
     "text": [
      "root\n",
      " |-- quiz_id: long (nullable = true)\n",
      " |-- name: string (nullable = true)\n",
      " |-- timeopen: long (nullable = true)\n",
      " |-- timeclose: long (nullable = true)\n",
      " |-- userid: string (nullable = true)\n",
      " |-- state: string (nullable = true)\n",
      " |-- attempt: long (nullable = true)\n",
      " |-- sumgrades: string (nullable = true)\n",
      " |-- timestart: long (nullable = true)\n",
      " |-- timefinish: long (nullable = true)\n",
      "\n",
      "+-------+--------------------------------+----------+---------+----------------------------------------------------------------+--------+-------+---------+----------+----------+\n",
      "|quiz_id|name                            |timeopen  |timeclose|userid                                                          |state   |attempt|sumgrades|timestart |timefinish|\n",
      "+-------+--------------------------------+----------+---------+----------------------------------------------------------------+--------+-------+---------+----------+----------+\n",
      "|16681  |Cuestionario previo a la clase 1|1694507400|0        |5220ebcc6c2637b854099b7c7658e3b3ec8a601fb6ec1bb12e7dd6deda800e7f|finished|1      |3.00000  |1694508376|1694535081|\n",
      "|16681  |Cuestionario previo a la clase 1|1694507400|0        |e6d549bd33db7e6e9cacf7a4030245ca8d8f24184df4335a102828be221659c6|finished|1      |4.00000  |1694508380|1694527333|\n",
      "|16681  |Cuestionario previo a la clase 1|1694507400|0        |be5f4c5ecc6e2f0d3f519143dd97089ee9c9d2ed9cd4084b0d9292b9b2b0890b|finished|1      |4.00000  |1694512290|1694512721|\n",
      "|16681  |Cuestionario previo a la clase 1|1694507400|0        |be5f4c5ecc6e2f0d3f519143dd97089ee9c9d2ed9cd4084b0d9292b9b2b0890b|finished|2      |5.00000  |1694512734|1694512815|\n",
      "|16681  |Cuestionario previo a la clase 1|1694507400|0        |df7ce50a753bbb53b8e1d9eaf6a3432fa82b4e47e002142d2cf924451f3b39b1|finished|1      |3.00000  |1694515920|1694516301|\n",
      "+-------+--------------------------------+----------+---------+----------------------------------------------------------------+--------+-------+---------+----------+----------+\n",
      "only showing top 5 rows\n"
     ]
    }
   ],
   "source": [
    "from pyspark.sql.functions import count as spark_count\n",
    "\n",
    "\n",
    "quiz_attempts_ip = quizes_ip.join(attempts, quizes_ip.id == attempts.quiz, \"inner\") \\\n",
    "      .select(col(\"id\").alias(\"quiz_id\"), \"name\", \"timeopen\", \"timeclose\", \"userid\", \"state\", \"attempt\", \"sumgrades\", \"timestart\", \"timefinish\") # Atributos que nos interesa almacenar\n",
    "quiz_attempts_ip.printSchema()\n",
    "\n",
    "quiz_attempts_ip.show(5, truncate=False)\n",
    " "
   ]
  },
  {
   "cell_type": "markdown",
   "metadata": {},
   "source": [
    "Veamos cuantos cuestionarios han pasado la condición de join, y cuantas entregas tiene asociado cada cuestionario"
   ]
  },
  {
   "cell_type": "code",
   "execution_count": null,
   "metadata": {},
   "outputs": [
    {
     "name": "stdout",
     "output_type": "stream",
     "text": [
      "+-------+-------------------------------------------------------------------+------------+\n",
      "|quiz_id|name                                                               |num_attempts|\n",
      "+-------+-------------------------------------------------------------------+------------+\n",
      "|14457  |Actividad 01: Test sobre expresiones y programas simples           |252         |\n",
      "|16011  |Actividad 06. Test sobre complejidad                               |278         |\n",
      "|16681  |Cuestionario previo a la clase 1                                   |208         |\n",
      "|16685  |Cuestionario previo a la clase 2                                   |200         |\n",
      "|16709  |Cuestionario previo a la clase 05                                  |211         |\n",
      "|16720  |Cuestionario previo a la clase 6                                   |229         |\n",
      "|16750  |Cuestionario previo a la clase 10                                  |186         |\n",
      "|16804  |Cuestionario previo a la clase 13                                  |187         |\n",
      "|16862  |Cuestionario previo a la clase 18 - Vectores                       |183         |\n",
      "|16889  |Cuestionario previo a la clase 22 - Registros y TAD                |144         |\n",
      "|16900  |Cuestionario previo a la clase 23 - Vectores con ocupación variable|149         |\n",
      "|29266  |Cuestionario previo a la clase 3                                   |242         |\n",
      "+-------+-------------------------------------------------------------------+------------+\n",
      "\n",
      "Número de cuestionarios inicial: 20 \n",
      "Número de cuestionarios tras quedarnos con aquellos que tienen asociada al menos una entrega: 12\n"
     ]
    }
   ],
   "source": [
    "\n",
    "attemps_per_quiz = quiz_attempts_ip.groupBy(\"quiz_id\", \"name\").agg(count(\"*\").alias(\"num_attempts\")).orderBy(\"quiz_id\")\n",
    "\n",
    "attemps_per_quiz.show(1000, truncate=False)\n",
    "\n",
    "print(f\"Número de cuestionarios inicial: {quizes_ip.count()} \")\n",
    "print(f\"Número de cuestionarios tras quedarnos con aquellos que tienen asociada al menos una entrega: {attemps_per_quiz.count()}\")"
   ]
  },
  {
   "cell_type": "markdown",
   "metadata": {},
   "source": [
    "Podemos ver como han desaparecido 8 cuestionarios que estaban asociados al aula, pero que realmente no tenían ninguna entrega, así que han dejado de aparecer tras concatenar ambas tablas. \n",
    "\n",
    "Ahora, el siguiente paso será quedarnos solo con los cuestionarios y entregas las cuales hayan sido realizadas por estudiantes matrículados en la asignatura."
   ]
  },
  {
   "cell_type": "code",
   "execution_count": null,
   "metadata": {},
   "outputs": [
    {
     "name": "stdout",
     "output_type": "stream",
     "text": [
      "+-------+-------------------------------------------------------------------+------------+\n",
      "|quiz_id|name                                                               |num_attempts|\n",
      "+-------+-------------------------------------------------------------------+------------+\n",
      "|14457  |Actividad 01: Test sobre expresiones y programas simples           |248         |\n",
      "|16011  |Actividad 06. Test sobre complejidad                               |274         |\n",
      "|16681  |Cuestionario previo a la clase 1                                   |203         |\n",
      "|16685  |Cuestionario previo a la clase 2                                   |197         |\n",
      "|16709  |Cuestionario previo a la clase 05                                  |208         |\n",
      "|16720  |Cuestionario previo a la clase 6                                   |223         |\n",
      "|16750  |Cuestionario previo a la clase 10                                  |177         |\n",
      "|16804  |Cuestionario previo a la clase 13                                  |180         |\n",
      "|16862  |Cuestionario previo a la clase 18 - Vectores                       |180         |\n",
      "|16889  |Cuestionario previo a la clase 22 - Registros y TAD                |141         |\n",
      "|16900  |Cuestionario previo a la clase 23 - Vectores con ocupación variable|146         |\n",
      "|29266  |Cuestionario previo a la clase 3                                   |237         |\n",
      "+-------+-------------------------------------------------------------------+------------+\n",
      "\n",
      "Número de cuestionarios tras quedarnos con aquellos que tienen asociada al menos una entrega y un alumno: 12\n",
      "root\n",
      " |-- userid: string (nullable = true)\n",
      " |-- quiz_id: long (nullable = true)\n",
      " |-- name: string (nullable = true)\n",
      " |-- timeopen: long (nullable = true)\n",
      " |-- timeclose: long (nullable = true)\n",
      " |-- state: string (nullable = true)\n",
      " |-- attempt: long (nullable = true)\n",
      " |-- sumgrades: string (nullable = true)\n",
      " |-- timestart: long (nullable = true)\n",
      " |-- timefinish: long (nullable = true)\n",
      "\n"
     ]
    }
   ],
   "source": [
    "\n",
    "\n",
    "students_ip = spark.read.parquet(f\"{ruta_origen}/alumnos_ip_cmi.parquet\")\n",
    "\n",
    "quiz_attempts_ip_st = quiz_attempts_ip.join(students_ip, [\"userid\"], \"inner\")\n",
    "\n",
    "attemps_per_quiz_st = quiz_attempts_ip_st.groupBy(\"quiz_id\", \"name\").agg(count(\"*\").alias(\"num_attempts\")).orderBy(\"quiz_id\")\n",
    "\n",
    "attemps_per_quiz_st.show(1000, truncate=False)\n",
    "\n",
    "print(f\"Número de cuestionarios tras quedarnos con aquellos que tienen asociada al menos una entrega y un alumno: {attemps_per_quiz_st.count()}\")\n",
    "\n",
    "\n"
   ]
  },
  {
   "cell_type": "markdown",
   "metadata": {},
   "source": [
    "Podemos ver que no ha desaparecido ningún cuestionario tras aplicar esta unión, simplemente si que se ha reducido un poco el número de entregas que tiene cada cuestionario, quizás por que algunas de las entregas de los cuestionarios fueran hechos por estudiantes que no estaban ofucialmente matriculados o a lo mejor por haber sido de usuarios con rol de profesor que simplemente probaron el cuestionario tras crearlo para verificar que estuviera correcto. \n"
   ]
  },
  {
   "cell_type": "markdown",
   "metadata": {},
   "source": [
    "## Exploración final de los datos"
   ]
  },
  {
   "cell_type": "markdown",
   "metadata": {},
   "source": [
    "Vamos a hacer alguna comprobación extra a los datos antes de almacenarlos y comenzar a calcular métricas sobre ellos, como cuantas de las entregas tienen la columna state con el valor finished y con los otros valores posibles, y ver si hay mucha diferencia entre la cantidad de entregas que ha hecho cada usuario registrado en la tabla"
   ]
  },
  {
   "cell_type": "code",
   "execution_count": null,
   "metadata": {},
   "outputs": [
    {
     "name": "stdout",
     "output_type": "stream",
     "text": [
      "Cuantos entregas hay asociadas a cada tipo de intento de cuestionario en base a su estado:\n",
      "\n",
      "+----------+-----+\n",
      "|state     |count|\n",
      "+----------+-----+\n",
      "|inprogress|16   |\n",
      "|finished  |2391 |\n",
      "|abandoned |7    |\n",
      "+----------+-----+\n",
      "\n",
      "Cantidad de entregas hechas por alumno en el curso:\n",
      "\n",
      "+----------------------------------------------------------------+------------+\n",
      "|userid                                                          |num_attempts|\n",
      "+----------------------------------------------------------------+------------+\n",
      "|006b0e7bd07cec05e0952cb61c30893f6d30d7962f9efc99d0f041f6fadcc320|8           |\n",
      "|00ded60939d4949cc46e46e865b25d3f11756733cf946087710c61eda02729e1|13          |\n",
      "|05912200993a87a89df1a6ca9ac3d6493e2c4cc178760d8ee1da41033ac01b3e|13          |\n",
      "|073b1d0ee1d3857d50ea87087b25bbc6f5dbdbd2e94bcf52b89c48afa37e8c16|22          |\n",
      "|080b2c8b65e9d941f12e62b7d2b9fa22b669f06aeed07df5683fdf93a799204d|3           |\n",
      "|091af124e119a447c7f6594fb2f7c4fbb678f669966db01e3f62c26eedb220af|12          |\n",
      "|0a2e27fd5eb3547b064f5bcd8a26472c8802e19a5c158b380539e85b42d194d9|14          |\n",
      "|11c0d56ee71665bfe766f1a57c333061cb34d747204264191ee23b775e6edab4|15          |\n",
      "|13a777f8c88ba748246449dfb45dcb8f76056a22f0b11edbbe00059cff72d227|18          |\n",
      "|1416df0e4f8e87e449252eb090626d70cd44503423c5e0372668c647c840daca|9           |\n",
      "|155bac00763fa5e9f2bacce2ccbbd4e2c75478b806949521185f44683a01a707|6           |\n",
      "|178ba123e4d3f50b809aed0daae1eb6fd2fc5f20d7a0f45d888157d84284f9ac|15          |\n",
      "|17ab20c1e9ffc41ce9dd9fa7dfdd13d54f3e6b179d7ee5b09ce8685dc2db6de9|7           |\n",
      "|17c5ff7d8da3431c13b40939bd319dc59e2d96faf33d080343928588648f9a2a|12          |\n",
      "|1c4901d900185d7d858b332a35b59a1097a13c841e96f59abb2af4c12e758f8a|4           |\n",
      "|1d1856f6484743138f3f5af94f53e7f07ebcddbb758aa3283aee331208986673|13          |\n",
      "|1eb71b909eafe58bed1e609b8b892aac7a3164d7266cc1ca2d8c26b7a3151b75|25          |\n",
      "|1efeed54fbf60a557308e2c340a56ac0ac8906df1eb77e6214e5642be60c4126|11          |\n",
      "|1f7c4f3696e53b122378adaa2c4d7d4069b53c30fa8171bfbff624810448bf9f|13          |\n",
      "|21ca70cb3dc6e0a866f2084c0c3aafa3801f9f231aa5fcd20fc355bf100dc529|14          |\n",
      "|23002dc8efbd6b89182cc03fe87aaf2903647a4754b21cdeae75c0e4d712bbd8|24          |\n",
      "|273d824493432adcb27c346535f9259879b4c222f42bc326a4bfc8905507ccc2|4           |\n",
      "|282865f786b7e2ea19791d195b9091e14730f7cce29c30a733a78f20bcf1285f|36          |\n",
      "|2921b09ec15ab6a71ecddc7eae8a2b8eba21328160f2d42b430d6d2a0799e29a|14          |\n",
      "|2b4cbac315e77ae2f9b4259e369726a08f82ec65e602a18d2cdc27db076d5da4|15          |\n",
      "|331604ad8e671e98e4187d20b8e26c96c33853b1d64702279a5b046a61756589|13          |\n",
      "|33a1a5989482af21f07f5493ba6e2145b0fc45abb2804d1aeb09c0fd3cd3e2ac|8           |\n",
      "|342ff2bfdd8edd5f85195acc71d5f1ed83b66653269fdcbfb18cbe8a3df747fa|16          |\n",
      "|358250be2ad7c83004f15d0e768ea98ac3c312b61c3ed8756a2aa93d8769aef1|6           |\n",
      "|368093a57fe640879a9fc57ecb7e2c846b7dadf19620bfc9c4c001daeaf9af0f|2           |\n",
      "|3a431ef1390791dfd8398b5a93ddbb43b3f1bbdb1d23e7da72247444f045b641|12          |\n",
      "|3b14a013b6f57a9458e80d5cd7dc4b3ff1549e37742540a4077d4e4a2308099d|24          |\n",
      "|3b1e887f4746d9a2d13a7bfc24a623d9ee5884a93b01c56a0e8c7d69dd6745aa|29          |\n",
      "|3b8d431cbee3182d06225f9d5ab51f5806e8042f145e0ad0e37d98f56ae78f3d|11          |\n",
      "|3de8a90c68aeb084022ee1818a858c6bdc1a857d5dd3ef20a8af66709ecfab1f|14          |\n",
      "|3e8c0e4b88564a16e6b958f0864a06e0ceb54435985b1724082c72f5d57bcad7|16          |\n",
      "|3fbb342bde31891ebf3e9cf181af68784afd73186c29470f6ecc1a18c3fc9bdb|1           |\n",
      "|3ffa1331a21949a8d3fda9ba48573b6aefed8bdb59993055a1e968f81e1565a5|6           |\n",
      "|40801f1540ee1e423eaa2eada6df721538dada7ae8b53ea0bc542e336121a6ec|7           |\n",
      "|433f2e41671277b91cbda1dda12bc3477b7878d5be5eb9afa3d63b71ec78d056|3           |\n",
      "|4577398a477182459348fe9d697f945da1c687963c1c2ab621eff2866df611b8|15          |\n",
      "|46a614b682faf10e15d072fd43478b380bf5e8d9f619bd74d8e972e0c15a17cf|13          |\n",
      "|47ec5477d75b82359a8707596633ac80661eb237363e9ecb0f018701360009d1|17          |\n",
      "|484eda6cc4b97c95231f680fd082d8285d16c4712419d0640ab9ee52cacd389c|5           |\n",
      "|49206beba70f0e7d7fabf787c5565196c3eed3915b8a7fda6a84e26310b11db8|15          |\n",
      "|4b007dda4009c529e47041f1cadfbb781c32b58a38f6b5fcbadd6a43be598c18|13          |\n",
      "|4bab388090be8f086be2ba216371a296e0dd138526084bd8012323277723982a|30          |\n",
      "|4fcf1abae401a19340cc69d7ba5da1162888d655058afa2fdd2afb8f97d8e20a|12          |\n",
      "|50e47c50157c42032244185c0a859c6ae1db859c30a57f88e2eaeef65a5d3bea|10          |\n",
      "|51a4feb44e1dac390c1f62665f72a3e728bad315dc7ae7ce5ffd7ac972911bb4|11          |\n",
      "|5220ebcc6c2637b854099b7c7658e3b3ec8a601fb6ec1bb12e7dd6deda800e7f|14          |\n",
      "|528601364b2c8b1e939393d9ba63490ed51ea16ebfd8065c96e86bf35c345d16|14          |\n",
      "|55d2e246b3a05da0a1c9f5105f928fba3767add5176ea615c8fc9baa022471b9|10          |\n",
      "|56d128677d16d554c15cf0cfb25cb75626513bb0ef694b70741886201cd8d8f1|5           |\n",
      "|571a6aae9b56541a475c2693de2e90c573534058a1063a191974ea6474e23b1e|9           |\n",
      "|58abf761b573f61d43e13107fbc76d002e860a89d9557d3ab98ac66cbfb1e772|5           |\n",
      "|58f92ea7e6ad27de174bde72af7a6574bc5f8fef62ee6babdc6334c0258da2a9|12          |\n",
      "|592d4602aca1a2861bd9c6e8298b40f8f2ed0365ddf3a90b4c055e78f00563ed|15          |\n",
      "|599a664ad81e562b941e01267b8cf5fc4f01efa86fb3b5bda65fd7d166c1e44e|7           |\n",
      "|5caefa8ec58faa62b4969185bdc10c3ed8f61e6bed4a9a64383fa7ceb47f28e7|8           |\n",
      "|5d0ebbbf8e15cc84019788e6d98a7c04ea5f12323b3acdf51a76a4819e1fdac7|9           |\n",
      "|5dea74f6fe251976015c44b1c63fbd1b4e47b997e8549728d50307c991aa5478|13          |\n",
      "|612aa83e3cc2140b068d146abc7a4a806f84ee5f8535699b33523a2766c3c5b9|19          |\n",
      "|614782bf4ba5422f469a74e095845ac53f583c0ef81ffae273064725c667a984|11          |\n",
      "|61e02718ca4728cba587fccbae7cc24fb59ab10c6d8aeeddc21e14a862e6829e|10          |\n",
      "|623638bd06eb726f0424b3fd724123424fb6da83a81a323e15178272794f6132|8           |\n",
      "|625fcde3a86e1093397908b6d9d3826a245fabdc30042e0270488e6c4b0e2be9|14          |\n",
      "|6296b034a20fcdf2c4d2b62fb46803d25a47931da4db8c105bc18b49542fdef8|21          |\n",
      "|635e4474b1d3f6b92830a4c6fdd32f5681faba96525c9d4ee533b3adc7646ac2|13          |\n",
      "|637568533d1cea5abb5fc41907d7ad146fbf0cf1aefc3a58d6eb95e85ca1c5e5|13          |\n",
      "|6d5745d25d79fb6d8b481b85d4981b7eca009bc603965ad657e921f4b11c3bd6|9           |\n",
      "|6daaaecd81fbe57950263af0eb47ca3b47f3079e9f91c5d34402ec315db93c80|26          |\n",
      "|71d25f55ae23190b7229dfa12e7ca1564089ff477724f02a89e1ce8673ca32d3|2           |\n",
      "|73664464f182ab78d3c218c41c773223dd7492c282b900c179b3d7a5d861d952|13          |\n",
      "|73723b46ae1d6ddd30f7c919a07201bff20423b1c910e38479ea8868760b081a|12          |\n",
      "|757c8bc11a31222ebb3fc0e0bcf364811408a64bf2d82fa146b2245bd531fc71|24          |\n",
      "|76d71aa4b788910144d13e7f0683aff4e87c5ed158abedb64500df8d0a46c8f1|4           |\n",
      "|7aaab43497bf31f08ddfb7a2a2be4b36430228f0639fa3ae0f305b85b8b04b56|14          |\n",
      "|7b541b6f3a06946e1c1d134e86c376e5b198958e48a637715bda86b7340a47f4|7           |\n",
      "|7ba20f0ddf1b245cbe0e49a611a80263b30dca0d8d4bcb3a60ccc045b4199fc7|16          |\n",
      "|7c74a018e2b094514cfa0750412cf5ab5cdec18186dcabc838767a7e383c799e|9           |\n",
      "|7c82d118a678c463628f1d50c6f3533cb775fcea1fadb5e66b2cabbf6d17d524|11          |\n",
      "|7f010f389bae040ef947774ca27ef7705c9cd0a047e9787f7b2e1c9fe4cec0c4|13          |\n",
      "|81b42e3d111ccf634e0d1a4ccccbaa5778a7ab20a5310b90e9175169499ad1f9|10          |\n",
      "|8248df198a96839be6da69c05ab6dd056494d8412facb859eb2e32558620f22d|5           |\n",
      "|8262ac9a43cdd47c66dff5312f40c5eb210a68f3dab5c9fc6f967c4fd59917e9|8           |\n",
      "|843a75fcfdac68d02333ec02838d4448998ce5bc21ead90460b5e8f447de7430|21          |\n",
      "|85ea023e4bf103f79a99c2fdc54f4f274f5ed97c3e2a9f88c5e65a11e0ef5ab8|2           |\n",
      "|8653a3df73cda1e3c1ccb68bd2e9d2e3618e911a24cc567e1b80885337207871|7           |\n",
      "|880d198f1611907d872586a404b430f56d19a278031664566c5606606ce4da94|14          |\n",
      "|88d2b1d26bf274fb33b99ca95cf5cdf6b7bbba78a50edaabc9e3ee0409dce264|11          |\n",
      "|8999e67d81a68b92207001b5df6462a284f5d0b04709812bd394b8a7f5a46029|7           |\n",
      "|8a92dd8698cd5142075109ef88fa36ac4023f7892d339d3fe57098de862ac095|26          |\n",
      "|8bc152ed6e10fab3b3a7d815ac0f40a0e10cb983730d994a28fa31690b213a1b|4           |\n",
      "|8bebcc80d3ad7e6037990a53263910dcbab9eca028145df609be9ede3ac9fd3d|19          |\n",
      "|8bef15bc41a7e82851675918709184f5beab82f4f727c9196a0e79d6d3a0993a|15          |\n",
      "|8cd597a8e1181f4db4ce03e1d02e59e4b5798921adeaee796526d96cc1975417|3           |\n",
      "|8e9bb6c04e608a4e760c55123e39ba44925aaa894e4e7ece2bf65c90d0cc4848|13          |\n",
      "|8f1ca2e8105a8030f0958954b50f3dcb0d483b860a69a49b28d33a9e86c88742|15          |\n",
      "|90a634296aff946e9d045997d512d2b77dbc01880715c1e179eafed0ec78378c|4           |\n",
      "|927bb5bbe95bac3e56675ffd412b33635648e44c62ddae761e6cbba30e3ead9a|3           |\n",
      "|93807a17ca948eafa09d10ee8e8dbb5d07d8095b954819463c25b51e3b766102|1           |\n",
      "|93822fcb3cd9bab7363e82a528ed6f784ac20a547daa5358f1c47fb6a8fb1c28|9           |\n",
      "|93e91045641e49c6628fbd8ab8ff120a3c91838bcb7fff7e58b564b59a6181d6|1           |\n",
      "|94edcd5fa4c769858e994f2ac4bcd40656a1382b41faf907689b00115a148795|14          |\n",
      "|96c3af1e0059414e2690ba31f9d07c62c623df7c443c5ddad0df5eb2e01982c0|6           |\n",
      "|987e17895580ebdd7d2d4586a6e263c9ce81584f1268e6699e61e883a0eb624a|7           |\n",
      "|99ee189a85eb1a1460583c62d428f1d46e3cb33945f62d3aad607f5490d34573|16          |\n",
      "|9ccd37cf7bfaf305a609ec816db5a6e53ed5e51d0860e718cef57da9218f3f12|2           |\n",
      "|9d0e72ad064af1bc3fffc4473c2806be7afa6a39010641ffee7615cc574c5e58|14          |\n",
      "|9ddfa6fcc38e343c689791aad67a88a2335c953008375f61a57b8f165f32a39f|25          |\n",
      "|9f06fea36d5db03b47c6fbd497b5ac8c22c1e21bb485c47a11dfda110ea457c0|26          |\n",
      "|9f2ead803664c20e4adfa92e56cb4945c129774a84041d79c7b485ce78cafa41|10          |\n",
      "|a4c078aa3070f5789482e5ffdc46987c4b2f0e22604e6cb1b326ff7d459b2df9|9           |\n",
      "|a84ab1865c59659dc6eff2c5d7bd99be7d1702207963b048135d667228f4a440|5           |\n",
      "|a855cde9093572a1fc4ab1e33fb3a32537909585d552cfb43a43f286d3eabc4d|15          |\n",
      "|a93ff51c58d9123283bc9227d9803f7a931d67e2f23ef8cb725f696805196d98|17          |\n",
      "|a9fb3ecb06d974224bec67640807bae8a8d2338fc4590ee0b1698c09ab869426|8           |\n",
      "|ab0cea806ce858d019f61954347db64d29666e7ed428405a918667e2f09390a4|7           |\n",
      "|ab7961b151f3d8e22e250d1044f08661c95269b7a6aad64b1ee21194695c13c7|12          |\n",
      "|aba95998898125188ffd31d7acfc4bf1b83b986f56f8d424e5450ef98e87df0c|14          |\n",
      "|ad2273914219245f3a1d76fa50e1e719d5342979b9bbca09f5e36e9f4be14d7d|15          |\n",
      "|ad8918581d3a671eeeea0ee79cb06af4e674d13de05886dcbdd8d36edcf0307f|11          |\n",
      "|adef1adb7df10d2dfa42aefedffefc89d0d7b7723adaf0adb9ba460d982b1e84|5           |\n",
      "|af71423ba65625f23bd9ff1e835a3de803af9bcd5092c1b3a3e0a1475a3d479f|6           |\n",
      "|b10bfb431460e96f99322635d8c44d0fb4f74302c61334119ab1c842e049fac1|18          |\n",
      "|b202e44e85e5ac947a12c2b35bc7e9fbf7c73492a9932913ef8bc8ddb909d0f5|26          |\n",
      "|b3e94a84d1dd2812a952652024613162ab4a8a9b4551be5fc161739eb3ba5d69|12          |\n",
      "|b49c1d5de9f4aac00dfb02f65874ce20a68f544930752b4b8b8d95e37845f172|8           |\n",
      "|b5de2bb5b8538b199d6b3f0ecb32daa8a9d730ccc484dba45f756a59254c6dbe|16          |\n",
      "|b6b2a12e84ea8203775195ed2bb4e99c5788053782b0bdae24fa6adcae487d22|15          |\n",
      "|b800f658ee51bbcc32ffe8b8e2b504643b4a00e393737f8b7b6ed699601b65f5|10          |\n",
      "|b9e0860774ffb5d35b7f2ad407b538facb010076d5107cdce63f299dbc5415da|14          |\n",
      "|ba22868ad661fd31631f55349daa94c90e93c15c2b6dc12f9e9b6f039b2f4542|6           |\n",
      "|bab0c491b114606715b73d37741e3a746ea226e7417faae378430183b37d9071|6           |\n",
      "|bc941ebd72011adc6a5fbaa15a85c36e9dd20fd0af0156317b764f98a7a099ee|4           |\n",
      "|be1c00a70c0bc8d0b3ecfb3d6267eda98d81a5d8ba2f79d94f8d3fd4c420bc9f|14          |\n",
      "|be5f4c5ecc6e2f0d3f519143dd97089ee9c9d2ed9cd4084b0d9292b9b2b0890b|11          |\n",
      "|be7ddad586818bb7a06997584345834db6023980b12ea80bd02753d6885cec3b|4           |\n",
      "|be9774aa8c0ef928be6ec12f77556d0ef680cffbe45cb0d0d3409c7ff380d4b9|8           |\n",
      "|c0d995989b963a2f5cc672f5c1f02a11619ef115346a8b13ea6723f1fe439ecd|20          |\n",
      "|c1a084b4453a527940abb883ae11e8b33c42d60bc4eb25b8ed3879d1cd91ba2a|10          |\n",
      "|c22d13b7c2efe8e658fcc63973c4de6e384509d642eba3973b29ea417ecc0a6c|15          |\n",
      "|c2ed4e8f987951a1089e7857bf0726ebebc5fe2a21e918d934f7c41a42d5df4b|21          |\n",
      "|c38c8db0d56175f74d03a010b407bdb88b404779e64735f323c1d5d90b6629ed|15          |\n",
      "|c3e220c96c4372617dd3629d076ba46c0776d373deef7c65d5fb09e20f643af1|14          |\n",
      "|c5303be36302e0a1fb572739be2dbd81b3d7a30deab81f1013a74f613c598a79|2           |\n",
      "|c6141f3ae8b4f0508a7f8d0dabcd2bc96ab7f2a8aa43f2197d29315ee7e57d02|14          |\n",
      "|c650bb6df18e94e71723b24b5c1f790cb8c72812c1e1719716b26f218f7138f8|22          |\n",
      "|c6e325cab8bb6997984a0754748d9172783c428d6259c67d4cd499b48443cfe4|25          |\n",
      "|c6f5cb309d7082069e6992e42103230be698644c91680b8305961601cb093161|9           |\n",
      "|cb17dc04c4b61a0d3b34b818830f33a2ccd16bc81d7e15a0185c2c74f7bc8308|23          |\n",
      "|ce81a19b08be1fa0f4f3821ebea6f47a5f6f206c69f0d9bfe84d0cba774e7658|15          |\n",
      "|ceeb3aed53e6ef15cbeb2b25601eea0c969ef5218891604149381256e3467af2|18          |\n",
      "|cf900f2b0c3fbbe1883957602cf867549c88a80384ed66573fb5abb5be156582|4           |\n",
      "|cfad2f24ed446b492fa4cf3eee598c5619568c55eec604928c76de979d56be01|13          |\n",
      "|cfc57f98ba8ff1b83bc0be09d7d6576bfb5dac71cf813690998a52cde7d2251c|13          |\n",
      "|d0dd734f8e5a1b536beab80a8ee187734b9fbb7c00f0f0cd9847cf60910297f5|14          |\n",
      "|d46525fcffba400caa4fc21005b92fa32ed6922cf520d4879aa155394ee81d54|21          |\n",
      "|d59886a5f495c3d4f6e67acfce75f42688e22c190e70e6584e8e64838e7faa2d|10          |\n",
      "|d6c028d3e65c04f840ab727e75f0f9b26ac108d194c8efcd76835326ae62de87|17          |\n",
      "|d7ab6858e4be9ec851e1b3e5e87aa67b88dd455c83547169b468ae8dade25e3d|13          |\n",
      "|d7daac23e045035870d59c4e1dbc3dba263a9be2412d53079df4aa485090941d|2           |\n",
      "|d948286bfe6d2ad8cb5c4bfb6160f5585abacb8458d2917bd56087244a69e141|9           |\n",
      "|dd7af0da56a7f883acf1ca25d39672bd045b4178fe320ca81cccfc47293dff7e|13          |\n",
      "|dd9944b37ca8b9c40a84e088646be9b930d8447ae4f178bb13dc5dd24f9d6b54|13          |\n",
      "|df7ce50a753bbb53b8e1d9eaf6a3432fa82b4e47e002142d2cf924451f3b39b1|21          |\n",
      "|e1d0ac5ca3713be41636fae3ba32c8653800af198126c08205853259bdd6382d|11          |\n",
      "|e1f1d0f48ca77093f9d66cefd325504245277db3e6c14504a25fda693e82a393|18          |\n",
      "|e1feaef4b14e6850ac9f1dac7b57fdbb0e88f6d0609b33f33c14634ddd60fbe7|8           |\n",
      "|e303fd70c1cd3558f0ea2bd8ee3011137b75b0a351ddbb7e72e2514c9353f674|13          |\n",
      "|e4c5a68aa2994ad89008270a894e89814830535c1079f7a822b98c7ef0a2c63e|3           |\n",
      "|e66c913f7a9813b572ef09e80d0952a46995077e7e295e320cfc3da76d73f60f|10          |\n",
      "|e6d549bd33db7e6e9cacf7a4030245ca8d8f24184df4335a102828be221659c6|22          |\n",
      "|e759eaa0a3d51028d4a5c4d29cec8cf7b59761c9300a0761846538daea0e4699|4           |\n",
      "|e83aa8bf6d062b7a0653fb07c66b34f38917688d08aa6ec702d30b48d5fb15ad|14          |\n",
      "|e86f7c2d50f4fa9ee5b3f8bf9a25af4c9ef573fa28a0c8c50df815971efa0529|10          |\n",
      "|e93467264a93843b34bcc7632cf95272710321fca9c2e534228cae7aa936291d|6           |\n",
      "|ef4bbb74d085499f21d5fc387fd346e55e9522b1f8c3eb352f5bdf55b16dc271|7           |\n",
      "|f001c800a65276e156a52de9637fdfa6200693b517d554038b20ba71f0d5988a|16          |\n",
      "|f1fcdbff4307d1e551083e73ed47b6f7c4e3170ae7c1ce494c1c8660461c410e|15          |\n",
      "|f26e5bad97adcfb35a8324e08a7dc7c0546367a1ef9c9fd29d11cf13cfbfe991|5           |\n",
      "|f27dcf10007aa8bde2a1ba7ed7e68f94a1f87524cc5ac88a36f2e2f51adb5355|2           |\n",
      "|f45a1e99d5959aef49219ca79047fc061bedead6b53085b17418bb03caee089d|6           |\n",
      "|f69c0cf41c2de57102446929453e12b40ed421d0609d0936e17c2fccd52699be|18          |\n",
      "|f6be71259bf65d67b39b33c9d0cc4859a713d8ab8a3941b1ea0fbb7bc2f1acaa|11          |\n",
      "|f711d7446ab88fc2061b3b9896db8dadff3a67e3309412492d4eb191cbe760ac|25          |\n",
      "|f77d5dd69f13285c12d55f71adce92cdb2fc596ce2b4ce7911ff99ae39f9bf76|7           |\n",
      "|f82e767bb02e48ce216f2e9da4e589f51e2ccb077f42b1b4272c0a8576c7dc85|42          |\n",
      "|f8ba9c14db55c002ad91693782d5e7658b8e65eb66fea2851c24995ca2f7169a|24          |\n",
      "|f97c771914cd56b1a6cbe89eebfe922fd335ddca2f4d1a145aba91654541b358|14          |\n",
      "|fc89cee74a2101f117c20f23f7a3400d331d60caed5b26e9b44640723d8c63df|20          |\n",
      "|fd3b0fb3720b783a2887a02f0533d4253f6b91f010af49d3f3dce763d45047fc|2           |\n",
      "|fd96e32a94a932f45eb32933d9ffeb71f4addf9153a76b4e5dec57982ec71bfb|4           |\n",
      "|fe05e03d2a34cd0b30d421ee87aa6075cb8d5276ceb454bb15336d883680ddeb|4           |\n",
      "|fe60c06a20329eae12c32d810fed78b24616a034df0212ec7693daac4fc4b4f2|11          |\n",
      "|fe9faf22db0dde375b1e7e05bd73734680e255255cf749669c2abf71ba168b87|9           |\n",
      "|fecb23a186e5f25b262b2c956854799d90380949847cd1c63c2b67d01855a68c|14          |\n",
      "+----------------------------------------------------------------+------------+\n",
      "\n",
      "Alumnos que superan la cantidad de 25 entregas de cuestionarios\n",
      "\n",
      "+----------------------------------------------------------------+------------+\n",
      "|userid                                                          |num_attempts|\n",
      "+----------------------------------------------------------------+------------+\n",
      "|282865f786b7e2ea19791d195b9091e14730f7cce29c30a733a78f20bcf1285f|36          |\n",
      "|3b1e887f4746d9a2d13a7bfc24a623d9ee5884a93b01c56a0e8c7d69dd6745aa|29          |\n",
      "|4bab388090be8f086be2ba216371a296e0dd138526084bd8012323277723982a|30          |\n",
      "|6daaaecd81fbe57950263af0eb47ca3b47f3079e9f91c5d34402ec315db93c80|26          |\n",
      "|8a92dd8698cd5142075109ef88fa36ac4023f7892d339d3fe57098de862ac095|26          |\n",
      "|9f06fea36d5db03b47c6fbd497b5ac8c22c1e21bb485c47a11dfda110ea457c0|26          |\n",
      "|b202e44e85e5ac947a12c2b35bc7e9fbf7c73492a9932913ef8bc8ddb909d0f5|26          |\n",
      "|f82e767bb02e48ce216f2e9da4e589f51e2ccb077f42b1b4272c0a8576c7dc85|42          |\n",
      "+----------------------------------------------------------------+------------+\n",
      "\n"
     ]
    }
   ],
   "source": [
    "print(\"Cuantos entregas hay asociadas a cada tipo de intento de cuestionario en base a su estado:\\n\")\n",
    "\n",
    "kinds_of_attempt = quiz_attempts_ip_st.groupBy(\"state\").agg(spark_count(\"*\").alias(\"count\"))\n",
    "\n",
    "kinds_of_attempt.show(1000, truncate=False)\n",
    "\n",
    "print(\"Cantidad de entregas hechas por alumno en el curso:\\n\")\n",
    "attempts_per_student = quiz_attempts_ip_st.groupBy(\"userid\").agg(spark_count(\"*\").alias(\"num_attempts\")).orderBy(\"userid\")\n",
    "attempts_per_student.show(1000, truncate=False)\n",
    "\n",
    "print(\"Alumnos que superan la cantidad de 25 entregas de cuestionarios\\n\")\n",
    "attempts_per_student.filter(col(\"num_attempts\") > 25).show(1000, truncate=False)\n",
    "\n",
    "print(\"Media de notas de los alumnos\\n\")\n"
   ]
  },
  {
   "cell_type": "markdown",
   "metadata": {},
   "source": [
    "Podemos ver que , la distribución de valores entre entregas de cada tipo en base a su tipo es la esperada, dado que las que mas hay son las de tipo finished. Por otra parte, podemos ver que el número de intentos llevado a cabo por cada usuario también lo es, dado que la distribución de los valores obtenidos para cada usuario están alineados con la cantidad de cuestionarios que hubo publicados  a lo largo del curso en el aula. "
   ]
  },
  {
   "cell_type": "markdown",
   "metadata": {},
   "source": [
    "## Exportar a parquet el conjunto de datos obtenido"
   ]
  },
  {
   "cell_type": "code",
   "execution_count": 27,
   "metadata": {},
   "outputs": [],
   "source": [
    "quiz_attempts_ip_st.write.mode(\"overwrite\").parquet(f\"{ruta_destino}/quiz_attempts_st_ip.parquet\")"
   ]
  }
 ],
 "metadata": {
  "kernelspec": {
   "display_name": "pyspark-env",
   "language": "python",
   "name": "python3"
  },
  "language_info": {
   "codemirror_mode": {
    "name": "ipython",
    "version": 3
   },
   "file_extension": ".py",
   "mimetype": "text/x-python",
   "name": "python",
   "nbconvert_exporter": "python",
   "pygments_lexer": "ipython3",
   "version": "3.10.16"
  }
 },
 "nbformat": 4,
 "nbformat_minor": 2
}
