{
 "cells": [
  {
   "cell_type": "markdown",
   "metadata": {},
   "source": [
    "# Cálculo de métricas de los cuestionarios"
   ]
  },
  {
   "cell_type": "markdown",
   "metadata": {},
   "source": [
    "El objetivo de este notebook será calcular con los datos obtenidos de las entregas de cuestionarios por parte de los alumnos las siguientes métricas:\n",
    "\n",
    "- Número de intentos totales a lo largo del curso\n",
    "- Número de intentos por mes\n",
    "- Número máximo de semanas sin ningún intento\n",
    "- Promedio de intentos por cuestionario"
   ]
  },
  {
   "cell_type": "markdown",
   "metadata": {},
   "source": [
    "## Configuración y carga de datos"
   ]
  },
  {
   "cell_type": "code",
   "execution_count": null,
   "metadata": {
    "vscode": {
     "languageId": "plaintext"
    }
   },
   "outputs": [],
   "source": []
  }
 ],
 "metadata": {
  "language_info": {
   "name": "python"
  }
 },
 "nbformat": 4,
 "nbformat_minor": 2
}
