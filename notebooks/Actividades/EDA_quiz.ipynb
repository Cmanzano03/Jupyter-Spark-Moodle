{
 "cells": [
  {
   "cell_type": "markdown",
   "metadata": {},
   "source": [
    "# Unir métricas\n"
   ]
  },
  {
   "cell_type": "markdown",
   "metadata": {},
   "source": [
    "En este notebook vamos a unir todas las métricas ya calculadas sobre los registros de interacción de los alumnos con los usuarios en un único fichero csv."
   ]
  },
  {
   "cell_type": "markdown",
   "metadata": {},
   "source": [
    "## Configurar liberías y sesión de spark"
   ]
  },
  {
   "cell_type": "code",
   "execution_count": 4,
   "metadata": {},
   "outputs": [],
   "source": [
    "from pyspark.sql import SparkSession\n",
    "import os\n",
    "\n",
    "# Definir rutas\n",
    "ruta_origen = \"/home/carlos/Documentos/TFG/spark-workspace/data/metrics/quiz\"\n",
    "ruta_destino = \"/home/carlos/Documentos/TFG/spark-workspace/data/datasets/\"\n",
    "\n",
    "# Crear sesión Spark\n",
    "spark = SparkSession.builder \\\n",
    "    .appName(\"Unir métricas\") \\\n",
    "    .master(\"local[*]\") \\\n",
    "    .config(\"spark.sql.shuffle.partitions\", \"8\") \\\n",
    "    .getOrCreate()\n"
   ]
  },
  {
   "cell_type": "markdown",
   "metadata": {},
   "source": [
    "## Carga de datos"
   ]
  },
  {
   "cell_type": "code",
   "execution_count": 5,
   "metadata": {},
   "outputs": [
    {
     "name": "stdout",
     "output_type": "stream",
     "text": [
      "Esquema de quiz_attempt_ratio \n",
      "\n",
      "root\n",
      " |-- userid: string (nullable = true)\n",
      " |-- quiz_attempt_ratio: double (nullable = true)\n",
      "\n",
      "Esquema de quiz_max_days_without_submit \n",
      "\n",
      "root\n",
      " |-- userid: string (nullable = true)\n",
      " |-- quiz_max_days_without_submit: integer (nullable = true)\n",
      "\n",
      "Esquema de quiz_submits_per_month.parquet \n",
      "\n",
      "root\n",
      " |-- userid: string (nullable = true)\n",
      " |-- quizes_submitted_firstMonth: long (nullable = true)\n",
      " |-- quizes_submitted_secondMonth: long (nullable = true)\n",
      " |-- quizes_submitted_thirdMonth: long (nullable = true)\n",
      " |-- quizes_submitted_fourthMonth: long (nullable = true)\n",
      "\n",
      "Esquema de quiz_total_submits.parquet \n",
      "\n",
      "root\n",
      " |-- userid: string (nullable = true)\n",
      " |-- quiz_total_submits: long (nullable = true)\n",
      "\n"
     ]
    }
   ],
   "source": [
    "# Leemos los ficheros que contienen las métricas y los visualizamos\n",
    "print(\"Esquema de quiz_attempt_ratio \\n\")\n",
    "df1 = spark.read.parquet(f\"{ruta_origen}/quiz_attempt_ratio.parquet\")\n",
    "df1.printSchema()\n",
    "\n",
    "print(\"Esquema de quiz_max_days_without_submit \\n\")\n",
    "df1 = spark.read.parquet(f\"{ruta_origen}/quiz_max_days_without_submit.parquet\")\n",
    "df1.printSchema()\n",
    "\n",
    "print(\"Esquema de quiz_submits_per_month.parquet \\n\")\n",
    "df1 = spark.read.parquet(f\"{ruta_origen}/quiz_submits_per_month.parquet\")\n",
    "df1.printSchema()\n",
    "\n",
    "\n",
    "print(\"Esquema de quiz_total_submits.parquet \\n\")\n",
    "df1 = spark.read.parquet(f\"{ruta_origen}/quiz_total_submits.parquet\")\n",
    "df1.printSchema()\n",
    "\n"
   ]
  },
  {
   "cell_type": "code",
   "execution_count": 3,
   "metadata": {},
   "outputs": [],
   "source": [
    "spark.stop()"
   ]
  }
 ],
 "metadata": {
  "kernelspec": {
   "display_name": "pyspark-env",
   "language": "python",
   "name": "python3"
  },
  "language_info": {
   "codemirror_mode": {
    "name": "ipython",
    "version": 3
   },
   "file_extension": ".py",
   "mimetype": "text/x-python",
   "name": "python",
   "nbconvert_exporter": "python",
   "pygments_lexer": "ipython3",
   "version": "3.10.16"
  }
 },
 "nbformat": 4,
 "nbformat_minor": 2
}
