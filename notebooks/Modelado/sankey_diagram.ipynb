{
 "cells": [
  {
   "cell_type": "markdown",
   "metadata": {},
   "source": [
    "# Diagramas de Sankey\n",
    "---"
   ]
  },
  {
   "cell_type": "markdown",
   "metadata": {},
   "source": [
    "En esta celda, vamos a utilizar los datos de esta primera iteración del modelado para analizar como se dividió todo el flujo de estudiantes del curso entre la entrega de tareas de evaluación continua del curso y respecto a las notas que obtuvieron"
   ]
  },
  {
   "cell_type": "markdown",
   "metadata": {},
   "source": [
    "## Configuración"
   ]
  },
  {
   "cell_type": "code",
   "execution_count": 1,
   "metadata": {},
   "outputs": [],
   "source": [
    "import pandas as pd\n",
    "import matplotlib.pyplot as plt\n",
    "import plotly.graph_objects as go\n",
    "\n",
    "DATA_PATH = \"/home/carlos/Documentos/TFG/spark-workspace/data/datasets\"\n"
   ]
  },
  {
   "cell_type": "markdown",
   "metadata": {},
   "source": [
    "## Carga de datos\n"
   ]
  },
  {
   "cell_type": "code",
   "execution_count": 2,
   "metadata": {},
   "outputs": [
    {
     "data": {
      "text/html": [
       "<div>\n",
       "<style scoped>\n",
       "    .dataframe tbody tr th:only-of-type {\n",
       "        vertical-align: middle;\n",
       "    }\n",
       "\n",
       "    .dataframe tbody tr th {\n",
       "        vertical-align: top;\n",
       "    }\n",
       "\n",
       "    .dataframe thead th {\n",
       "        text-align: right;\n",
       "    }\n",
       "</style>\n",
       "<table border=\"1\" class=\"dataframe\">\n",
       "  <thead>\n",
       "    <tr style=\"text-align: right;\">\n",
       "      <th></th>\n",
       "      <th>userid</th>\n",
       "      <th>Test Expr.</th>\n",
       "      <th>Act. 02 - Elecciones</th>\n",
       "      <th>Act. 03 - Catalan</th>\n",
       "      <th>Act. 04 - Primos</th>\n",
       "      <th>Act. 05 - Vectores</th>\n",
       "      <th>Test Complejidad</th>\n",
       "      <th>Act. 07</th>\n",
       "      <th>abandona</th>\n",
       "    </tr>\n",
       "  </thead>\n",
       "  <tbody>\n",
       "    <tr>\n",
       "      <th>0</th>\n",
       "      <td>e1f1d0f48ca77093f9d66cefd325504245277db3e6c145...</td>\n",
       "      <td>1</td>\n",
       "      <td>1</td>\n",
       "      <td>1</td>\n",
       "      <td>1</td>\n",
       "      <td>0</td>\n",
       "      <td>1</td>\n",
       "      <td>1</td>\n",
       "      <td>0</td>\n",
       "    </tr>\n",
       "    <tr>\n",
       "      <th>1</th>\n",
       "      <td>b5de2bb5b8538b199d6b3f0ecb32daa8a9d730ccc484db...</td>\n",
       "      <td>1</td>\n",
       "      <td>1</td>\n",
       "      <td>1</td>\n",
       "      <td>1</td>\n",
       "      <td>1</td>\n",
       "      <td>1</td>\n",
       "      <td>1</td>\n",
       "      <td>0</td>\n",
       "    </tr>\n",
       "    <tr>\n",
       "      <th>2</th>\n",
       "      <td>90a634296aff946e9d045997d512d2b77dbc01880715c1...</td>\n",
       "      <td>1</td>\n",
       "      <td>1</td>\n",
       "      <td>1</td>\n",
       "      <td>1</td>\n",
       "      <td>1</td>\n",
       "      <td>1</td>\n",
       "      <td>1</td>\n",
       "      <td>1</td>\n",
       "    </tr>\n",
       "    <tr>\n",
       "      <th>3</th>\n",
       "      <td>b6b2a12e84ea8203775195ed2bb4e99c5788053782b0bd...</td>\n",
       "      <td>1</td>\n",
       "      <td>1</td>\n",
       "      <td>1</td>\n",
       "      <td>1</td>\n",
       "      <td>1</td>\n",
       "      <td>1</td>\n",
       "      <td>1</td>\n",
       "      <td>0</td>\n",
       "    </tr>\n",
       "    <tr>\n",
       "      <th>4</th>\n",
       "      <td>fd96e32a94a932f45eb32933d9ffeb71f4addf9153a76b...</td>\n",
       "      <td>1</td>\n",
       "      <td>1</td>\n",
       "      <td>1</td>\n",
       "      <td>0</td>\n",
       "      <td>1</td>\n",
       "      <td>1</td>\n",
       "      <td>1</td>\n",
       "      <td>0</td>\n",
       "    </tr>\n",
       "  </tbody>\n",
       "</table>\n",
       "</div>"
      ],
      "text/plain": [
       "                                              userid  Test Expr.  \\\n",
       "0  e1f1d0f48ca77093f9d66cefd325504245277db3e6c145...           1   \n",
       "1  b5de2bb5b8538b199d6b3f0ecb32daa8a9d730ccc484db...           1   \n",
       "2  90a634296aff946e9d045997d512d2b77dbc01880715c1...           1   \n",
       "3  b6b2a12e84ea8203775195ed2bb4e99c5788053782b0bd...           1   \n",
       "4  fd96e32a94a932f45eb32933d9ffeb71f4addf9153a76b...           1   \n",
       "\n",
       "   Act. 02 - Elecciones  Act. 03 - Catalan  Act. 04 - Primos  \\\n",
       "0                     1                  1                 1   \n",
       "1                     1                  1                 1   \n",
       "2                     1                  1                 1   \n",
       "3                     1                  1                 1   \n",
       "4                     1                  1                 0   \n",
       "\n",
       "   Act. 05 - Vectores  Test Complejidad  Act. 07  abandona  \n",
       "0                   0                 1        1         0  \n",
       "1                   1                 1        1         0  \n",
       "2                   1                 1        1         1  \n",
       "3                   1                 1        1         0  \n",
       "4                   1                 1        1         0  "
      ]
     },
     "metadata": {},
     "output_type": "display_data"
    },
    {
     "data": {
      "text/html": [
       "<div>\n",
       "<style scoped>\n",
       "    .dataframe tbody tr th:only-of-type {\n",
       "        vertical-align: middle;\n",
       "    }\n",
       "\n",
       "    .dataframe tbody tr th {\n",
       "        vertical-align: top;\n",
       "    }\n",
       "\n",
       "    .dataframe thead th {\n",
       "        text-align: right;\n",
       "    }\n",
       "</style>\n",
       "<table border=\"1\" class=\"dataframe\">\n",
       "  <thead>\n",
       "    <tr style=\"text-align: right;\">\n",
       "      <th></th>\n",
       "      <th>userid</th>\n",
       "      <th>Test Expr. (nota)</th>\n",
       "      <th>Act. 02 - Elecciones (nota)</th>\n",
       "      <th>Act. 03 - Catalan (nota)</th>\n",
       "      <th>Act. 04 - Primos (nota)</th>\n",
       "      <th>Test Complejidad (nota)</th>\n",
       "      <th>Act. 05 - Vectores (nota)</th>\n",
       "      <th>Act. 07 (nota)</th>\n",
       "      <th>abandona</th>\n",
       "    </tr>\n",
       "  </thead>\n",
       "  <tbody>\n",
       "    <tr>\n",
       "      <th>0</th>\n",
       "      <td>e1f1d0f48ca77093f9d66cefd325504245277db3e6c145...</td>\n",
       "      <td>10.0</td>\n",
       "      <td>10.0</td>\n",
       "      <td>7.0</td>\n",
       "      <td>10.0</td>\n",
       "      <td>5.00000</td>\n",
       "      <td>NaN</td>\n",
       "      <td>8.50</td>\n",
       "      <td>0</td>\n",
       "    </tr>\n",
       "    <tr>\n",
       "      <th>1</th>\n",
       "      <td>b5de2bb5b8538b199d6b3f0ecb32daa8a9d730ccc484db...</td>\n",
       "      <td>10.0</td>\n",
       "      <td>10.0</td>\n",
       "      <td>10.0</td>\n",
       "      <td>10.0</td>\n",
       "      <td>6.00000</td>\n",
       "      <td>10.0</td>\n",
       "      <td>6.25</td>\n",
       "      <td>0</td>\n",
       "    </tr>\n",
       "    <tr>\n",
       "      <th>2</th>\n",
       "      <td>90a634296aff946e9d045997d512d2b77dbc01880715c1...</td>\n",
       "      <td>10.0</td>\n",
       "      <td>10.0</td>\n",
       "      <td>10.0</td>\n",
       "      <td>9.0</td>\n",
       "      <td>8.66667</td>\n",
       "      <td>5.0</td>\n",
       "      <td>6.00</td>\n",
       "      <td>1</td>\n",
       "    </tr>\n",
       "    <tr>\n",
       "      <th>3</th>\n",
       "      <td>b6b2a12e84ea8203775195ed2bb4e99c5788053782b0bd...</td>\n",
       "      <td>10.0</td>\n",
       "      <td>10.0</td>\n",
       "      <td>10.0</td>\n",
       "      <td>10.0</td>\n",
       "      <td>7.33333</td>\n",
       "      <td>10.0</td>\n",
       "      <td>10.00</td>\n",
       "      <td>0</td>\n",
       "    </tr>\n",
       "    <tr>\n",
       "      <th>4</th>\n",
       "      <td>fd96e32a94a932f45eb32933d9ffeb71f4addf9153a76b...</td>\n",
       "      <td>6.0</td>\n",
       "      <td>10.0</td>\n",
       "      <td>10.0</td>\n",
       "      <td>NaN</td>\n",
       "      <td>6.00000</td>\n",
       "      <td>10.0</td>\n",
       "      <td>0.00</td>\n",
       "      <td>0</td>\n",
       "    </tr>\n",
       "  </tbody>\n",
       "</table>\n",
       "</div>"
      ],
      "text/plain": [
       "                                              userid  Test Expr. (nota)  \\\n",
       "0  e1f1d0f48ca77093f9d66cefd325504245277db3e6c145...               10.0   \n",
       "1  b5de2bb5b8538b199d6b3f0ecb32daa8a9d730ccc484db...               10.0   \n",
       "2  90a634296aff946e9d045997d512d2b77dbc01880715c1...               10.0   \n",
       "3  b6b2a12e84ea8203775195ed2bb4e99c5788053782b0bd...               10.0   \n",
       "4  fd96e32a94a932f45eb32933d9ffeb71f4addf9153a76b...                6.0   \n",
       "\n",
       "   Act. 02 - Elecciones (nota)  Act. 03 - Catalan (nota)  \\\n",
       "0                         10.0                       7.0   \n",
       "1                         10.0                      10.0   \n",
       "2                         10.0                      10.0   \n",
       "3                         10.0                      10.0   \n",
       "4                         10.0                      10.0   \n",
       "\n",
       "   Act. 04 - Primos (nota)  Test Complejidad (nota)  \\\n",
       "0                     10.0                  5.00000   \n",
       "1                     10.0                  6.00000   \n",
       "2                      9.0                  8.66667   \n",
       "3                     10.0                  7.33333   \n",
       "4                      NaN                  6.00000   \n",
       "\n",
       "   Act. 05 - Vectores (nota)  Act. 07 (nota)  abandona  \n",
       "0                        NaN            8.50         0  \n",
       "1                       10.0            6.25         0  \n",
       "2                        5.0            6.00         1  \n",
       "3                       10.0           10.00         0  \n",
       "4                       10.0            0.00         0  "
      ]
     },
     "metadata": {},
     "output_type": "display_data"
    }
   ],
   "source": [
    "df_entregas = pd.read_parquet(f\"{DATA_PATH}/dataset_1.1.parquet\")\n",
    "df_notas = pd.read_parquet(f\"{DATA_PATH}/dataset_1.2.parquet\")\n",
    "\n",
    "# Borrar columnas innecesarias\n",
    "#=========================================================================\n",
    "\n",
    "df_entregas = df_entregas.drop(columns=[\"num_entregas\"])\n",
    "df_notas = df_notas.drop(columns=[\"nota_media\"])\n",
    "\n",
    "# Reorganizar columnas\n",
    "#=========================================================================\n",
    "\n",
    "# Move \"Test Complejidad\" in df_entregas to the n-2 position\n",
    "columns_entregas = df_entregas.columns.tolist()\n",
    "columns_entregas.remove(\"Test Complejidad\")\n",
    "columns_entregas.insert(-2, \"Test Complejidad\")\n",
    "df_entregas = df_entregas[columns_entregas]\n",
    "\n",
    "# Move \"Test Complejidad (nota)\" in df_notas to the n-2 position\n",
    "columns_notas = df_notas.columns.tolist()\n",
    "columns_notas.remove(\"Test Complejidad (nota)\")\n",
    "columns_notas.insert(-2, \"Test Complejidad (nota)\")\n",
    "df_notas = df_notas[columns_notas]\n",
    "\n",
    "# Move \"abandona\" in df_entregas to the last position\n",
    "columns_entregas.remove(\"abandona\")\n",
    "columns_entregas.append(\"abandona\")\n",
    "df_entregas = df_entregas[columns_entregas]\n",
    "\n",
    "# Move \"abandona\" in df_notas to the last position\n",
    "columns_notas.remove(\"abandona\")\n",
    "columns_notas.append(\"abandona\")\n",
    "df_notas = df_notas[columns_notas]\n",
    "\n",
    "# Mostrar datos\n",
    "#=========================================================================\n",
    "\n",
    "display (df_entregas.head())\n",
    "display(df_notas.head())\n"
   ]
  },
  {
   "cell_type": "markdown",
   "metadata": {},
   "source": [
    "## Diagramas\n"
   ]
  },
  {
   "cell_type": "code",
   "execution_count": null,
   "metadata": {},
   "outputs": [
    {
     "data": {
      "application/vnd.plotly.v1+json": {
       "config": {
        "plotlyServerURL": "https://plot.ly"
       },
       "data": [
        {
         "arrangement": "snap",
         "link": {
          "color": [
           "rgba(150,150,150,0.4)",
           "rgba(150,150,150,0.4)",
           "rgba(150,150,150,0.4)",
           "rgba(150,150,150,0.4)",
           "rgba(150,150,150,0.4)",
           "rgba(150,150,150,0.4)",
           "rgba(150,150,150,0.4)",
           "rgba(150,150,150,0.4)",
           "rgba(150,150,150,0.4)",
           "rgba(150,150,150,0.4)",
           "rgba(150,150,150,0.4)",
           "rgba(150,150,150,0.4)",
           "rgba(150,150,150,0.4)",
           "rgba(150,150,150,0.4)",
           "rgba(150,150,150,0.4)",
           "rgba(150,150,150,0.4)",
           "rgba(150,150,150,0.4)",
           "rgba(150,150,150,0.4)",
           "rgba(150,150,150,0.4)",
           "rgba(150,150,150,0.4)",
           "rgba(150,150,150,0.4)",
           "rgba(150,150,150,0.4)",
           "rgba(150,150,150,0.4)",
           "rgba(150,150,150,0.4)"
          ],
          "source": [
           0,
           2,
           2,
           0,
           1,
           3,
           1,
           3,
           4,
           4,
           5,
           5,
           6,
           6,
           7,
           7,
           8,
           9,
           8,
           9,
           10,
           11,
           11,
           10
          ],
          "target": [
           1,
           3,
           1,
           3,
           4,
           5,
           5,
           4,
           6,
           7,
           7,
           6,
           8,
           9,
           9,
           8,
           10,
           10,
           11,
           11,
           12,
           13,
           12,
           13
          ],
          "value": [
           160,
           17,
           8,
           16,
           152,
           20,
           16,
           13,
           155,
           10,
           27,
           9,
           17,
           147,
           10,
           27,
           22,
           150,
           22,
           7,
           146,
           24,
           5,
           26
          ]
         },
         "node": {
          "color": "rgba(44, 160, 101, 0.8)",
          "label": [
           "Test Expr.<br>Entregó",
           "Act. 02 - Elecciones<br>Entregó",
           "Test Expr.<br>No entregó",
           "Act. 02 - Elecciones<br>No entregó",
           "Act. 03 - Catalan<br>Entregó",
           "Act. 03 - Catalan<br>No entregó",
           "Act. 04 - Primos<br>Entregó",
           "Act. 04 - Primos<br>No entregó",
           "Act. 05 - Vectores<br>No entregó",
           "Act. 05 - Vectores<br>Entregó",
           "Test Complejidad<br>Entregó",
           "Test Complejidad<br>No entregó",
           "Act. 07<br>Entregó",
           "Act. 07<br>No entregó"
          ],
          "pad": 15,
          "thickness": 16
         },
         "type": "sankey"
        }
       ],
       "layout": {
        "font": {
         "size": 12
        },
        "height": 600,
        "template": {
         "data": {
          "bar": [
           {
            "error_x": {
             "color": "#2a3f5f"
            },
            "error_y": {
             "color": "#2a3f5f"
            },
            "marker": {
             "line": {
              "color": "#E5ECF6",
              "width": 0.5
             },
             "pattern": {
              "fillmode": "overlay",
              "size": 10,
              "solidity": 0.2
             }
            },
            "type": "bar"
           }
          ],
          "barpolar": [
           {
            "marker": {
             "line": {
              "color": "#E5ECF6",
              "width": 0.5
             },
             "pattern": {
              "fillmode": "overlay",
              "size": 10,
              "solidity": 0.2
             }
            },
            "type": "barpolar"
           }
          ],
          "carpet": [
           {
            "aaxis": {
             "endlinecolor": "#2a3f5f",
             "gridcolor": "white",
             "linecolor": "white",
             "minorgridcolor": "white",
             "startlinecolor": "#2a3f5f"
            },
            "baxis": {
             "endlinecolor": "#2a3f5f",
             "gridcolor": "white",
             "linecolor": "white",
             "minorgridcolor": "white",
             "startlinecolor": "#2a3f5f"
            },
            "type": "carpet"
           }
          ],
          "choropleth": [
           {
            "colorbar": {
             "outlinewidth": 0,
             "ticks": ""
            },
            "type": "choropleth"
           }
          ],
          "contour": [
           {
            "colorbar": {
             "outlinewidth": 0,
             "ticks": ""
            },
            "colorscale": [
             [
              0,
              "#0d0887"
             ],
             [
              0.1111111111111111,
              "#46039f"
             ],
             [
              0.2222222222222222,
              "#7201a8"
             ],
             [
              0.3333333333333333,
              "#9c179e"
             ],
             [
              0.4444444444444444,
              "#bd3786"
             ],
             [
              0.5555555555555556,
              "#d8576b"
             ],
             [
              0.6666666666666666,
              "#ed7953"
             ],
             [
              0.7777777777777778,
              "#fb9f3a"
             ],
             [
              0.8888888888888888,
              "#fdca26"
             ],
             [
              1,
              "#f0f921"
             ]
            ],
            "type": "contour"
           }
          ],
          "contourcarpet": [
           {
            "colorbar": {
             "outlinewidth": 0,
             "ticks": ""
            },
            "type": "contourcarpet"
           }
          ],
          "heatmap": [
           {
            "colorbar": {
             "outlinewidth": 0,
             "ticks": ""
            },
            "colorscale": [
             [
              0,
              "#0d0887"
             ],
             [
              0.1111111111111111,
              "#46039f"
             ],
             [
              0.2222222222222222,
              "#7201a8"
             ],
             [
              0.3333333333333333,
              "#9c179e"
             ],
             [
              0.4444444444444444,
              "#bd3786"
             ],
             [
              0.5555555555555556,
              "#d8576b"
             ],
             [
              0.6666666666666666,
              "#ed7953"
             ],
             [
              0.7777777777777778,
              "#fb9f3a"
             ],
             [
              0.8888888888888888,
              "#fdca26"
             ],
             [
              1,
              "#f0f921"
             ]
            ],
            "type": "heatmap"
           }
          ],
          "histogram": [
           {
            "marker": {
             "pattern": {
              "fillmode": "overlay",
              "size": 10,
              "solidity": 0.2
             }
            },
            "type": "histogram"
           }
          ],
          "histogram2d": [
           {
            "colorbar": {
             "outlinewidth": 0,
             "ticks": ""
            },
            "colorscale": [
             [
              0,
              "#0d0887"
             ],
             [
              0.1111111111111111,
              "#46039f"
             ],
             [
              0.2222222222222222,
              "#7201a8"
             ],
             [
              0.3333333333333333,
              "#9c179e"
             ],
             [
              0.4444444444444444,
              "#bd3786"
             ],
             [
              0.5555555555555556,
              "#d8576b"
             ],
             [
              0.6666666666666666,
              "#ed7953"
             ],
             [
              0.7777777777777778,
              "#fb9f3a"
             ],
             [
              0.8888888888888888,
              "#fdca26"
             ],
             [
              1,
              "#f0f921"
             ]
            ],
            "type": "histogram2d"
           }
          ],
          "histogram2dcontour": [
           {
            "colorbar": {
             "outlinewidth": 0,
             "ticks": ""
            },
            "colorscale": [
             [
              0,
              "#0d0887"
             ],
             [
              0.1111111111111111,
              "#46039f"
             ],
             [
              0.2222222222222222,
              "#7201a8"
             ],
             [
              0.3333333333333333,
              "#9c179e"
             ],
             [
              0.4444444444444444,
              "#bd3786"
             ],
             [
              0.5555555555555556,
              "#d8576b"
             ],
             [
              0.6666666666666666,
              "#ed7953"
             ],
             [
              0.7777777777777778,
              "#fb9f3a"
             ],
             [
              0.8888888888888888,
              "#fdca26"
             ],
             [
              1,
              "#f0f921"
             ]
            ],
            "type": "histogram2dcontour"
           }
          ],
          "mesh3d": [
           {
            "colorbar": {
             "outlinewidth": 0,
             "ticks": ""
            },
            "type": "mesh3d"
           }
          ],
          "parcoords": [
           {
            "line": {
             "colorbar": {
              "outlinewidth": 0,
              "ticks": ""
             }
            },
            "type": "parcoords"
           }
          ],
          "pie": [
           {
            "automargin": true,
            "type": "pie"
           }
          ],
          "scatter": [
           {
            "fillpattern": {
             "fillmode": "overlay",
             "size": 10,
             "solidity": 0.2
            },
            "type": "scatter"
           }
          ],
          "scatter3d": [
           {
            "line": {
             "colorbar": {
              "outlinewidth": 0,
              "ticks": ""
             }
            },
            "marker": {
             "colorbar": {
              "outlinewidth": 0,
              "ticks": ""
             }
            },
            "type": "scatter3d"
           }
          ],
          "scattercarpet": [
           {
            "marker": {
             "colorbar": {
              "outlinewidth": 0,
              "ticks": ""
             }
            },
            "type": "scattercarpet"
           }
          ],
          "scattergeo": [
           {
            "marker": {
             "colorbar": {
              "outlinewidth": 0,
              "ticks": ""
             }
            },
            "type": "scattergeo"
           }
          ],
          "scattergl": [
           {
            "marker": {
             "colorbar": {
              "outlinewidth": 0,
              "ticks": ""
             }
            },
            "type": "scattergl"
           }
          ],
          "scattermap": [
           {
            "marker": {
             "colorbar": {
              "outlinewidth": 0,
              "ticks": ""
             }
            },
            "type": "scattermap"
           }
          ],
          "scattermapbox": [
           {
            "marker": {
             "colorbar": {
              "outlinewidth": 0,
              "ticks": ""
             }
            },
            "type": "scattermapbox"
           }
          ],
          "scatterpolar": [
           {
            "marker": {
             "colorbar": {
              "outlinewidth": 0,
              "ticks": ""
             }
            },
            "type": "scatterpolar"
           }
          ],
          "scatterpolargl": [
           {
            "marker": {
             "colorbar": {
              "outlinewidth": 0,
              "ticks": ""
             }
            },
            "type": "scatterpolargl"
           }
          ],
          "scatterternary": [
           {
            "marker": {
             "colorbar": {
              "outlinewidth": 0,
              "ticks": ""
             }
            },
            "type": "scatterternary"
           }
          ],
          "surface": [
           {
            "colorbar": {
             "outlinewidth": 0,
             "ticks": ""
            },
            "colorscale": [
             [
              0,
              "#0d0887"
             ],
             [
              0.1111111111111111,
              "#46039f"
             ],
             [
              0.2222222222222222,
              "#7201a8"
             ],
             [
              0.3333333333333333,
              "#9c179e"
             ],
             [
              0.4444444444444444,
              "#bd3786"
             ],
             [
              0.5555555555555556,
              "#d8576b"
             ],
             [
              0.6666666666666666,
              "#ed7953"
             ],
             [
              0.7777777777777778,
              "#fb9f3a"
             ],
             [
              0.8888888888888888,
              "#fdca26"
             ],
             [
              1,
              "#f0f921"
             ]
            ],
            "type": "surface"
           }
          ],
          "table": [
           {
            "cells": {
             "fill": {
              "color": "#EBF0F8"
             },
             "line": {
              "color": "white"
             }
            },
            "header": {
             "fill": {
              "color": "#C8D4E3"
             },
             "line": {
              "color": "white"
             }
            },
            "type": "table"
           }
          ]
         },
         "layout": {
          "annotationdefaults": {
           "arrowcolor": "#2a3f5f",
           "arrowhead": 0,
           "arrowwidth": 1
          },
          "autotypenumbers": "strict",
          "coloraxis": {
           "colorbar": {
            "outlinewidth": 0,
            "ticks": ""
           }
          },
          "colorscale": {
           "diverging": [
            [
             0,
             "#8e0152"
            ],
            [
             0.1,
             "#c51b7d"
            ],
            [
             0.2,
             "#de77ae"
            ],
            [
             0.3,
             "#f1b6da"
            ],
            [
             0.4,
             "#fde0ef"
            ],
            [
             0.5,
             "#f7f7f7"
            ],
            [
             0.6,
             "#e6f5d0"
            ],
            [
             0.7,
             "#b8e186"
            ],
            [
             0.8,
             "#7fbc41"
            ],
            [
             0.9,
             "#4d9221"
            ],
            [
             1,
             "#276419"
            ]
           ],
           "sequential": [
            [
             0,
             "#0d0887"
            ],
            [
             0.1111111111111111,
             "#46039f"
            ],
            [
             0.2222222222222222,
             "#7201a8"
            ],
            [
             0.3333333333333333,
             "#9c179e"
            ],
            [
             0.4444444444444444,
             "#bd3786"
            ],
            [
             0.5555555555555556,
             "#d8576b"
            ],
            [
             0.6666666666666666,
             "#ed7953"
            ],
            [
             0.7777777777777778,
             "#fb9f3a"
            ],
            [
             0.8888888888888888,
             "#fdca26"
            ],
            [
             1,
             "#f0f921"
            ]
           ],
           "sequentialminus": [
            [
             0,
             "#0d0887"
            ],
            [
             0.1111111111111111,
             "#46039f"
            ],
            [
             0.2222222222222222,
             "#7201a8"
            ],
            [
             0.3333333333333333,
             "#9c179e"
            ],
            [
             0.4444444444444444,
             "#bd3786"
            ],
            [
             0.5555555555555556,
             "#d8576b"
            ],
            [
             0.6666666666666666,
             "#ed7953"
            ],
            [
             0.7777777777777778,
             "#fb9f3a"
            ],
            [
             0.8888888888888888,
             "#fdca26"
            ],
            [
             1,
             "#f0f921"
            ]
           ]
          },
          "colorway": [
           "#636efa",
           "#EF553B",
           "#00cc96",
           "#ab63fa",
           "#FFA15A",
           "#19d3f3",
           "#FF6692",
           "#B6E880",
           "#FF97FF",
           "#FECB52"
          ],
          "font": {
           "color": "#2a3f5f"
          },
          "geo": {
           "bgcolor": "white",
           "lakecolor": "white",
           "landcolor": "#E5ECF6",
           "showlakes": true,
           "showland": true,
           "subunitcolor": "white"
          },
          "hoverlabel": {
           "align": "left"
          },
          "hovermode": "closest",
          "mapbox": {
           "style": "light"
          },
          "paper_bgcolor": "white",
          "plot_bgcolor": "#E5ECF6",
          "polar": {
           "angularaxis": {
            "gridcolor": "white",
            "linecolor": "white",
            "ticks": ""
           },
           "bgcolor": "#E5ECF6",
           "radialaxis": {
            "gridcolor": "white",
            "linecolor": "white",
            "ticks": ""
           }
          },
          "scene": {
           "xaxis": {
            "backgroundcolor": "#E5ECF6",
            "gridcolor": "white",
            "gridwidth": 2,
            "linecolor": "white",
            "showbackground": true,
            "ticks": "",
            "zerolinecolor": "white"
           },
           "yaxis": {
            "backgroundcolor": "#E5ECF6",
            "gridcolor": "white",
            "gridwidth": 2,
            "linecolor": "white",
            "showbackground": true,
            "ticks": "",
            "zerolinecolor": "white"
           },
           "zaxis": {
            "backgroundcolor": "#E5ECF6",
            "gridcolor": "white",
            "gridwidth": 2,
            "linecolor": "white",
            "showbackground": true,
            "ticks": "",
            "zerolinecolor": "white"
           }
          },
          "shapedefaults": {
           "line": {
            "color": "#2a3f5f"
           }
          },
          "ternary": {
           "aaxis": {
            "gridcolor": "white",
            "linecolor": "white",
            "ticks": ""
           },
           "baxis": {
            "gridcolor": "white",
            "linecolor": "white",
            "ticks": ""
           },
           "bgcolor": "#E5ECF6",
           "caxis": {
            "gridcolor": "white",
            "linecolor": "white",
            "ticks": ""
           }
          },
          "title": {
           "x": 0.05
          },
          "xaxis": {
           "automargin": true,
           "gridcolor": "white",
           "linecolor": "white",
           "ticks": "",
           "title": {
            "standoff": 15
           },
           "zerolinecolor": "white",
           "zerolinewidth": 2
          },
          "yaxis": {
           "automargin": true,
           "gridcolor": "white",
           "linecolor": "white",
           "ticks": "",
           "title": {
            "standoff": 15
           },
           "zerolinecolor": "white",
           "zerolinewidth": 2
          }
         }
        },
        "title": {
         "text": "Flujo de ENTREGAS por actividad"
        }
       }
      }
     },
     "metadata": {},
     "output_type": "display_data"
    },
    {
     "data": {
      "application/vnd.plotly.v1+json": {
       "config": {
        "plotlyServerURL": "https://plot.ly"
       },
       "data": [
        {
         "arrangement": "snap",
         "link": {
          "color": [
           "rgba(150,150,150,0.4)",
           "rgba(150,150,150,0.4)",
           "rgba(150,150,150,0.4)",
           "rgba(150,150,150,0.4)",
           "rgba(150,150,150,0.4)",
           "rgba(150,150,150,0.4)",
           "rgba(150,150,150,0.4)",
           "rgba(150,150,150,0.4)",
           "rgba(150,150,150,0.4)",
           "rgba(150,150,150,0.4)",
           "rgba(150,150,150,0.4)",
           "rgba(150,150,150,0.4)",
           "rgba(150,150,150,0.4)",
           "rgba(150,150,150,0.4)",
           "rgba(150,150,150,0.4)",
           "rgba(150,150,150,0.4)",
           "rgba(150,150,150,0.4)",
           "rgba(150,150,150,0.4)",
           "rgba(150,150,150,0.4)",
           "rgba(150,150,150,0.4)",
           "rgba(150,150,150,0.4)",
           "rgba(150,150,150,0.4)",
           "rgba(150,150,150,0.4)",
           "rgba(150,150,150,0.4)"
          ],
          "source": [
           0,
           2,
           0,
           2,
           1,
           3,
           3,
           1,
           4,
           4,
           5,
           5,
           6,
           7,
           7,
           6,
           8,
           8,
           9,
           9,
           10,
           11,
           11,
           10
          ],
          "target": [
           1,
           3,
           3,
           1,
           4,
           5,
           4,
           5,
           6,
           7,
           7,
           6,
           8,
           8,
           9,
           9,
           10,
           11,
           10,
           11,
           12,
           12,
           13,
           13
          ],
          "value": [
           143,
           23,
           23,
           12,
           130,
           30,
           16,
           25,
           124,
           22,
           38,
           17,
           92,
           19,
           41,
           49,
           25,
           86,
           47,
           43,
           14,
           83,
           46,
           58
          ]
         },
         "node": {
          "color": "rgba(44, 160, 101, 0.8)",
          "label": [
           "Test Expr. (nota)<br>Aprobó",
           "Act. 02 - Elecciones (nota)<br>Aprobó",
           "Test Expr. (nota)<br>Suspendió",
           "Act. 02 - Elecciones (nota)<br>Suspendió",
           "Act. 03 - Catalan (nota)<br>Aprobó",
           "Act. 03 - Catalan (nota)<br>Suspendió",
           "Act. 04 - Primos (nota)<br>Aprobó",
           "Act. 04 - Primos (nota)<br>Suspendió",
           "Test Complejidad (nota)<br>Aprobó",
           "Test Complejidad (nota)<br>Suspendió",
           "Act. 05 - Vectores (nota)<br>Suspendió",
           "Act. 05 - Vectores (nota)<br>Aprobó",
           "Act. 07 (nota)<br>Aprobó",
           "Act. 07 (nota)<br>Suspendió"
          ],
          "pad": 15,
          "thickness": 16
         },
         "type": "sankey"
        }
       ],
       "layout": {
        "font": {
         "size": 12
        },
        "height": 600,
        "template": {
         "data": {
          "bar": [
           {
            "error_x": {
             "color": "#2a3f5f"
            },
            "error_y": {
             "color": "#2a3f5f"
            },
            "marker": {
             "line": {
              "color": "#E5ECF6",
              "width": 0.5
             },
             "pattern": {
              "fillmode": "overlay",
              "size": 10,
              "solidity": 0.2
             }
            },
            "type": "bar"
           }
          ],
          "barpolar": [
           {
            "marker": {
             "line": {
              "color": "#E5ECF6",
              "width": 0.5
             },
             "pattern": {
              "fillmode": "overlay",
              "size": 10,
              "solidity": 0.2
             }
            },
            "type": "barpolar"
           }
          ],
          "carpet": [
           {
            "aaxis": {
             "endlinecolor": "#2a3f5f",
             "gridcolor": "white",
             "linecolor": "white",
             "minorgridcolor": "white",
             "startlinecolor": "#2a3f5f"
            },
            "baxis": {
             "endlinecolor": "#2a3f5f",
             "gridcolor": "white",
             "linecolor": "white",
             "minorgridcolor": "white",
             "startlinecolor": "#2a3f5f"
            },
            "type": "carpet"
           }
          ],
          "choropleth": [
           {
            "colorbar": {
             "outlinewidth": 0,
             "ticks": ""
            },
            "type": "choropleth"
           }
          ],
          "contour": [
           {
            "colorbar": {
             "outlinewidth": 0,
             "ticks": ""
            },
            "colorscale": [
             [
              0,
              "#0d0887"
             ],
             [
              0.1111111111111111,
              "#46039f"
             ],
             [
              0.2222222222222222,
              "#7201a8"
             ],
             [
              0.3333333333333333,
              "#9c179e"
             ],
             [
              0.4444444444444444,
              "#bd3786"
             ],
             [
              0.5555555555555556,
              "#d8576b"
             ],
             [
              0.6666666666666666,
              "#ed7953"
             ],
             [
              0.7777777777777778,
              "#fb9f3a"
             ],
             [
              0.8888888888888888,
              "#fdca26"
             ],
             [
              1,
              "#f0f921"
             ]
            ],
            "type": "contour"
           }
          ],
          "contourcarpet": [
           {
            "colorbar": {
             "outlinewidth": 0,
             "ticks": ""
            },
            "type": "contourcarpet"
           }
          ],
          "heatmap": [
           {
            "colorbar": {
             "outlinewidth": 0,
             "ticks": ""
            },
            "colorscale": [
             [
              0,
              "#0d0887"
             ],
             [
              0.1111111111111111,
              "#46039f"
             ],
             [
              0.2222222222222222,
              "#7201a8"
             ],
             [
              0.3333333333333333,
              "#9c179e"
             ],
             [
              0.4444444444444444,
              "#bd3786"
             ],
             [
              0.5555555555555556,
              "#d8576b"
             ],
             [
              0.6666666666666666,
              "#ed7953"
             ],
             [
              0.7777777777777778,
              "#fb9f3a"
             ],
             [
              0.8888888888888888,
              "#fdca26"
             ],
             [
              1,
              "#f0f921"
             ]
            ],
            "type": "heatmap"
           }
          ],
          "histogram": [
           {
            "marker": {
             "pattern": {
              "fillmode": "overlay",
              "size": 10,
              "solidity": 0.2
             }
            },
            "type": "histogram"
           }
          ],
          "histogram2d": [
           {
            "colorbar": {
             "outlinewidth": 0,
             "ticks": ""
            },
            "colorscale": [
             [
              0,
              "#0d0887"
             ],
             [
              0.1111111111111111,
              "#46039f"
             ],
             [
              0.2222222222222222,
              "#7201a8"
             ],
             [
              0.3333333333333333,
              "#9c179e"
             ],
             [
              0.4444444444444444,
              "#bd3786"
             ],
             [
              0.5555555555555556,
              "#d8576b"
             ],
             [
              0.6666666666666666,
              "#ed7953"
             ],
             [
              0.7777777777777778,
              "#fb9f3a"
             ],
             [
              0.8888888888888888,
              "#fdca26"
             ],
             [
              1,
              "#f0f921"
             ]
            ],
            "type": "histogram2d"
           }
          ],
          "histogram2dcontour": [
           {
            "colorbar": {
             "outlinewidth": 0,
             "ticks": ""
            },
            "colorscale": [
             [
              0,
              "#0d0887"
             ],
             [
              0.1111111111111111,
              "#46039f"
             ],
             [
              0.2222222222222222,
              "#7201a8"
             ],
             [
              0.3333333333333333,
              "#9c179e"
             ],
             [
              0.4444444444444444,
              "#bd3786"
             ],
             [
              0.5555555555555556,
              "#d8576b"
             ],
             [
              0.6666666666666666,
              "#ed7953"
             ],
             [
              0.7777777777777778,
              "#fb9f3a"
             ],
             [
              0.8888888888888888,
              "#fdca26"
             ],
             [
              1,
              "#f0f921"
             ]
            ],
            "type": "histogram2dcontour"
           }
          ],
          "mesh3d": [
           {
            "colorbar": {
             "outlinewidth": 0,
             "ticks": ""
            },
            "type": "mesh3d"
           }
          ],
          "parcoords": [
           {
            "line": {
             "colorbar": {
              "outlinewidth": 0,
              "ticks": ""
             }
            },
            "type": "parcoords"
           }
          ],
          "pie": [
           {
            "automargin": true,
            "type": "pie"
           }
          ],
          "scatter": [
           {
            "fillpattern": {
             "fillmode": "overlay",
             "size": 10,
             "solidity": 0.2
            },
            "type": "scatter"
           }
          ],
          "scatter3d": [
           {
            "line": {
             "colorbar": {
              "outlinewidth": 0,
              "ticks": ""
             }
            },
            "marker": {
             "colorbar": {
              "outlinewidth": 0,
              "ticks": ""
             }
            },
            "type": "scatter3d"
           }
          ],
          "scattercarpet": [
           {
            "marker": {
             "colorbar": {
              "outlinewidth": 0,
              "ticks": ""
             }
            },
            "type": "scattercarpet"
           }
          ],
          "scattergeo": [
           {
            "marker": {
             "colorbar": {
              "outlinewidth": 0,
              "ticks": ""
             }
            },
            "type": "scattergeo"
           }
          ],
          "scattergl": [
           {
            "marker": {
             "colorbar": {
              "outlinewidth": 0,
              "ticks": ""
             }
            },
            "type": "scattergl"
           }
          ],
          "scattermap": [
           {
            "marker": {
             "colorbar": {
              "outlinewidth": 0,
              "ticks": ""
             }
            },
            "type": "scattermap"
           }
          ],
          "scattermapbox": [
           {
            "marker": {
             "colorbar": {
              "outlinewidth": 0,
              "ticks": ""
             }
            },
            "type": "scattermapbox"
           }
          ],
          "scatterpolar": [
           {
            "marker": {
             "colorbar": {
              "outlinewidth": 0,
              "ticks": ""
             }
            },
            "type": "scatterpolar"
           }
          ],
          "scatterpolargl": [
           {
            "marker": {
             "colorbar": {
              "outlinewidth": 0,
              "ticks": ""
             }
            },
            "type": "scatterpolargl"
           }
          ],
          "scatterternary": [
           {
            "marker": {
             "colorbar": {
              "outlinewidth": 0,
              "ticks": ""
             }
            },
            "type": "scatterternary"
           }
          ],
          "surface": [
           {
            "colorbar": {
             "outlinewidth": 0,
             "ticks": ""
            },
            "colorscale": [
             [
              0,
              "#0d0887"
             ],
             [
              0.1111111111111111,
              "#46039f"
             ],
             [
              0.2222222222222222,
              "#7201a8"
             ],
             [
              0.3333333333333333,
              "#9c179e"
             ],
             [
              0.4444444444444444,
              "#bd3786"
             ],
             [
              0.5555555555555556,
              "#d8576b"
             ],
             [
              0.6666666666666666,
              "#ed7953"
             ],
             [
              0.7777777777777778,
              "#fb9f3a"
             ],
             [
              0.8888888888888888,
              "#fdca26"
             ],
             [
              1,
              "#f0f921"
             ]
            ],
            "type": "surface"
           }
          ],
          "table": [
           {
            "cells": {
             "fill": {
              "color": "#EBF0F8"
             },
             "line": {
              "color": "white"
             }
            },
            "header": {
             "fill": {
              "color": "#C8D4E3"
             },
             "line": {
              "color": "white"
             }
            },
            "type": "table"
           }
          ]
         },
         "layout": {
          "annotationdefaults": {
           "arrowcolor": "#2a3f5f",
           "arrowhead": 0,
           "arrowwidth": 1
          },
          "autotypenumbers": "strict",
          "coloraxis": {
           "colorbar": {
            "outlinewidth": 0,
            "ticks": ""
           }
          },
          "colorscale": {
           "diverging": [
            [
             0,
             "#8e0152"
            ],
            [
             0.1,
             "#c51b7d"
            ],
            [
             0.2,
             "#de77ae"
            ],
            [
             0.3,
             "#f1b6da"
            ],
            [
             0.4,
             "#fde0ef"
            ],
            [
             0.5,
             "#f7f7f7"
            ],
            [
             0.6,
             "#e6f5d0"
            ],
            [
             0.7,
             "#b8e186"
            ],
            [
             0.8,
             "#7fbc41"
            ],
            [
             0.9,
             "#4d9221"
            ],
            [
             1,
             "#276419"
            ]
           ],
           "sequential": [
            [
             0,
             "#0d0887"
            ],
            [
             0.1111111111111111,
             "#46039f"
            ],
            [
             0.2222222222222222,
             "#7201a8"
            ],
            [
             0.3333333333333333,
             "#9c179e"
            ],
            [
             0.4444444444444444,
             "#bd3786"
            ],
            [
             0.5555555555555556,
             "#d8576b"
            ],
            [
             0.6666666666666666,
             "#ed7953"
            ],
            [
             0.7777777777777778,
             "#fb9f3a"
            ],
            [
             0.8888888888888888,
             "#fdca26"
            ],
            [
             1,
             "#f0f921"
            ]
           ],
           "sequentialminus": [
            [
             0,
             "#0d0887"
            ],
            [
             0.1111111111111111,
             "#46039f"
            ],
            [
             0.2222222222222222,
             "#7201a8"
            ],
            [
             0.3333333333333333,
             "#9c179e"
            ],
            [
             0.4444444444444444,
             "#bd3786"
            ],
            [
             0.5555555555555556,
             "#d8576b"
            ],
            [
             0.6666666666666666,
             "#ed7953"
            ],
            [
             0.7777777777777778,
             "#fb9f3a"
            ],
            [
             0.8888888888888888,
             "#fdca26"
            ],
            [
             1,
             "#f0f921"
            ]
           ]
          },
          "colorway": [
           "#636efa",
           "#EF553B",
           "#00cc96",
           "#ab63fa",
           "#FFA15A",
           "#19d3f3",
           "#FF6692",
           "#B6E880",
           "#FF97FF",
           "#FECB52"
          ],
          "font": {
           "color": "#2a3f5f"
          },
          "geo": {
           "bgcolor": "white",
           "lakecolor": "white",
           "landcolor": "#E5ECF6",
           "showlakes": true,
           "showland": true,
           "subunitcolor": "white"
          },
          "hoverlabel": {
           "align": "left"
          },
          "hovermode": "closest",
          "mapbox": {
           "style": "light"
          },
          "paper_bgcolor": "white",
          "plot_bgcolor": "#E5ECF6",
          "polar": {
           "angularaxis": {
            "gridcolor": "white",
            "linecolor": "white",
            "ticks": ""
           },
           "bgcolor": "#E5ECF6",
           "radialaxis": {
            "gridcolor": "white",
            "linecolor": "white",
            "ticks": ""
           }
          },
          "scene": {
           "xaxis": {
            "backgroundcolor": "#E5ECF6",
            "gridcolor": "white",
            "gridwidth": 2,
            "linecolor": "white",
            "showbackground": true,
            "ticks": "",
            "zerolinecolor": "white"
           },
           "yaxis": {
            "backgroundcolor": "#E5ECF6",
            "gridcolor": "white",
            "gridwidth": 2,
            "linecolor": "white",
            "showbackground": true,
            "ticks": "",
            "zerolinecolor": "white"
           },
           "zaxis": {
            "backgroundcolor": "#E5ECF6",
            "gridcolor": "white",
            "gridwidth": 2,
            "linecolor": "white",
            "showbackground": true,
            "ticks": "",
            "zerolinecolor": "white"
           }
          },
          "shapedefaults": {
           "line": {
            "color": "#2a3f5f"
           }
          },
          "ternary": {
           "aaxis": {
            "gridcolor": "white",
            "linecolor": "white",
            "ticks": ""
           },
           "baxis": {
            "gridcolor": "white",
            "linecolor": "white",
            "ticks": ""
           },
           "bgcolor": "#E5ECF6",
           "caxis": {
            "gridcolor": "white",
            "linecolor": "white",
            "ticks": ""
           }
          },
          "title": {
           "x": 0.05
          },
          "xaxis": {
           "automargin": true,
           "gridcolor": "white",
           "linecolor": "white",
           "ticks": "",
           "title": {
            "standoff": 15
           },
           "zerolinecolor": "white",
           "zerolinewidth": 2
          },
          "yaxis": {
           "automargin": true,
           "gridcolor": "white",
           "linecolor": "white",
           "ticks": "",
           "title": {
            "standoff": 15
           },
           "zerolinecolor": "white",
           "zerolinewidth": 2
          }
         }
        },
        "title": {
         "text": "Flujo de APROBADOS por actividad"
        }
       }
      }
     },
     "metadata": {},
     "output_type": "display_data"
    }
   ],
   "source": [
    "\n",
    "PASS_MARK = 5  \n",
    "\n",
    "# ─────────────── FUNCIONES AUXILIARES ───────────────\n",
    "def _build_transition_counts(df, status_mapper):\n",
    "    \"\"\"\n",
    "    Devuelve:\n",
    "        nodes  · lista única de (<actividad>, <estado>)\n",
    "        links  · listas paralelas: source, target, value\n",
    "    `status_mapper` recibe un valor de la celda y devuelve la etiqueta de estado.\n",
    "    \"\"\"\n",
    "    # Mantener solo las columnas de actividad (ignora userid / abandona…)\n",
    "    act_cols = [c for c in df.columns if c not in {\"userid\", \"abandona\"}]\n",
    "\n",
    "    # Construir el set de nodos y un dict (<act>, <estado>) → idx\n",
    "    nodes = [(act, st) \n",
    "             for act in act_cols\n",
    "             for st in (\"Sí\", \"No\")]          # placeholder, se sobreescribirá\n",
    "    node_idx = {}\n",
    "\n",
    "    # Lo rellenaremos dinámicamente para evitar nodos que nunca aparecen\n",
    "    source, target, value = [], [], []\n",
    "\n",
    "    # Recorremos pares consecutivos de actividades\n",
    "    for c1, c2 in zip(act_cols[:-1], act_cols[1:]):\n",
    "        trans = {}\n",
    "        for _, row in df[[c1, c2]].iterrows():\n",
    "            st1 = status_mapper(row[c1])\n",
    "            st2 = status_mapper(row[c2])\n",
    "            trans[(c1, st1, c2, st2)] = trans.get((c1, st1, c2, st2), 0) + 1\n",
    "\n",
    "        # Registrar nodos y enlaces\n",
    "        for (a1, s1, a2, s2), cnt in trans.items():\n",
    "            # registrar nodos si no existen\n",
    "            for a, s in ((a1, s1), (a2, s2)):\n",
    "                if (a, s) not in node_idx:\n",
    "                    node_idx[(a, s)] = len(node_idx)\n",
    "            source.append(node_idx[(a1, s1)])\n",
    "            target.append(node_idx[(a2, s2)])\n",
    "            value.append(cnt)\n",
    "\n",
    "    # Ordenar nodos en la lista final según su índice\n",
    "    inv_idx = {v: k for k, v in node_idx.items()}\n",
    "    nodes_sorted = [inv_idx[i] for i in range(len(inv_idx))]\n",
    "    labels = [f\"{act}<br>{st}\" for act, st in nodes_sorted]\n",
    "\n",
    "    return labels, source, target, value\n",
    "\n",
    "def _plot_sankey(labels, source, target, value, title):\n",
    "    link_colors = [\"rgba(150,150,150,0.4)\"] * len(source)\n",
    "    fig = go.Figure(go.Sankey(\n",
    "        arrangement=\"snap\",\n",
    "        node=dict(label=labels, pad=15, thickness=16,\n",
    "                  color=\"rgba(44, 160, 101, 0.8)\"),\n",
    "        link=dict(source=source, target=target, value=value,\n",
    "                  color=link_colors)))\n",
    "    fig.update_layout(title_text=title, font_size=12, height=600)\n",
    "    fig.show()\n",
    "\n",
    "# ─────────────── DIAGRAMA 1 · ENTREGAS ───────────────\n",
    "labels_ent, src_ent, tgt_ent, val_ent = _build_transition_counts(\n",
    "    df_entregas,\n",
    "    status_mapper=lambda v: \"Entregó\" if v == 1 else \"No entregó\"\n",
    ")\n",
    "_plot_sankey(labels_ent, src_ent, tgt_ent, val_ent,\n",
    "             \"Flujo de ENTREGAS por actividad\")\n",
    "\n",
    "# ─────────────── DIAGRAMA 2 · NOTAS ───────────────\n",
    "labels_not, src_not, tgt_not, val_not = _build_transition_counts(\n",
    "    df_notas,\n",
    "    status_mapper=lambda v: \"Aprobó\" if (pd.notna(v) and v >= PASS_MARK) else \"Suspendió\"\n",
    ")\n",
    "_plot_sankey(labels_not, src_not, tgt_not, val_not,\n",
    "             \"Flujo de APROBADOS por actividad\")\n",
    "# ──────────────────────────────────────────────────────────────────────────────\n"
   ]
  },
  {
   "cell_type": "markdown",
   "metadata": {},
   "source": [
    "##  Interpretación de los diagramas de Sankey\n",
    "\n",
    "\n",
    "### 1. Flujo **ENTREGÓ / NO ENTREGÓ**\n",
    "\n",
    "| Observación | Implicación pedagógica |\n",
    "|-------------|------------------------|\n",
    "| Predomina una **columna verde continua**: la inmensa mayoría (≈ 85-90 %) entrega todas las actividades de principio a fin. | El alumnado que empieza entregando tiende a mantenerse comprometido: buen síntoma de motivación sostenida. |\n",
    "| El grupo que **no entrega desde la primera tarea (≈ 10-15 %) permanece casi estático**: los hilos grises apenas vuelven al verde. | La _no entrega inicial_ es un **indicador precoz de riesgo de inactividad/abandono**. Intervenciones muy tempranas (recordatorios, tutorías) son clave. |\n",
    "| Transiciones inversas (de “Entregó” a “No entregó”) son testimoniales. | El abandono total tras haber comenzado es poco frecuente; conviene centrar los esfuerzos en quienes nunca arrancan. |\n",
    "\n",
    "---\n",
    "\n",
    "### 2. Flujo **APROBÓ / SUSPENDIÓ**\n",
    "\n",
    "| Observación | Implicación pedagógica |\n",
    "|-------------|------------------------|\n",
    "| Las tres primeras actividades muestran **alto porcentaje de aprobados**. | El nivel inicial parece adecuado y motiva al alumnado. |\n",
    "| En **“Test Complejidad”** y **“Act. 05 – Vectores”** aparecen **“cuellos de botella”**: aumentan bruscamente los hilos grises (suspensos), incluso de estudiantes que venían aprobando. | Son los **puntos críticos** del curso. Requieren refuerzo (material extra, ejemplos guiados, feedback inmediato). |\n",
    "| Existen hilos que retornan de “Suspendió” a “Aprobó” en la actividad final, pero son mucho más finos que los que se mantienen en suspenso. | Hay cierta capacidad de recuperación, pero limitada: cuanto antes se intervenga, mayor probabilidad de éxito. |\n",
    "\n",
    "---\n",
    "\n",
    "### 3. Conclusiones operativas\n",
    "\n",
    "1. **Detección temprana**  \n",
    "   - Una “No entrega” o “Suspenso” inicial debería disparar alertas automáticas y tutorías personalizadas.\n",
    "\n",
    "2. **Refuerzo focalizado**  \n",
    "   - Diseñar estrategias específicas para _Test Complejidad_ y _Vectores_ (clases extra, vídeos paso a paso, rúbricas detalladas).\n",
    "\n",
    "3. **Seguimiento longitudinal**  \n",
    "   - El Sankey muestra herencia de estado: los primeros eventos condicionan los siguientes. Monitorizar ≈ en tiempo real permite cortar cadenas de suspensos/abandonos.\n",
    "\n",
    "4. **Motivación del alumnado**  \n",
    "   - Compartir métricas positivas (alta tasa de entrega, recuperación posible) puede fomentar la perseverancia y el auto-concepto de logro.\n",
    "\n",
    "En conjunto, los diagramas confirman que **el comportamiento académico es altamente secuencial**: detectar desajustes pronto y actuar justo donde se producen los mayores descensos (complejidad y vectores) es la estrategia más prometedora para reducir el abandono y aumentar el rendimiento global.\n"
   ]
  }
 ],
 "metadata": {
  "kernelspec": {
   "display_name": "pyspark-env",
   "language": "python",
   "name": "python3"
  },
  "language_info": {
   "codemirror_mode": {
    "name": "ipython",
    "version": 3
   },
   "file_extension": ".py",
   "mimetype": "text/x-python",
   "name": "python",
   "nbconvert_exporter": "python",
   "pygments_lexer": "ipython3",
   "version": "3.10.16"
  }
 },
 "nbformat": 4,
 "nbformat_minor": 2
}
