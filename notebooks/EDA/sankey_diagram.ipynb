{
 "cells": [
  {
   "cell_type": "markdown",
   "metadata": {},
   "source": [
    "# Diagrama de Sankey\n",
    "---"
   ]
  },
  {
   "cell_type": "markdown",
   "metadata": {},
   "source": [
    "En esta celda, vamos a utilizar los datos de esta primera iteración del modelado para analizar como se dividió todo el flujo de estudiantes del curso entre la entrega de tareas de evaluación continua del curso y respecto a las notas que obtuvieron"
   ]
  },
  {
   "cell_type": "markdown",
   "metadata": {},
   "source": [
    "## Diagrama de entregas\n"
   ]
  },
  {
   "cell_type": "code",
   "execution_count": 4,
   "metadata": {},
   "outputs": [
    {
     "data": {
      "application/vnd.plotly.v1+json": {
       "config": {
        "plotlyServerURL": "https://plot.ly"
       },
       "data": [
        {
         "arrangement": "snap",
         "link": {
          "color": [
           "rgba(0, 128, 0, 0.4)",
           "rgba(255, 0, 0, 0.4)",
           "rgba(0, 128, 0, 0.4)",
           "rgba(255, 0, 0, 0.4)",
           "rgba(0, 128, 0, 0.4)",
           "rgba(255, 0, 0, 0.4)",
           "rgba(0, 128, 0, 0.4)",
           "rgba(255, 0, 0, 0.4)",
           "rgba(0, 128, 0, 0.4)",
           "rgba(255, 0, 0, 0.4)",
           "rgba(0, 128, 0, 0.4)",
           "rgba(255, 0, 0, 0.4)",
           "rgba(0, 128, 0, 0.4)",
           "rgba(255, 0, 0, 0.4)",
           "rgba(0, 128, 0, 0.4)",
           "rgba(255, 0, 0, 0.4)",
           "rgba(0, 128, 0, 0.4)",
           "rgba(255, 0, 0, 0.4)",
           "rgba(0, 128, 0, 0.4)",
           "rgba(255, 0, 0, 0.4)",
           "rgba(0, 128, 0, 0.4)",
           "rgba(255, 0, 0, 0.4)",
           "rgba(0, 128, 0, 0.4)",
           "rgba(255, 0, 0, 0.4)",
           "rgba(0, 128, 0, 0.4)",
           "rgba(255, 0, 0, 0.4)",
           "rgba(0, 128, 0, 0.4)",
           "rgba(255, 0, 0, 0.4)",
           "rgba(0, 128, 0, 0.4)",
           "rgba(255, 0, 0, 0.4)",
           "rgba(0, 128, 0, 0.4)",
           "rgba(255, 0, 0, 0.4)",
           "rgba(0, 128, 0, 0.4)",
           "rgba(255, 0, 0, 0.4)",
           "rgba(0, 128, 0, 0.4)",
           "rgba(255, 0, 0, 0.4)",
           "rgba(0, 128, 0, 0.4)",
           "rgba(0, 128, 0, 0.4)",
           "rgba(255, 0, 0, 0.4)",
           "rgba(0, 128, 0, 0.4)",
           "rgba(255, 0, 0, 0.4)",
           "rgba(0, 128, 0, 0.4)",
           "rgba(0, 128, 0, 0.4)",
           "rgba(255, 0, 0, 0.4)",
           "rgba(0, 128, 0, 0.4)",
           "rgba(255, 0, 0, 0.4)",
           "rgba(0, 128, 0, 0.4)",
           "rgba(255, 0, 0, 0.4)",
           "rgba(0, 128, 0, 0.4)",
           "rgba(255, 0, 0, 0.4)"
          ],
          "source": [
           1,
           1,
           1,
           1,
           0,
           0,
           0,
           0,
           3,
           3,
           3,
           3,
           2,
           2,
           2,
           2,
           5,
           5,
           5,
           5,
           4,
           4,
           4,
           4,
           7,
           7,
           7,
           7,
           6,
           6,
           6,
           6,
           9,
           9,
           9,
           9,
           8,
           8,
           8,
           11,
           11,
           11,
           10,
           10,
           10,
           10,
           13,
           13,
           12,
           12
          ],
          "target": [
           3,
           3,
           2,
           2,
           3,
           3,
           2,
           2,
           5,
           5,
           4,
           4,
           5,
           5,
           4,
           4,
           7,
           7,
           6,
           6,
           7,
           7,
           6,
           6,
           9,
           9,
           8,
           8,
           9,
           9,
           8,
           8,
           11,
           11,
           10,
           10,
           11,
           10,
           10,
           13,
           13,
           12,
           13,
           13,
           12,
           12,
           14,
           15,
           14,
           15
          ],
          "value": [
           8,
           9,
           6,
           2,
           9,
           7,
           145,
           15,
           8,
           12,
           9,
           4,
           10,
           6,
           141,
           11,
           10,
           17,
           8,
           1,
           9,
           1,
           141,
           14,
           12,
           15,
           7,
           3,
           11,
           6,
           138,
           9,
           10,
           12,
           13,
           9,
           7,
           138,
           12,
           12,
           12,
           5,
           13,
           13,
           138,
           8,
           25,
           25,
           143,
           8
          ]
         },
         "node": {
          "color": "rgba(44,160,101,0.8)",
          "label": [
           "Test Expr.<br>Entregó",
           "Test Expr.<br>No entregó",
           "Act. 02 - Elecciones<br>Entregó",
           "Act. 02 - Elecciones<br>No entregó",
           "Act. 03 - Catalan<br>Entregó",
           "Act. 03 - Catalan<br>No entregó",
           "Act. 04 - Primos<br>Entregó",
           "Act. 04 - Primos<br>No entregó",
           "Act. 05 - Vectores<br>Entregó",
           "Act. 05 - Vectores<br>No entregó",
           "Test Complejidad<br>Entregó",
           "Test Complejidad<br>No entregó",
           "Act. 07<br>Entregó",
           "Act. 07<br>No entregó",
           "Sigue",
           "Abandona"
          ],
          "pad": 15,
          "thickness": 16
         },
         "type": "sankey"
        }
       ],
       "layout": {
        "font": {
         "size": 12
        },
        "height": 600,
        "template": {
         "data": {
          "bar": [
           {
            "error_x": {
             "color": "#2a3f5f"
            },
            "error_y": {
             "color": "#2a3f5f"
            },
            "marker": {
             "line": {
              "color": "#E5ECF6",
              "width": 0.5
             },
             "pattern": {
              "fillmode": "overlay",
              "size": 10,
              "solidity": 0.2
             }
            },
            "type": "bar"
           }
          ],
          "barpolar": [
           {
            "marker": {
             "line": {
              "color": "#E5ECF6",
              "width": 0.5
             },
             "pattern": {
              "fillmode": "overlay",
              "size": 10,
              "solidity": 0.2
             }
            },
            "type": "barpolar"
           }
          ],
          "carpet": [
           {
            "aaxis": {
             "endlinecolor": "#2a3f5f",
             "gridcolor": "white",
             "linecolor": "white",
             "minorgridcolor": "white",
             "startlinecolor": "#2a3f5f"
            },
            "baxis": {
             "endlinecolor": "#2a3f5f",
             "gridcolor": "white",
             "linecolor": "white",
             "minorgridcolor": "white",
             "startlinecolor": "#2a3f5f"
            },
            "type": "carpet"
           }
          ],
          "choropleth": [
           {
            "colorbar": {
             "outlinewidth": 0,
             "ticks": ""
            },
            "type": "choropleth"
           }
          ],
          "contour": [
           {
            "colorbar": {
             "outlinewidth": 0,
             "ticks": ""
            },
            "colorscale": [
             [
              0,
              "#0d0887"
             ],
             [
              0.1111111111111111,
              "#46039f"
             ],
             [
              0.2222222222222222,
              "#7201a8"
             ],
             [
              0.3333333333333333,
              "#9c179e"
             ],
             [
              0.4444444444444444,
              "#bd3786"
             ],
             [
              0.5555555555555556,
              "#d8576b"
             ],
             [
              0.6666666666666666,
              "#ed7953"
             ],
             [
              0.7777777777777778,
              "#fb9f3a"
             ],
             [
              0.8888888888888888,
              "#fdca26"
             ],
             [
              1,
              "#f0f921"
             ]
            ],
            "type": "contour"
           }
          ],
          "contourcarpet": [
           {
            "colorbar": {
             "outlinewidth": 0,
             "ticks": ""
            },
            "type": "contourcarpet"
           }
          ],
          "heatmap": [
           {
            "colorbar": {
             "outlinewidth": 0,
             "ticks": ""
            },
            "colorscale": [
             [
              0,
              "#0d0887"
             ],
             [
              0.1111111111111111,
              "#46039f"
             ],
             [
              0.2222222222222222,
              "#7201a8"
             ],
             [
              0.3333333333333333,
              "#9c179e"
             ],
             [
              0.4444444444444444,
              "#bd3786"
             ],
             [
              0.5555555555555556,
              "#d8576b"
             ],
             [
              0.6666666666666666,
              "#ed7953"
             ],
             [
              0.7777777777777778,
              "#fb9f3a"
             ],
             [
              0.8888888888888888,
              "#fdca26"
             ],
             [
              1,
              "#f0f921"
             ]
            ],
            "type": "heatmap"
           }
          ],
          "histogram": [
           {
            "marker": {
             "pattern": {
              "fillmode": "overlay",
              "size": 10,
              "solidity": 0.2
             }
            },
            "type": "histogram"
           }
          ],
          "histogram2d": [
           {
            "colorbar": {
             "outlinewidth": 0,
             "ticks": ""
            },
            "colorscale": [
             [
              0,
              "#0d0887"
             ],
             [
              0.1111111111111111,
              "#46039f"
             ],
             [
              0.2222222222222222,
              "#7201a8"
             ],
             [
              0.3333333333333333,
              "#9c179e"
             ],
             [
              0.4444444444444444,
              "#bd3786"
             ],
             [
              0.5555555555555556,
              "#d8576b"
             ],
             [
              0.6666666666666666,
              "#ed7953"
             ],
             [
              0.7777777777777778,
              "#fb9f3a"
             ],
             [
              0.8888888888888888,
              "#fdca26"
             ],
             [
              1,
              "#f0f921"
             ]
            ],
            "type": "histogram2d"
           }
          ],
          "histogram2dcontour": [
           {
            "colorbar": {
             "outlinewidth": 0,
             "ticks": ""
            },
            "colorscale": [
             [
              0,
              "#0d0887"
             ],
             [
              0.1111111111111111,
              "#46039f"
             ],
             [
              0.2222222222222222,
              "#7201a8"
             ],
             [
              0.3333333333333333,
              "#9c179e"
             ],
             [
              0.4444444444444444,
              "#bd3786"
             ],
             [
              0.5555555555555556,
              "#d8576b"
             ],
             [
              0.6666666666666666,
              "#ed7953"
             ],
             [
              0.7777777777777778,
              "#fb9f3a"
             ],
             [
              0.8888888888888888,
              "#fdca26"
             ],
             [
              1,
              "#f0f921"
             ]
            ],
            "type": "histogram2dcontour"
           }
          ],
          "mesh3d": [
           {
            "colorbar": {
             "outlinewidth": 0,
             "ticks": ""
            },
            "type": "mesh3d"
           }
          ],
          "parcoords": [
           {
            "line": {
             "colorbar": {
              "outlinewidth": 0,
              "ticks": ""
             }
            },
            "type": "parcoords"
           }
          ],
          "pie": [
           {
            "automargin": true,
            "type": "pie"
           }
          ],
          "scatter": [
           {
            "fillpattern": {
             "fillmode": "overlay",
             "size": 10,
             "solidity": 0.2
            },
            "type": "scatter"
           }
          ],
          "scatter3d": [
           {
            "line": {
             "colorbar": {
              "outlinewidth": 0,
              "ticks": ""
             }
            },
            "marker": {
             "colorbar": {
              "outlinewidth": 0,
              "ticks": ""
             }
            },
            "type": "scatter3d"
           }
          ],
          "scattercarpet": [
           {
            "marker": {
             "colorbar": {
              "outlinewidth": 0,
              "ticks": ""
             }
            },
            "type": "scattercarpet"
           }
          ],
          "scattergeo": [
           {
            "marker": {
             "colorbar": {
              "outlinewidth": 0,
              "ticks": ""
             }
            },
            "type": "scattergeo"
           }
          ],
          "scattergl": [
           {
            "marker": {
             "colorbar": {
              "outlinewidth": 0,
              "ticks": ""
             }
            },
            "type": "scattergl"
           }
          ],
          "scattermap": [
           {
            "marker": {
             "colorbar": {
              "outlinewidth": 0,
              "ticks": ""
             }
            },
            "type": "scattermap"
           }
          ],
          "scattermapbox": [
           {
            "marker": {
             "colorbar": {
              "outlinewidth": 0,
              "ticks": ""
             }
            },
            "type": "scattermapbox"
           }
          ],
          "scatterpolar": [
           {
            "marker": {
             "colorbar": {
              "outlinewidth": 0,
              "ticks": ""
             }
            },
            "type": "scatterpolar"
           }
          ],
          "scatterpolargl": [
           {
            "marker": {
             "colorbar": {
              "outlinewidth": 0,
              "ticks": ""
             }
            },
            "type": "scatterpolargl"
           }
          ],
          "scatterternary": [
           {
            "marker": {
             "colorbar": {
              "outlinewidth": 0,
              "ticks": ""
             }
            },
            "type": "scatterternary"
           }
          ],
          "surface": [
           {
            "colorbar": {
             "outlinewidth": 0,
             "ticks": ""
            },
            "colorscale": [
             [
              0,
              "#0d0887"
             ],
             [
              0.1111111111111111,
              "#46039f"
             ],
             [
              0.2222222222222222,
              "#7201a8"
             ],
             [
              0.3333333333333333,
              "#9c179e"
             ],
             [
              0.4444444444444444,
              "#bd3786"
             ],
             [
              0.5555555555555556,
              "#d8576b"
             ],
             [
              0.6666666666666666,
              "#ed7953"
             ],
             [
              0.7777777777777778,
              "#fb9f3a"
             ],
             [
              0.8888888888888888,
              "#fdca26"
             ],
             [
              1,
              "#f0f921"
             ]
            ],
            "type": "surface"
           }
          ],
          "table": [
           {
            "cells": {
             "fill": {
              "color": "#EBF0F8"
             },
             "line": {
              "color": "white"
             }
            },
            "header": {
             "fill": {
              "color": "#C8D4E3"
             },
             "line": {
              "color": "white"
             }
            },
            "type": "table"
           }
          ]
         },
         "layout": {
          "annotationdefaults": {
           "arrowcolor": "#2a3f5f",
           "arrowhead": 0,
           "arrowwidth": 1
          },
          "autotypenumbers": "strict",
          "coloraxis": {
           "colorbar": {
            "outlinewidth": 0,
            "ticks": ""
           }
          },
          "colorscale": {
           "diverging": [
            [
             0,
             "#8e0152"
            ],
            [
             0.1,
             "#c51b7d"
            ],
            [
             0.2,
             "#de77ae"
            ],
            [
             0.3,
             "#f1b6da"
            ],
            [
             0.4,
             "#fde0ef"
            ],
            [
             0.5,
             "#f7f7f7"
            ],
            [
             0.6,
             "#e6f5d0"
            ],
            [
             0.7,
             "#b8e186"
            ],
            [
             0.8,
             "#7fbc41"
            ],
            [
             0.9,
             "#4d9221"
            ],
            [
             1,
             "#276419"
            ]
           ],
           "sequential": [
            [
             0,
             "#0d0887"
            ],
            [
             0.1111111111111111,
             "#46039f"
            ],
            [
             0.2222222222222222,
             "#7201a8"
            ],
            [
             0.3333333333333333,
             "#9c179e"
            ],
            [
             0.4444444444444444,
             "#bd3786"
            ],
            [
             0.5555555555555556,
             "#d8576b"
            ],
            [
             0.6666666666666666,
             "#ed7953"
            ],
            [
             0.7777777777777778,
             "#fb9f3a"
            ],
            [
             0.8888888888888888,
             "#fdca26"
            ],
            [
             1,
             "#f0f921"
            ]
           ],
           "sequentialminus": [
            [
             0,
             "#0d0887"
            ],
            [
             0.1111111111111111,
             "#46039f"
            ],
            [
             0.2222222222222222,
             "#7201a8"
            ],
            [
             0.3333333333333333,
             "#9c179e"
            ],
            [
             0.4444444444444444,
             "#bd3786"
            ],
            [
             0.5555555555555556,
             "#d8576b"
            ],
            [
             0.6666666666666666,
             "#ed7953"
            ],
            [
             0.7777777777777778,
             "#fb9f3a"
            ],
            [
             0.8888888888888888,
             "#fdca26"
            ],
            [
             1,
             "#f0f921"
            ]
           ]
          },
          "colorway": [
           "#636efa",
           "#EF553B",
           "#00cc96",
           "#ab63fa",
           "#FFA15A",
           "#19d3f3",
           "#FF6692",
           "#B6E880",
           "#FF97FF",
           "#FECB52"
          ],
          "font": {
           "color": "#2a3f5f"
          },
          "geo": {
           "bgcolor": "white",
           "lakecolor": "white",
           "landcolor": "#E5ECF6",
           "showlakes": true,
           "showland": true,
           "subunitcolor": "white"
          },
          "hoverlabel": {
           "align": "left"
          },
          "hovermode": "closest",
          "mapbox": {
           "style": "light"
          },
          "paper_bgcolor": "white",
          "plot_bgcolor": "#E5ECF6",
          "polar": {
           "angularaxis": {
            "gridcolor": "white",
            "linecolor": "white",
            "ticks": ""
           },
           "bgcolor": "#E5ECF6",
           "radialaxis": {
            "gridcolor": "white",
            "linecolor": "white",
            "ticks": ""
           }
          },
          "scene": {
           "xaxis": {
            "backgroundcolor": "#E5ECF6",
            "gridcolor": "white",
            "gridwidth": 2,
            "linecolor": "white",
            "showbackground": true,
            "ticks": "",
            "zerolinecolor": "white"
           },
           "yaxis": {
            "backgroundcolor": "#E5ECF6",
            "gridcolor": "white",
            "gridwidth": 2,
            "linecolor": "white",
            "showbackground": true,
            "ticks": "",
            "zerolinecolor": "white"
           },
           "zaxis": {
            "backgroundcolor": "#E5ECF6",
            "gridcolor": "white",
            "gridwidth": 2,
            "linecolor": "white",
            "showbackground": true,
            "ticks": "",
            "zerolinecolor": "white"
           }
          },
          "shapedefaults": {
           "line": {
            "color": "#2a3f5f"
           }
          },
          "ternary": {
           "aaxis": {
            "gridcolor": "white",
            "linecolor": "white",
            "ticks": ""
           },
           "baxis": {
            "gridcolor": "white",
            "linecolor": "white",
            "ticks": ""
           },
           "bgcolor": "#E5ECF6",
           "caxis": {
            "gridcolor": "white",
            "linecolor": "white",
            "ticks": ""
           }
          },
          "title": {
           "x": 0.05
          },
          "xaxis": {
           "automargin": true,
           "gridcolor": "white",
           "linecolor": "white",
           "ticks": "",
           "title": {
            "standoff": 15
           },
           "zerolinecolor": "white",
           "zerolinewidth": 2
          },
          "yaxis": {
           "automargin": true,
           "gridcolor": "white",
           "linecolor": "white",
           "ticks": "",
           "title": {
            "standoff": 15
           },
           "zerolinecolor": "white",
           "zerolinewidth": 2
          }
         }
        },
        "title": {
         "text": "Flujo de ENTREGAS por actividad ➜ Estado final (Abandona / Sigue)"
        }
       }
      }
     },
     "metadata": {},
     "output_type": "display_data"
    }
   ],
   "source": [
    "import pandas as pd\n",
    "import matplotlib.pyplot as plt\n",
    "import plotly.graph_objects as go\n",
    "\n",
    "# Assuming DATA_PATH and df_entregas setup from your original code\n",
    "DATA_PATH = \"/home/carlos/Documentos/TFG/spark-workspace/data/datasets\"\n",
    "df_entregas = pd.read_parquet(f\"{DATA_PATH}/dataset_1.1.parquet\")\n",
    "\n",
    "df_entregas = df_entregas.drop(columns=[\"num_entregas\"])\n",
    "\n",
    "columns_entregas = df_entregas.columns.tolist()\n",
    "columns_entregas.remove(\"Test Complejidad\")\n",
    "columns_entregas.insert(-2, \"Test Complejidad\")\n",
    "df_entregas = df_entregas[columns_entregas]\n",
    "\n",
    "columns_entregas.remove(\"abandona\")\n",
    "columns_entregas.append(\"abandona\")\n",
    "df_entregas = df_entregas[columns_entregas]\n",
    "\n",
    "# ─────────────────── FUNCIONES ────────────────────\n",
    "def build_sankey_entregas_abandono(df):\n",
    "    \"\"\"\n",
    "    Crea nodos, enlaces y colores para:\n",
    "      actividades 0/1  →  'abandona' (0 = Sigue, 1 = Abandona)\n",
    "    \"\"\"\n",
    "    # Excluye 'userid' y 'abandona' de las columnas de actividad iniciales\n",
    "    activity_cols = [c for c in df.columns if c not in {\"userid\", \"abandona\"}]\n",
    "    \n",
    "    node_idx, labels = {}, []\n",
    "    source, target, value, link_colors = [], [], [], []\n",
    "    \n",
    "    # helper: traduce valor a etiqueta según la columna\n",
    "    def label(col, val):\n",
    "        if col == \"abandona\":\n",
    "            return \"Abandona\" if val == 1 else \"Sigue\"\n",
    "        return \"Entregó\" if val == 1 else \"No entregó\"\n",
    "    \n",
    "    # Define colores para los enlaces\n",
    "    color_abandona = \"rgba(255, 0, 0, 0.4)\"  # Rojo para abandono\n",
    "    color_sigue = \"rgba(0, 128, 0, 0.4)\"     # Verde para continuar\n",
    "    \n",
    "    # 1) registrar nodos para las actividades\n",
    "    for col in activity_cols:\n",
    "        for val in (1, 0): # 1 primero para que quede arriba\n",
    "            node_idx[(col, val)] = len(labels)\n",
    "            labels.append(f\"{col}<br>{label(col,val)}\")\n",
    "            \n",
    "    # 1.1) registrar nodos para el estado final de abandono\n",
    "    # Estos nodos deben aparecer al final del diagrama.\n",
    "    # Necesitamos asegurar que sus índices sean únicos y secuenciales después de las actividades.\n",
    "    # Las etiquetas \"Sigue\" y \"Abandona\" se añadirán una vez al final.\n",
    "    node_idx[(\"abandona\", 0)] = len(labels) # Sigue\n",
    "    labels.append(\"Sigue\")\n",
    "    node_idx[(\"abandona\", 1)] = len(labels) # Abandona\n",
    "    labels.append(\"Abandona\")\n",
    "\n",
    "    # 2) contar transiciones entre columnas consecutivas de actividades\n",
    "    for col1, col2 in zip(activity_cols[:-1], activity_cols[1:]):\n",
    "        counts = (\n",
    "            df.groupby([col1, col2, \"abandona\"]).size().reset_index(name=\"n\")\n",
    "        )\n",
    "        for _, row in counts.iterrows():\n",
    "            v1, v2, abandona_status, n = int(row[col1]), int(row[col2]), int(row[\"abandona\"]), int(row[\"n\"])\n",
    "            \n",
    "            source.append(node_idx[(col1, v1)])\n",
    "            target.append(node_idx[(col2, v2)])\n",
    "            value.append(n)\n",
    "            \n",
    "            if abandona_status == 1:\n",
    "                link_colors.append(color_abandona)\n",
    "            else:\n",
    "                link_colors.append(color_sigue)\n",
    "\n",
    "    # 3) Contar transiciones de la última actividad al estado final (abandona/sigue)\n",
    "    last_activity_col = activity_cols[-1]\n",
    "    counts_to_final = (\n",
    "        df.groupby([last_activity_col, \"abandona\"]).size().reset_index(name=\"n\")\n",
    "    )\n",
    "    for _, row in counts_to_final.iterrows():\n",
    "        v_last_act, abandona_status, n = int(row[last_activity_col]), int(row[\"abandona\"]), int(row[\"n\"])\n",
    "        \n",
    "        source.append(node_idx[(last_activity_col, v_last_act)])\n",
    "        target.append(node_idx[(\"abandona\", abandona_status)]) # Conecta con el nodo 'Abandona' o 'Sigue'\n",
    "        value.append(n)\n",
    "        \n",
    "        if abandona_status == 1:\n",
    "            link_colors.append(color_abandona)\n",
    "        else:\n",
    "            link_colors.append(color_sigue)\n",
    "    \n",
    "    return labels, source, target, value, link_colors\n",
    "\n",
    "def plot_sankey(labels, source, target, value, link_colors, title):\n",
    "    fig = go.Figure(go.Sankey(\n",
    "        arrangement=\"snap\",\n",
    "        node=dict(label=labels, pad=15, thickness=16,\n",
    "                  color=\"rgba(44,160,101,0.8)\"), # El color del nodo puede ser genérico o personalizado\n",
    "        link=dict(source=source, target=target, value=value,\n",
    "                  color=link_colors) # Usar los colores de los enlaces generados dinámicamente\n",
    "    ))\n",
    "    fig.update_layout(title_text=title, font_size=12, height=600)\n",
    "    fig.show()\n",
    "\n",
    "# ─────────────────── EJECUCIÓN ────────────────────\n",
    "labels, src, tgt, val, link_colors = build_sankey_entregas_abandono(df_entregas)\n",
    "\n",
    "plot_sankey(labels, src, tgt, val, link_colors,\n",
    "            \"Flujo de ENTREGAS por actividad ➜ Estado final (Abandona / Sigue)\")"
   ]
  }
 ],
 "metadata": {
  "kernelspec": {
   "display_name": "pyspark-env",
   "language": "python",
   "name": "python3"
  },
  "language_info": {
   "codemirror_mode": {
    "name": "ipython",
    "version": 3
   },
   "file_extension": ".py",
   "mimetype": "text/x-python",
   "name": "python",
   "nbconvert_exporter": "python",
   "pygments_lexer": "ipython3",
   "version": "3.10.16"
  }
 },
 "nbformat": 4,
 "nbformat_minor": 2
}
