{
 "cells": [
  {
   "cell_type": "markdown",
   "id": "884ad1cc",
   "metadata": {},
   "source": [
    "# Análisis Exploratorio de Datos (EDA) – Métricas de Cuestionarios"
   ]
  },
  {
   "cell_type": "markdown",
   "id": "ec017c68",
   "metadata": {},
   "source": [
    "Este notebook tiene como objetivo realizar un **Análisis Exploratorio de Datos (EDA)** sobre las métricas de interacción de los alumnos con los cuestionarios. El EDA es una etapa fundamental previa al modelado predictivo, que permite:"
   ]
  },
  {
   "cell_type": "markdown",
   "id": "00818e40",
   "metadata": {},
   "source": [
    "- Detectar errores y valores atípicos\n",
    "- Comprender mejor el comportamiento de los estudiantes\n",
    "- Identificar relaciones entre variables\n",
    "- Evaluar la calidad y utilidad de las métricas recogidas"
   ]
  },
  {
   "cell_type": "markdown",
   "id": "9b271bab",
   "metadata": {},
   "source": [
    "---"
   ]
  },
  {
   "cell_type": "markdown",
   "id": "5ed994f3",
   "metadata": {},
   "source": [
    "## 1. Carga de datos y resumen inicial"
   ]
  },
  {
   "cell_type": "code",
   "execution_count": 2,
   "id": "5d5e558b",
   "metadata": {},
   "outputs": [
    {
     "name": "stdout",
     "output_type": "stream",
     "text": [
      "<class 'pandas.core.frame.DataFrame'>\n",
      "RangeIndex: 198 entries, 0 to 197\n",
      "Data columns (total 8 columns):\n",
      " #   Column                        Non-Null Count  Dtype  \n",
      "---  ------                        --------------  -----  \n",
      " 0   userid                        198 non-null    object \n",
      " 1   quiz_total_submits            198 non-null    int64  \n",
      " 2   quizes_submitted_firstMonth   198 non-null    int64  \n",
      " 3   quizes_submitted_secondMonth  198 non-null    int64  \n",
      " 4   quizes_submitted_thirdMonth   198 non-null    int64  \n",
      " 5   quizes_submitted_fourthMonth  198 non-null    int64  \n",
      " 6   quiz_max_days_without_submit  198 non-null    int64  \n",
      " 7   quiz_attempt_ratio            198 non-null    float64\n",
      "dtypes: float64(1), int64(6), object(1)\n",
      "memory usage: 12.5+ KB\n"
     ]
    },
    {
     "data": {
      "text/html": [
       "<div>\n",
       "<style scoped>\n",
       "    .dataframe tbody tr th:only-of-type {\n",
       "        vertical-align: middle;\n",
       "    }\n",
       "\n",
       "    .dataframe tbody tr th {\n",
       "        vertical-align: top;\n",
       "    }\n",
       "\n",
       "    .dataframe thead th {\n",
       "        text-align: right;\n",
       "    }\n",
       "</style>\n",
       "<table border=\"1\" class=\"dataframe\">\n",
       "  <thead>\n",
       "    <tr style=\"text-align: right;\">\n",
       "      <th></th>\n",
       "      <th>quiz_total_submits</th>\n",
       "      <th>quizes_submitted_firstMonth</th>\n",
       "      <th>quizes_submitted_secondMonth</th>\n",
       "      <th>quizes_submitted_thirdMonth</th>\n",
       "      <th>quizes_submitted_fourthMonth</th>\n",
       "      <th>quiz_max_days_without_submit</th>\n",
       "      <th>quiz_attempt_ratio</th>\n",
       "    </tr>\n",
       "  </thead>\n",
       "  <tbody>\n",
       "    <tr>\n",
       "      <th>count</th>\n",
       "      <td>198.000000</td>\n",
       "      <td>198.000000</td>\n",
       "      <td>198.000000</td>\n",
       "      <td>198.000000</td>\n",
       "      <td>198.000000</td>\n",
       "      <td>198.000000</td>\n",
       "      <td>198.000000</td>\n",
       "    </tr>\n",
       "    <tr>\n",
       "      <th>mean</th>\n",
       "      <td>12.191919</td>\n",
       "      <td>6.207071</td>\n",
       "      <td>2.858586</td>\n",
       "      <td>2.898990</td>\n",
       "      <td>0.146465</td>\n",
       "      <td>27.065657</td>\n",
       "      <td>1.980189</td>\n",
       "    </tr>\n",
       "    <tr>\n",
       "      <th>std</th>\n",
       "      <td>6.844430</td>\n",
       "      <td>3.616453</td>\n",
       "      <td>3.004261</td>\n",
       "      <td>1.999974</td>\n",
       "      <td>1.044085</td>\n",
       "      <td>27.423928</td>\n",
       "      <td>1.538944</td>\n",
       "    </tr>\n",
       "    <tr>\n",
       "      <th>min</th>\n",
       "      <td>1.000000</td>\n",
       "      <td>0.000000</td>\n",
       "      <td>0.000000</td>\n",
       "      <td>0.000000</td>\n",
       "      <td>0.000000</td>\n",
       "      <td>-1.000000</td>\n",
       "      <td>1.000000</td>\n",
       "    </tr>\n",
       "    <tr>\n",
       "      <th>25%</th>\n",
       "      <td>7.000000</td>\n",
       "      <td>4.250000</td>\n",
       "      <td>1.000000</td>\n",
       "      <td>1.000000</td>\n",
       "      <td>0.000000</td>\n",
       "      <td>13.000000</td>\n",
       "      <td>1.200000</td>\n",
       "    </tr>\n",
       "    <tr>\n",
       "      <th>50%</th>\n",
       "      <td>12.000000</td>\n",
       "      <td>6.000000</td>\n",
       "      <td>3.000000</td>\n",
       "      <td>3.000000</td>\n",
       "      <td>0.000000</td>\n",
       "      <td>19.500000</td>\n",
       "      <td>1.500000</td>\n",
       "    </tr>\n",
       "    <tr>\n",
       "      <th>75%</th>\n",
       "      <td>15.000000</td>\n",
       "      <td>7.000000</td>\n",
       "      <td>4.000000</td>\n",
       "      <td>4.000000</td>\n",
       "      <td>0.000000</td>\n",
       "      <td>35.750000</td>\n",
       "      <td>2.250000</td>\n",
       "    </tr>\n",
       "    <tr>\n",
       "      <th>max</th>\n",
       "      <td>42.000000</td>\n",
       "      <td>24.000000</td>\n",
       "      <td>20.000000</td>\n",
       "      <td>12.000000</td>\n",
       "      <td>13.000000</td>\n",
       "      <td>256.000000</td>\n",
       "      <td>12.571429</td>\n",
       "    </tr>\n",
       "  </tbody>\n",
       "</table>\n",
       "</div>"
      ],
      "text/plain": [
       "       quiz_total_submits  quizes_submitted_firstMonth  \\\n",
       "count          198.000000                   198.000000   \n",
       "mean            12.191919                     6.207071   \n",
       "std              6.844430                     3.616453   \n",
       "min              1.000000                     0.000000   \n",
       "25%              7.000000                     4.250000   \n",
       "50%             12.000000                     6.000000   \n",
       "75%             15.000000                     7.000000   \n",
       "max             42.000000                    24.000000   \n",
       "\n",
       "       quizes_submitted_secondMonth  quizes_submitted_thirdMonth  \\\n",
       "count                    198.000000                   198.000000   \n",
       "mean                       2.858586                     2.898990   \n",
       "std                        3.004261                     1.999974   \n",
       "min                        0.000000                     0.000000   \n",
       "25%                        1.000000                     1.000000   \n",
       "50%                        3.000000                     3.000000   \n",
       "75%                        4.000000                     4.000000   \n",
       "max                       20.000000                    12.000000   \n",
       "\n",
       "       quizes_submitted_fourthMonth  quiz_max_days_without_submit  \\\n",
       "count                    198.000000                    198.000000   \n",
       "mean                       0.146465                     27.065657   \n",
       "std                        1.044085                     27.423928   \n",
       "min                        0.000000                     -1.000000   \n",
       "25%                        0.000000                     13.000000   \n",
       "50%                        0.000000                     19.500000   \n",
       "75%                        0.000000                     35.750000   \n",
       "max                       13.000000                    256.000000   \n",
       "\n",
       "       quiz_attempt_ratio  \n",
       "count          198.000000  \n",
       "mean             1.980189  \n",
       "std              1.538944  \n",
       "min              1.000000  \n",
       "25%              1.200000  \n",
       "50%              1.500000  \n",
       "75%              2.250000  \n",
       "max             12.571429  "
      ]
     },
     "execution_count": 2,
     "metadata": {},
     "output_type": "execute_result"
    }
   ],
   "source": [
    "\n",
    "import pandas as pd\n",
    "\n",
    "df = pd.read_csv(\"/home/carlos/Documentos/TFG/spark-workspace/data/datasets/metricas_quiz.csv\")\n",
    "df.info()\n",
    "df.describe()"
   ]
  },
  {
   "cell_type": "markdown",
   "id": "05056037",
   "metadata": {},
   "source": [
    "## 2. Distribuciones individuales"
   ]
  },
  {
   "cell_type": "markdown",
   "id": "a80f729a",
   "metadata": {},
   "source": [
    "Visualizamos la distribución de cada métrica para comprender su forma y detectar posibles sesgos o valores extremos."
   ]
  },
  {
   "cell_type": "code",
   "execution_count": null,
   "id": "91b823b5",
   "metadata": {},
   "outputs": [],
   "source": [
    "import matplotlib.pyplot as plt\n",
    "import seaborn as sns\n",
    "\n",
    "numeric_cols = ['quiz_total_submits', 'quizes_submitted_firstMonth', 'quizes_submitted_secondMonth', 'quizes_submitted_thirdMonth', 'quizes_submitted_fourthMonth', 'quiz_max_days_without_submit', 'quiz_attempt_ratio']\n",
    "for column in numeric_cols:\n",
    "    plt.figure(figsize=(6, 3))\n",
    "    sns.histplot(df[column], kde=True, bins=20)\n",
    "    plt.title(f\"Distribución de {column}\")\n",
    "    plt.xlabel(column)\n",
    "    plt.ylabel(\"Frecuencia\")\n",
    "    plt.tight_layout()\n",
    "    plt.show()\n"
   ]
  },
  {
   "cell_type": "markdown",
   "id": "483d98f8",
   "metadata": {},
   "source": [
    "## 3. Matriz de correlación"
   ]
  },
  {
   "cell_type": "markdown",
   "id": "3bc58d54",
   "metadata": {},
   "source": [
    "Exploramos posibles correlaciones lineales entre métricas que puedan indicar redundancia o relaciones interesantes."
   ]
  },
  {
   "cell_type": "code",
   "execution_count": null,
   "id": "a9c1f4bc",
   "metadata": {},
   "outputs": [],
   "source": [
    "plt.figure(figsize=(10, 6))\n",
    "sns.heatmap(df[numeric_cols].corr(), annot=True, cmap=\"coolwarm\", fmt=\".2f\")\n",
    "plt.title(\"Matriz de correlación entre métricas\")\n",
    "plt.show()\n"
   ]
  },
  {
   "cell_type": "markdown",
   "id": "51f76e12",
   "metadata": {},
   "source": [
    "## 4. Relaciones entre métricas clave"
   ]
  },
  {
   "cell_type": "markdown",
   "id": "5cd05b90",
   "metadata": {},
   "source": [
    "Observamos cómo se relacionan algunas métricas específicas entre sí."
   ]
  },
  {
   "cell_type": "code",
   "execution_count": null,
   "id": "1f8dda50",
   "metadata": {},
   "outputs": [],
   "source": [
    "sns.scatterplot(data=df, x=\"quiz_total_submits\", y=\"quiz_max_days_without_submit\")\n",
    "plt.title(\"Total de entregas vs Días máximos sin entregar\")\n",
    "plt.show()\n",
    "\n",
    "sns.scatterplot(data=df, x=\"quiz_attempt_ratio\", y=\"quiz_total_submits\")\n",
    "plt.title(\"Promedio de intentos por cuestionario vs Total entregas\")\n",
    "plt.show()"
   ]
  },
  {
   "cell_type": "markdown",
   "id": "8578aa5a",
   "metadata": {},
   "source": [
    "## 5. Análisis de valores extremos"
   ]
  },
  {
   "cell_type": "markdown",
   "id": "be27038b",
   "metadata": {},
   "source": [
    "Identificamos estudiantes con patrones de comportamiento fuera de lo común."
   ]
  },
  {
   "cell_type": "code",
   "execution_count": null,
   "id": "94f25900",
   "metadata": {},
   "outputs": [],
   "source": [
    "df[df[\"quiz_max_days_without_submit\"] > 90][[\"userid\", \"quiz_max_days_without_submit\"]]\n",
    "df[df[\"quiz_attempt_ratio\"] > 5][[\"userid\", \"quiz_attempt_ratio\"]]"
   ]
  },
  {
   "cell_type": "markdown",
   "id": "41220a28",
   "metadata": {},
   "source": [
    "## 6. Evolución temporal de entregas"
   ]
  },
  {
   "cell_type": "markdown",
   "id": "09f6a229",
   "metadata": {},
   "source": [
    "Evaluamos cómo evoluciona la actividad mes a mes a nivel agregado."
   ]
  },
  {
   "cell_type": "code",
   "execution_count": null,
   "id": "1a6275d6",
   "metadata": {},
   "outputs": [],
   "source": [
    "monthly_cols = [col for col in df.columns if \"submitted\" in col and \"Month\" in col]\n",
    "\n",
    "\n",
    "df[monthly_cols].sum().plot(kind=\"bar\", title=\"Total de entregas por mes\")\n",
    "plt.ylabel(\"Número de entregas\")\n",
    "plt.xticks(rotation=45)\n",
    "plt.tight_layout()\n",
    "plt.show()\n"
   ]
  },
  {
   "cell_type": "markdown",
   "id": "57fec2ef",
   "metadata": {},
   "source": [
    "## 7. Conclusiones preliminares"
   ]
  },
  {
   "cell_type": "markdown",
   "id": "0f9c4af1",
   "metadata": {},
   "source": [
    "A partir de este EDA se podrán tomar decisiones sobre:\n",
    "- Qué variables conservar o transformar\n",
    "- Posibles outliers a tratar\n",
    "- Métricas que podrían estar correlacionadas con el abandono"
   ]
  }
 ],
 "metadata": {
  "kernelspec": {
   "display_name": "pyspark-env",
   "language": "python",
   "name": "python3"
  },
  "language_info": {
   "codemirror_mode": {
    "name": "ipython",
    "version": 3
   },
   "file_extension": ".py",
   "mimetype": "text/x-python",
   "name": "python",
   "nbconvert_exporter": "python",
   "pygments_lexer": "ipython3",
   "version": "3.10.16"
  }
 },
 "nbformat": 4,
 "nbformat_minor": 5
}
